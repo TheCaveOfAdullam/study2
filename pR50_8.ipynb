{
  "nbformat": 4,
  "nbformat_minor": 0,
  "metadata": {
    "colab": {
      "provenance": [],
      "gpuType": "T4",
      "authorship_tag": "ABX9TyM5tAzW80vYAf1X68B2DQw/",
      "include_colab_link": true
    },
    "kernelspec": {
      "name": "python3",
      "display_name": "Python 3"
    },
    "language_info": {
      "name": "python"
    },
    "accelerator": "GPU"
  },
  "cells": [
    {
      "cell_type": "markdown",
      "metadata": {
        "id": "view-in-github",
        "colab_type": "text"
      },
      "source": [
        "<a href=\"https://colab.research.google.com/github/TheCaveOfAdullam/study2/blob/main/pR50_8.ipynb\" target=\"_parent\"><img src=\"https://colab.research.google.com/assets/colab-badge.svg\" alt=\"Open In Colab\"/></a>"
      ]
    },
    {
      "cell_type": "code",
      "source": [
        "from google.colab import drive\n",
        "drive.mount('/content/drive')"
      ],
      "metadata": {
        "colab": {
          "base_uri": "https://localhost:8080/"
        },
        "id": "FAZoe4pevmSw",
        "outputId": "7c1786ed-9592-4206-c9cd-43e6799afa0a"
      },
      "execution_count": null,
      "outputs": [
        {
          "output_type": "stream",
          "name": "stdout",
          "text": [
            "Mounted at /content/drive\n"
          ]
        }
      ]
    },
    {
      "cell_type": "code",
      "source": [
        "!pip install tensorflow_model_optimization\n",
        "\n",
        "import numpy as np\n",
        "import tensorflow as tf\n",
        "import tensorflow_model_optimization as tfmot\n",
        "from tensorflow.keras.preprocessing import image_dataset_from_directory\n",
        "from tensorflow.keras.applications import ResNet50\n",
        "from tensorflow.keras.layers import GlobalAveragePooling2D, Dense, Dropout\n",
        "from tensorflow.keras.callbacks import ReduceLROnPlateau\n",
        "from sklearn.metrics import confusion_matrix, classification_report, f1_score, precision_score, recall_score\n",
        "import matplotlib.pyplot as plt\n",
        "import time\n",
        "import os\n",
        "import tracemalloc"
      ],
      "metadata": {
        "colab": {
          "base_uri": "https://localhost:8080/"
        },
        "id": "RiK0to4evno5",
        "outputId": "5aedbacf-1de6-4145-cd12-9b47292c3229"
      },
      "execution_count": null,
      "outputs": [
        {
          "output_type": "stream",
          "name": "stdout",
          "text": [
            "Collecting tensorflow_model_optimization\n",
            "  Downloading tensorflow_model_optimization-0.8.0-py2.py3-none-any.whl (242 kB)\n",
            "\u001b[2K     \u001b[90m━━━━━━━━━━━━━━━━━━━━━━━━━━━━━━━━━━━━━━━━\u001b[0m \u001b[32m242.5/242.5 kB\u001b[0m \u001b[31m5.3 MB/s\u001b[0m eta \u001b[36m0:00:00\u001b[0m\n",
            "\u001b[?25hRequirement already satisfied: absl-py~=1.2 in /usr/local/lib/python3.10/dist-packages (from tensorflow_model_optimization) (1.4.0)\n",
            "Requirement already satisfied: dm-tree~=0.1.1 in /usr/local/lib/python3.10/dist-packages (from tensorflow_model_optimization) (0.1.8)\n",
            "Requirement already satisfied: numpy~=1.23 in /usr/local/lib/python3.10/dist-packages (from tensorflow_model_optimization) (1.25.2)\n",
            "Requirement already satisfied: six~=1.14 in /usr/local/lib/python3.10/dist-packages (from tensorflow_model_optimization) (1.16.0)\n",
            "Installing collected packages: tensorflow_model_optimization\n",
            "Successfully installed tensorflow_model_optimization-0.8.0\n"
          ]
        }
      ]
    },
    {
      "cell_type": "code",
      "source": [
        "# Define paths\n",
        "train_dir = '/content/drive/MyDrive/motor_data/train'\n",
        "validation_dir = '/content/drive/MyDrive/motor_data/validation'\n",
        "test_dir = '/content/drive/MyDrive/motor_data/test'\n",
        "\n",
        "# Set image size and batch size\n",
        "image_size = (224, 224)\n",
        "batch_size = 32\n",
        "\n",
        "# Load datasets\n",
        "train_dataset = image_dataset_from_directory(train_dir, image_size=image_size, batch_size=batch_size, label_mode='int')\n",
        "validation_dataset = image_dataset_from_directory(validation_dir, image_size=image_size, batch_size=batch_size, label_mode='int')\n",
        "test_dataset = image_dataset_from_directory(test_dir, image_size=image_size, batch_size=batch_size, label_mode='int')"
      ],
      "metadata": {
        "colab": {
          "base_uri": "https://localhost:8080/"
        },
        "id": "LiIsBuRivnrV",
        "outputId": "4797bf0f-eb31-4b63-e9e3-380354fe3513"
      },
      "execution_count": null,
      "outputs": [
        {
          "output_type": "stream",
          "name": "stdout",
          "text": [
            "Found 12004 files belonging to 4 classes.\n",
            "Found 4000 files belonging to 4 classes.\n",
            "Found 4004 files belonging to 4 classes.\n"
          ]
        }
      ]
    },
    {
      "cell_type": "code",
      "source": [
        "# Load ResNet50 model\n",
        "base_model = ResNet50(weights='imagenet', include_top=False, input_shape=(224, 224, 3))\n",
        "\n",
        "# Add new top layers\n",
        "model = tf.keras.Sequential([\n",
        "    base_model,\n",
        "    GlobalAveragePooling2D(),\n",
        "    Dense(512, activation='relu'),\n",
        "    Dropout(0.5),\n",
        "    Dense(4, activation='softmax')  # 4 classes: normal, fault_BB, fault_SM, fault_RI\n",
        "])\n",
        "\n",
        "# Define ReduceLROnPlateau callback\n",
        "reduce_lr = ReduceLROnPlateau(monitor='val_loss', factor=0.2, patience=5, min_lr=0.0001)\n",
        "\n",
        "# Compile model\n",
        "model.compile(optimizer=tf.keras.optimizers.Adam(learning_rate=0.001),\n",
        "              loss='sparse_categorical_crossentropy',\n",
        "              metrics=['accuracy'])"
      ],
      "metadata": {
        "colab": {
          "base_uri": "https://localhost:8080/"
        },
        "id": "2wb8v2ykvnuR",
        "outputId": "939d3eca-48bd-42f7-8f42-4600a40a4796"
      },
      "execution_count": null,
      "outputs": [
        {
          "output_type": "stream",
          "name": "stdout",
          "text": [
            "Downloading data from https://storage.googleapis.com/tensorflow/keras-applications/resnet/resnet50_weights_tf_dim_ordering_tf_kernels_notop.h5\n",
            "94765736/94765736 [==============================] - 3s 0us/step\n"
          ]
        }
      ]
    },
    {
      "cell_type": "code",
      "source": [
        "# Train the model\n",
        "history = model.fit(train_dataset, validation_data=validation_dataset, epochs=10, callbacks=[reduce_lr])"
      ],
      "metadata": {
        "colab": {
          "base_uri": "https://localhost:8080/"
        },
        "id": "IlmdaDkFvnwu",
        "outputId": "5bc8b56c-38aa-4882-b2b3-991f70580716"
      },
      "execution_count": null,
      "outputs": [
        {
          "output_type": "stream",
          "name": "stdout",
          "text": [
            "Epoch 1/10\n",
            "376/376 [==============================] - 4332s 11s/step - loss: 0.1111 - accuracy: 0.9858 - val_loss: 1.1682 - val_accuracy: 0.9433 - lr: 0.0010\n",
            "Epoch 2/10\n",
            "376/376 [==============================] - 262s 683ms/step - loss: 0.0058 - accuracy: 0.9989 - val_loss: 24.8174 - val_accuracy: 0.7458 - lr: 0.0010\n",
            "Epoch 3/10\n",
            "376/376 [==============================] - 262s 684ms/step - loss: 0.0273 - accuracy: 0.9940 - val_loss: 9.7571e-06 - val_accuracy: 1.0000 - lr: 0.0010\n",
            "Epoch 4/10\n",
            "376/376 [==============================] - 257s 670ms/step - loss: 3.3798e-04 - accuracy: 0.9999 - val_loss: 2.1457e-06 - val_accuracy: 1.0000 - lr: 0.0010\n",
            "Epoch 5/10\n",
            "376/376 [==============================] - 256s 671ms/step - loss: 5.6785e-04 - accuracy: 0.9999 - val_loss: 2.7358e-08 - val_accuracy: 1.0000 - lr: 0.0010\n",
            "Epoch 6/10\n",
            "376/376 [==============================] - 255s 671ms/step - loss: 1.7014e-05 - accuracy: 1.0000 - val_loss: 1.7047e-08 - val_accuracy: 1.0000 - lr: 0.0010\n",
            "Epoch 7/10\n",
            "376/376 [==============================] - 258s 677ms/step - loss: 0.0669 - accuracy: 0.9955 - val_loss: 196.6730 - val_accuracy: 0.2503 - lr: 0.0010\n",
            "Epoch 8/10\n",
            "376/376 [==============================] - 282s 743ms/step - loss: 0.0056 - accuracy: 0.9985 - val_loss: 0.0082 - val_accuracy: 0.9987 - lr: 0.0010\n",
            "Epoch 9/10\n",
            "376/376 [==============================] - 260s 680ms/step - loss: 0.0049 - accuracy: 0.9985 - val_loss: 0.0018 - val_accuracy: 0.9995 - lr: 2.0000e-04\n",
            "Epoch 10/10\n",
            "376/376 [==============================] - 284s 747ms/step - loss: 0.0012 - accuracy: 0.9998 - val_loss: 0.0016 - val_accuracy: 0.9995 - lr: 2.0000e-04\n"
          ]
        }
      ]
    },
    {
      "cell_type": "code",
      "source": [
        "# Initial evaluation\n",
        "val_loss, val_acc = model.evaluate(validation_dataset)\n",
        "print(f\"Initial Validation Loss: {val_loss}\")\n",
        "print(f\"Initial Validation Accuracy: {val_acc}\")"
      ],
      "metadata": {
        "colab": {
          "base_uri": "https://localhost:8080/"
        },
        "id": "O8ry0ndXvnzV",
        "outputId": "06bc8763-bd57-43a6-f7f0-36a11a501afb"
      },
      "execution_count": null,
      "outputs": [
        {
          "output_type": "stream",
          "name": "stdout",
          "text": [
            "125/125 [==============================] - 56s 428ms/step - loss: 0.0016 - accuracy: 0.9995\n",
            "Initial Validation Loss: 0.0015830086776986718\n",
            "Initial Validation Accuracy: 0.9994999766349792\n"
          ]
        }
      ]
    },
    {
      "cell_type": "code",
      "source": [
        "test_loss, test_acc = model.evaluate(test_dataset)\n",
        "print(f\"Initial Test Loss: {test_loss}\")\n",
        "print(f\"Initial Test Accuracy: {test_acc}\")"
      ],
      "metadata": {
        "colab": {
          "base_uri": "https://localhost:8080/"
        },
        "id": "IbohQtZ4vn2J",
        "outputId": "967f2ccf-177a-422b-9f4b-b933e65d9baf"
      },
      "execution_count": null,
      "outputs": [
        {
          "output_type": "stream",
          "name": "stdout",
          "text": [
            "126/126 [==============================] - 1199s 9s/step - loss: 0.0015 - accuracy: 0.9998\n",
            "Initial Test Loss: 0.0014547008322551847\n",
            "Initial Test Accuracy: 0.9997502565383911\n"
          ]
        }
      ]
    },
    {
      "cell_type": "code",
      "source": [
        "# Save initial model and measure size\n",
        "model.save('original_motor_fault_classification_model.h5')\n",
        "original_model_size = os.path.getsize('original_motor_fault_classification_model.h5')\n",
        "print(f\"Original Model Size: {original_model_size / (1024 * 1024):.2f} MB\")"
      ],
      "metadata": {
        "colab": {
          "base_uri": "https://localhost:8080/"
        },
        "id": "3DQuzGmBvn45",
        "outputId": "b5fcf9e3-a004-4c4e-b071-17af0d1f324c"
      },
      "execution_count": null,
      "outputs": [
        {
          "output_type": "stream",
          "name": "stderr",
          "text": [
            "/usr/local/lib/python3.10/dist-packages/keras/src/engine/training.py:3103: UserWarning: You are saving your model as an HDF5 file via `model.save()`. This file format is considered legacy. We recommend using instead the native Keras format, e.g. `model.save('my_model.keras')`.\n",
            "  saving_api.save_model(\n"
          ]
        },
        {
          "output_type": "stream",
          "name": "stdout",
          "text": [
            "Original Model Size: 282.31 MB\n"
          ]
        }
      ]
    },
    {
      "cell_type": "code",
      "source": [
        "# Measure initial inference time and memory usage\n",
        "start_time = time.time()\n",
        "tracemalloc.start()\n",
        "y_true, y_pred = [], []\n",
        "for batch in test_dataset:\n",
        "    images, labels = batch\n",
        "    y_true.extend(labels.numpy())\n",
        "    predictions = model.predict(images)\n",
        "    y_pred.extend(np.argmax(predictions, axis=1))\n",
        "end_time = time.time()\n",
        "current, peak = tracemalloc.get_traced_memory()\n",
        "tracemalloc.stop()\n",
        "original_inference_time = end_time - start_time\n",
        "original_peak_memory = peak / (1024 * 1024)\n",
        "print(f\"Original Inference Time: {original_inference_time:.2f} seconds\")\n",
        "print(f\"Original Peak Memory Usage: {original_peak_memory:.2f} MB\")"
      ],
      "metadata": {
        "colab": {
          "base_uri": "https://localhost:8080/"
        },
        "id": "b3M9EuVNvn68",
        "outputId": "92210a99-d4df-489d-a4c9-473d5e7231e8"
      },
      "execution_count": null,
      "outputs": [
        {
          "output_type": "stream",
          "name": "stdout",
          "text": [
            "1/1 [==============================] - 2s 2s/step\n",
            "1/1 [==============================] - 0s 62ms/step\n",
            "1/1 [==============================] - 0s 76ms/step\n",
            "1/1 [==============================] - 0s 76ms/step\n",
            "1/1 [==============================] - 0s 52ms/step\n",
            "1/1 [==============================] - 0s 107ms/step\n",
            "1/1 [==============================] - 0s 91ms/step\n",
            "1/1 [==============================] - 0s 65ms/step\n",
            "1/1 [==============================] - 0s 145ms/step\n",
            "1/1 [==============================] - 0s 112ms/step\n",
            "1/1 [==============================] - 0s 144ms/step\n",
            "1/1 [==============================] - 0s 114ms/step\n",
            "1/1 [==============================] - 0s 97ms/step\n",
            "1/1 [==============================] - 0s 68ms/step\n",
            "1/1 [==============================] - 0s 76ms/step\n",
            "1/1 [==============================] - 0s 68ms/step\n",
            "1/1 [==============================] - 0s 110ms/step\n",
            "1/1 [==============================] - 0s 87ms/step\n",
            "1/1 [==============================] - 0s 70ms/step\n",
            "1/1 [==============================] - 0s 112ms/step\n",
            "1/1 [==============================] - 0s 102ms/step\n",
            "1/1 [==============================] - 0s 81ms/step\n",
            "1/1 [==============================] - 0s 84ms/step\n",
            "1/1 [==============================] - 0s 131ms/step\n",
            "1/1 [==============================] - 0s 63ms/step\n",
            "1/1 [==============================] - 0s 75ms/step\n",
            "1/1 [==============================] - 0s 77ms/step\n",
            "1/1 [==============================] - 0s 77ms/step\n",
            "1/1 [==============================] - 0s 68ms/step\n",
            "1/1 [==============================] - 0s 81ms/step\n",
            "1/1 [==============================] - 0s 66ms/step\n",
            "1/1 [==============================] - 0s 66ms/step\n",
            "1/1 [==============================] - 0s 55ms/step\n",
            "1/1 [==============================] - 0s 77ms/step\n",
            "1/1 [==============================] - 0s 81ms/step\n",
            "1/1 [==============================] - 0s 110ms/step\n",
            "1/1 [==============================] - 0s 124ms/step\n",
            "1/1 [==============================] - 0s 139ms/step\n",
            "1/1 [==============================] - 0s 116ms/step\n",
            "1/1 [==============================] - 0s 168ms/step\n",
            "1/1 [==============================] - 0s 159ms/step\n",
            "1/1 [==============================] - 0s 54ms/step\n",
            "1/1 [==============================] - 0s 54ms/step\n",
            "1/1 [==============================] - 0s 65ms/step\n",
            "1/1 [==============================] - 0s 78ms/step\n",
            "1/1 [==============================] - 0s 46ms/step\n",
            "1/1 [==============================] - 0s 48ms/step\n",
            "1/1 [==============================] - 0s 60ms/step\n",
            "1/1 [==============================] - 0s 91ms/step\n",
            "1/1 [==============================] - 0s 63ms/step\n",
            "1/1 [==============================] - 0s 68ms/step\n",
            "1/1 [==============================] - 0s 74ms/step\n",
            "1/1 [==============================] - 0s 72ms/step\n",
            "1/1 [==============================] - 0s 55ms/step\n",
            "1/1 [==============================] - 0s 61ms/step\n",
            "1/1 [==============================] - 0s 79ms/step\n",
            "1/1 [==============================] - 0s 47ms/step\n",
            "1/1 [==============================] - 0s 53ms/step\n",
            "1/1 [==============================] - 0s 67ms/step\n",
            "1/1 [==============================] - 0s 90ms/step\n",
            "1/1 [==============================] - 0s 115ms/step\n",
            "1/1 [==============================] - 0s 90ms/step\n",
            "1/1 [==============================] - 0s 82ms/step\n",
            "1/1 [==============================] - 0s 99ms/step\n",
            "1/1 [==============================] - 0s 132ms/step\n",
            "1/1 [==============================] - 0s 174ms/step\n",
            "1/1 [==============================] - 0s 106ms/step\n",
            "1/1 [==============================] - 0s 119ms/step\n",
            "1/1 [==============================] - 0s 111ms/step\n",
            "1/1 [==============================] - 0s 112ms/step\n",
            "1/1 [==============================] - 0s 57ms/step\n",
            "1/1 [==============================] - 0s 80ms/step\n",
            "1/1 [==============================] - 0s 67ms/step\n",
            "1/1 [==============================] - 0s 81ms/step\n",
            "1/1 [==============================] - 0s 60ms/step\n",
            "1/1 [==============================] - 0s 72ms/step\n",
            "1/1 [==============================] - 0s 62ms/step\n",
            "1/1 [==============================] - 0s 63ms/step\n",
            "1/1 [==============================] - 0s 59ms/step\n",
            "1/1 [==============================] - 0s 99ms/step\n",
            "1/1 [==============================] - 0s 57ms/step\n",
            "1/1 [==============================] - 0s 62ms/step\n",
            "1/1 [==============================] - 0s 76ms/step\n",
            "1/1 [==============================] - 0s 50ms/step\n",
            "1/1 [==============================] - 0s 79ms/step\n",
            "1/1 [==============================] - 0s 50ms/step\n",
            "1/1 [==============================] - 0s 72ms/step\n",
            "1/1 [==============================] - 0s 66ms/step\n",
            "1/1 [==============================] - 0s 115ms/step\n",
            "1/1 [==============================] - 0s 52ms/step\n",
            "1/1 [==============================] - 0s 80ms/step\n",
            "1/1 [==============================] - 0s 67ms/step\n",
            "1/1 [==============================] - 0s 112ms/step\n",
            "1/1 [==============================] - 0s 142ms/step\n",
            "1/1 [==============================] - 0s 77ms/step\n",
            "1/1 [==============================] - 0s 134ms/step\n",
            "1/1 [==============================] - 0s 136ms/step\n",
            "1/1 [==============================] - 0s 146ms/step\n",
            "1/1 [==============================] - 0s 65ms/step\n",
            "1/1 [==============================] - 0s 88ms/step\n",
            "1/1 [==============================] - 0s 91ms/step\n",
            "1/1 [==============================] - 0s 72ms/step\n",
            "1/1 [==============================] - 0s 78ms/step\n",
            "1/1 [==============================] - 0s 56ms/step\n",
            "1/1 [==============================] - 0s 55ms/step\n",
            "1/1 [==============================] - 0s 77ms/step\n",
            "1/1 [==============================] - 0s 93ms/step\n",
            "1/1 [==============================] - 0s 111ms/step\n",
            "1/1 [==============================] - 0s 98ms/step\n",
            "1/1 [==============================] - 0s 86ms/step\n",
            "1/1 [==============================] - 0s 89ms/step\n",
            "1/1 [==============================] - 0s 57ms/step\n",
            "1/1 [==============================] - 0s 79ms/step\n",
            "1/1 [==============================] - 0s 77ms/step\n",
            "1/1 [==============================] - 0s 55ms/step\n",
            "1/1 [==============================] - 0s 117ms/step\n",
            "1/1 [==============================] - 0s 34ms/step\n",
            "1/1 [==============================] - 0s 36ms/step\n",
            "1/1 [==============================] - 0s 39ms/step\n",
            "1/1 [==============================] - 0s 34ms/step\n",
            "1/1 [==============================] - 0s 36ms/step\n",
            "1/1 [==============================] - 0s 35ms/step\n",
            "1/1 [==============================] - 0s 35ms/step\n",
            "1/1 [==============================] - 0s 34ms/step\n",
            "1/1 [==============================] - 0s 63ms/step\n",
            "1/1 [==============================] - 3s 3s/step\n",
            "Original Inference Time: 81.92 seconds\n",
            "Original Peak Memory Usage: 5.83 MB\n"
          ]
        }
      ]
    },
    {
      "cell_type": "code",
      "source": [
        "# Initial model evaluation metrics\n",
        "conf_matrix_original = confusion_matrix(y_true, y_pred)\n",
        "print(\"Confusion Matrix (Original):\")\n",
        "print(conf_matrix_original)\n",
        "\n",
        "print(\"Classification Report (Original):\")\n",
        "print(classification_report(y_true, y_pred, target_names=['normal', 'fault_BB', 'fault_SM', 'fault_RI']))"
      ],
      "metadata": {
        "colab": {
          "base_uri": "https://localhost:8080/"
        },
        "id": "l35NhHVTvp_m",
        "outputId": "cb9d1ed9-69ff-4656-a5cd-7e7d54b1e7c8"
      },
      "execution_count": null,
      "outputs": [
        {
          "output_type": "stream",
          "name": "stdout",
          "text": [
            "Confusion Matrix (Original):\n",
            "[[1003    0    0    1]\n",
            " [   0 1000    0    0]\n",
            " [   0    0 1000    0]\n",
            " [   0    0    0 1000]]\n",
            "Classification Report (Original):\n",
            "              precision    recall  f1-score   support\n",
            "\n",
            "      normal       1.00      1.00      1.00      1004\n",
            "    fault_BB       1.00      1.00      1.00      1000\n",
            "    fault_SM       1.00      1.00      1.00      1000\n",
            "    fault_RI       1.00      1.00      1.00      1000\n",
            "\n",
            "    accuracy                           1.00      4004\n",
            "   macro avg       1.00      1.00      1.00      4004\n",
            "weighted avg       1.00      1.00      1.00      4004\n",
            "\n"
          ]
        }
      ]
    },
    {
      "cell_type": "code",
      "source": [
        "# Visualize initial confusion matrix\n",
        "plt.figure(figsize=(8, 8))\n",
        "plt.imshow(conf_matrix_original, interpolation='nearest', cmap=plt.cm.Blues)\n",
        "plt.title('Confusion Matrix (Original)')\n",
        "plt.colorbar()\n",
        "tick_marks = np.arange(4)\n",
        "plt.xticks(tick_marks, ['Normal', 'Fault_BB', 'Fault_SM', 'Fault_RI'], rotation=45)\n",
        "plt.yticks(tick_marks, ['Normal', 'Fault_BB', 'Fault_SM', 'Fault_RI'])\n",
        "\n",
        "fmt = 'd'\n",
        "thresh = conf_matrix_original.max() / 2.\n",
        "for i, j in np.ndindex(conf_matrix_original.shape):\n",
        "    plt.text(j, i, format(conf_matrix_original[i, j], fmt),\n",
        "             ha=\"center\", va=\"center\",\n",
        "             color=\"white\" if conf_matrix_original[i, j] > thresh else \"black\")\n",
        "\n",
        "plt.ylabel('True label')\n",
        "plt.xlabel('Predicted label')\n",
        "plt.tight_layout()\n",
        "plt.show()"
      ],
      "metadata": {
        "colab": {
          "base_uri": "https://localhost:8080/",
          "height": 54
        },
        "id": "HJsukn6ivqCJ",
        "outputId": "4ca88625-b1b3-44c5-82eb-bc7aefc0543c"
      },
      "execution_count": null,
      "outputs": [
        {
          "output_type": "display_data",
          "data": {
            "text/plain": [
              "<Figure size 800x800 with 2 Axes>"
            ],
            "image/png": "[encoded data removed]"
          },
          "metadata": {}
        }
      ]
    },
    {
      "cell_type": "code",
      "source": [
        "# Calculate additional initial metrics\n",
        "f1_original = f1_score(y_true, y_pred, average='weighted')\n",
        "precision_original = precision_score(y_true, y_pred, average='weighted')\n",
        "recall_original = recall_score(y_true, y_pred, average='weighted')"
      ],
      "metadata": {
        "id": "QhuCK_TyvqEg"
      },
      "execution_count": null,
      "outputs": []
    },
    {
      "cell_type": "code",
      "source": [
        "print(f\"Original F1 Score: {f1_original:.2f}\")\n",
        "print(f\"Original Precision: {precision_original:.2f}\")\n",
        "print(f\"Original Recall: {recall_original:.2f}\")"
      ],
      "metadata": {
        "colab": {
          "base_uri": "https://localhost:8080/"
        },
        "id": "hGyDmq1FvqHw",
        "outputId": "92937c42-78f6-4ee5-8e3d-bc265690c797"
      },
      "execution_count": null,
      "outputs": [
        {
          "output_type": "stream",
          "name": "stdout",
          "text": [
            "Original F1 Score: 1.00\n",
            "Original Precision: 1.00\n",
            "Original Recall: 1.00\n"
          ]
        }
      ]
    },
    {
      "cell_type": "code",
      "source": [
        "# Structured Pruning 적용\n",
        "def apply_structured_pruning(model, pruning_percentage=70):\n",
        "    for layer in model.layers:\n",
        "        if isinstance(layer, tf.keras.layers.Conv2D):\n",
        "            weights, biases = layer.get_weights()\n",
        "            num_filters = weights.shape[-1]\n",
        "            num_prune = int(num_filters * pruning_percentage / 100)\n",
        "\n",
        "            # Compute the L1 norm of the filters\n",
        "            filter_norms = np.sum(np.abs(weights), axis=(0, 1, 2))\n",
        "            prune_indices = np.argsort(filter_norms)[:num_prune]\n",
        "\n",
        "            # Set the weights of the pruned filters to zero\n",
        "            for idx in prune_indices:\n",
        "                weights[:, :, :, idx] = 0\n",
        "\n",
        "            layer.set_weights([weights, biases])\n",
        "\n",
        "apply_structured_pruning(model, pruning_percentage=70)\n",
        "\n",
        "# Recompile pruned model\n",
        "model.compile(optimizer=tf.keras.optimizers.Adam(learning_rate=0.001),\n",
        "              loss='sparse_categorical_crossentropy',\n",
        "              metrics=['accuracy'])"
      ],
      "metadata": {
        "id": "4XXpjWt1vqJ4"
      },
      "execution_count": null,
      "outputs": []
    },
    {
      "cell_type": "code",
      "source": [
        "# Train pruned model\n",
        "history_pruned = model.fit(train_dataset, validation_data=validation_dataset, epochs=10, callbacks=[reduce_lr])"
      ],
      "metadata": {
        "colab": {
          "base_uri": "https://localhost:8080/"
        },
        "id": "UDTEzXG0vqMW",
        "outputId": "129142cf-7b0d-4123-c3ba-a00d9d4f6dac"
      },
      "execution_count": null,
      "outputs": [
        {
          "output_type": "stream",
          "name": "stdout",
          "text": [
            "Epoch 1/10\n",
            "376/376 [==============================] - 322s 754ms/step - loss: 0.0018 - accuracy: 0.9994 - val_loss: 1.6627e-04 - val_accuracy: 1.0000 - lr: 0.0010\n",
            "Epoch 2/10\n",
            "376/376 [==============================] - 284s 746ms/step - loss: 0.0041 - accuracy: 0.9998 - val_loss: 7.1695e-05 - val_accuracy: 1.0000 - lr: 0.0010\n",
            "Epoch 3/10\n",
            "376/376 [==============================] - 255s 671ms/step - loss: 0.0212 - accuracy: 0.9958 - val_loss: 6.9849 - val_accuracy: 0.7088 - lr: 0.0010\n",
            "Epoch 4/10\n",
            "376/376 [==============================] - 255s 670ms/step - loss: 0.0817 - accuracy: 0.9968 - val_loss: 1.6966e-04 - val_accuracy: 1.0000 - lr: 0.0010\n",
            "Epoch 5/10\n",
            "376/376 [==============================] - 261s 681ms/step - loss: 0.0089 - accuracy: 0.9985 - val_loss: 5.5052e-05 - val_accuracy: 1.0000 - lr: 0.0010\n",
            "Epoch 6/10\n",
            "376/376 [==============================] - 282s 741ms/step - loss: 0.0111 - accuracy: 0.9998 - val_loss: 9.0763e-04 - val_accuracy: 0.9995 - lr: 0.0010\n",
            "Epoch 7/10\n",
            "376/376 [==============================] - 257s 676ms/step - loss: 0.0118 - accuracy: 0.9977 - val_loss: 5.0123e-04 - val_accuracy: 0.9998 - lr: 0.0010\n",
            "Epoch 8/10\n",
            "376/376 [==============================] - 256s 673ms/step - loss: 0.0032 - accuracy: 0.9996 - val_loss: 4.6460e-04 - val_accuracy: 0.9998 - lr: 0.0010\n",
            "Epoch 9/10\n",
            "376/376 [==============================] - 258s 673ms/step - loss: 0.0071 - accuracy: 0.9989 - val_loss: 4.7723e-04 - val_accuracy: 0.9998 - lr: 0.0010\n",
            "Epoch 10/10\n",
            "376/376 [==============================] - 257s 675ms/step - loss: 0.0011 - accuracy: 0.9998 - val_loss: 2.1809e-04 - val_accuracy: 1.0000 - lr: 0.0010\n"
          ]
        }
      ]
    },
    {
      "cell_type": "code",
      "source": [
        "# Evaluate pruned model\n",
        "val_loss, val_acc = model.evaluate(validation_dataset)\n",
        "print(f\"Pruned Validation Loss: {val_loss}\")\n",
        "print(f\"Pruned Validation Accuracy: {val_acc}\")"
      ],
      "metadata": {
        "colab": {
          "base_uri": "https://localhost:8080/"
        },
        "id": "PvSlkmmmvqO1",
        "outputId": "4db9bdf6-5c7c-4acd-d0a9-87fc95e52df7"
      },
      "execution_count": null,
      "outputs": [
        {
          "output_type": "stream",
          "name": "stdout",
          "text": [
            "125/125 [==============================] - 55s 418ms/step - loss: 2.1809e-04 - accuracy: 1.0000\n",
            "Pruned Validation Loss: 0.00021808886958751827\n",
            "Pruned Validation Accuracy: 1.0\n"
          ]
        }
      ]
    },
    {
      "cell_type": "code",
      "source": [
        "test_loss, test_acc = model.evaluate(test_dataset)\n",
        "print(f\"Pruned Test Loss: {test_loss}\")\n",
        "print(f\"Pruned Test Accuracy: {test_acc}\")"
      ],
      "metadata": {
        "colab": {
          "base_uri": "https://localhost:8080/"
        },
        "id": "LaGhQULjvqRM",
        "outputId": "0116bde5-7206-44dc-fe4d-fff74e4d34f5"
      },
      "execution_count": null,
      "outputs": [
        {
          "output_type": "stream",
          "name": "stdout",
          "text": [
            "126/126 [==============================] - 56s 409ms/step - loss: 6.0746e-05 - accuracy: 1.0000\n",
            "Pruned Test Loss: 6.074616248952225e-05\n",
            "Pruned Test Accuracy: 1.0\n"
          ]
        }
      ]
    },
    {
      "cell_type": "code",
      "source": [
        "# Strip pruning wrappers and prepare model for QAT\n",
        "model_for_qat = tfmot.sparsity.keras.strip_pruning(model)\n",
        "\n",
        "# Apply quantization aware training\n",
        "quantize_model = tfmot.quantization.keras.quantize_model\n",
        "qat_model = quantize_model(model_for_qat)\n",
        "\n",
        "# Recompile QAT model\n",
        "qat_model.compile(optimizer=tf.keras.optimizers.Adam(learning_rate=0.001),\n",
        "                  loss='sparse_categorical_crossentropy',\n",
        "                  metrics=['accuracy'])"
      ],
      "metadata": {
        "colab": {
          "base_uri": "https://localhost:8080/",
          "height": 367
        },
        "id": "avUc05EHvqTy",
        "outputId": "c39965ab-aa50-4a30-98dc-e9b7bbfd1682"
      },
      "execution_count": null,
      "outputs": [
        {
          "output_type": "error",
          "ename": "ValueError",
          "evalue": "('Expected model to be a `keras.Model` instance but got: ', <keras.src.engine.sequential.Sequential object at 0x7b3f445622c0>)",
          "traceback": [
            "\u001b[0;31m---------------------------------------------------------------------------\u001b[0m",
            "\u001b[0;31mValueError\u001b[0m                                Traceback (most recent call last)",
            "\u001b[0;32m<ipython-input-22-03946df44177>\u001b[0m in \u001b[0;36m<cell line: 2>\u001b[0;34m()\u001b[0m\n\u001b[1;32m      1\u001b[0m \u001b[0;31m# Strip pruning wrappers and prepare model for QAT\u001b[0m\u001b[0;34m\u001b[0m\u001b[0;34m\u001b[0m\u001b[0m\n\u001b[0;32m----> 2\u001b[0;31m \u001b[0mmodel_for_qat\u001b[0m \u001b[0;34m=\u001b[0m \u001b[0mtfmot\u001b[0m\u001b[0;34m.\u001b[0m\u001b[0msparsity\u001b[0m\u001b[0;34m.\u001b[0m\u001b[0mkeras\u001b[0m\u001b[0;34m.\u001b[0m\u001b[0mstrip_pruning\u001b[0m\u001b[0;34m(\u001b[0m\u001b[0mmodel\u001b[0m\u001b[0;34m)\u001b[0m\u001b[0;34m\u001b[0m\u001b[0;34m\u001b[0m\u001b[0m\n\u001b[0m\u001b[1;32m      3\u001b[0m \u001b[0;34m\u001b[0m\u001b[0m\n\u001b[1;32m      4\u001b[0m \u001b[0;31m# Apply quantization aware training\u001b[0m\u001b[0;34m\u001b[0m\u001b[0;34m\u001b[0m\u001b[0m\n\u001b[1;32m      5\u001b[0m \u001b[0mquantize_model\u001b[0m \u001b[0;34m=\u001b[0m \u001b[0mtfmot\u001b[0m\u001b[0;34m.\u001b[0m\u001b[0mquantization\u001b[0m\u001b[0;34m.\u001b[0m\u001b[0mkeras\u001b[0m\u001b[0;34m.\u001b[0m\u001b[0mquantize_model\u001b[0m\u001b[0;34m\u001b[0m\u001b[0;34m\u001b[0m\u001b[0m\n",
            "\u001b[0;32m/usr/local/lib/python3.10/dist-packages/tensorflow_model_optimization/python/core/sparsity/keras/prune.py\u001b[0m in \u001b[0;36mstrip_pruning\u001b[0;34m(model)\u001b[0m\n\u001b[1;32m    251\u001b[0m \u001b[0;34m\u001b[0m\u001b[0m\n\u001b[1;32m    252\u001b[0m   \u001b[0;32mif\u001b[0m \u001b[0;32mnot\u001b[0m \u001b[0misinstance\u001b[0m\u001b[0;34m(\u001b[0m\u001b[0mmodel\u001b[0m\u001b[0;34m,\u001b[0m \u001b[0mkeras\u001b[0m\u001b[0;34m.\u001b[0m\u001b[0mModel\u001b[0m\u001b[0;34m)\u001b[0m\u001b[0;34m:\u001b[0m\u001b[0;34m\u001b[0m\u001b[0;34m\u001b[0m\u001b[0m\n\u001b[0;32m--> 253\u001b[0;31m     raise ValueError(\n\u001b[0m\u001b[1;32m    254\u001b[0m         \u001b[0;34m'Expected model to be a `keras.Model` instance but got: '\u001b[0m\u001b[0;34m,\u001b[0m \u001b[0mmodel\u001b[0m\u001b[0;34m\u001b[0m\u001b[0;34m\u001b[0m\u001b[0m\n\u001b[1;32m    255\u001b[0m     )\n",
            "\u001b[0;31mValueError\u001b[0m: ('Expected model to be a `keras.Model` instance but got: ', <keras.src.engine.sequential.Sequential object at 0x7b3f445622c0>)"
          ]
        }
      ]
    },
    {
      "cell_type": "code",
      "source": [
        "# Train QAT model\n",
        "history_qat = qat_model.fit(train_dataset, validation_data=validation_dataset, epochs=10, callbacks=[reduce_lr])"
      ],
      "metadata": {
        "id": "S71NevTBvqWa"
      },
      "execution_count": null,
      "outputs": []
    },
    {
      "cell_type": "code",
      "source": [
        "# Evaluate QAT model\n",
        "val_loss, val_acc = qat_model.evaluate(validation_dataset)\n",
        "print(f\"QAT Validation Loss: {val_loss}\")\n",
        "print(f\"QAT Validation Accuracy: {val_acc}\")"
      ],
      "metadata": {
        "id": "qkSUZX63vqZG"
      },
      "execution_count": null,
      "outputs": []
    },
    {
      "cell_type": "code",
      "source": [
        "test_loss, test_acc = qat_model.evaluate(test_dataset)\n",
        "print(f\"QAT Test Loss: {test_loss}\")\n",
        "print(f\"QAT Test Accuracy: {test_acc}\")"
      ],
      "metadata": {
        "id": "c_kkIAGQvqb0"
      },
      "execution_count": null,
      "outputs": []
    },
    {
      "cell_type": "code",
      "source": [
        "# Convert to TensorFlow Lite model with quantization\n",
        "converter = tf.lite.TFLiteConverter.from_keras_model(qat_model)\n",
        "converter.optimizations = [tf.lite.Optimize.DEFAULT]\n",
        "tflite_model = converter.convert()"
      ],
      "metadata": {
        "id": "J2PaCfKyvqeh"
      },
      "execution_count": null,
      "outputs": []
    },
    {
      "cell_type": "code",
      "source": [
        "# Save the TFLite model\n",
        "with open('quantized_motor_fault_classification_model.tflite', 'wb') as f:\n",
        "    f.write(tflite_model)\n",
        "tflite_model_size = os.path.getsize('quantized_motor_fault_classification_model.tflite')\n",
        "print(f\"TFLite Model Size: {tflite_model_size / (1024 * 1024):.2f} MB\")"
      ],
      "metadata": {
        "id": "GXWvuoGivqhF"
      },
      "execution_count": null,
      "outputs": []
    },
    {
      "cell_type": "code",
      "source": [
        "# Measure TFLite model inference time and memory usage\n",
        "interpreter = tf.lite.Interpreter(model_path='quantized_motor_fault_classification_model.tflite')\n",
        "interpreter.allocate_tensors()\n",
        "\n",
        "input_details = interpreter.get_input_details()\n",
        "output_details = interpreter.get_output_details()"
      ],
      "metadata": {
        "id": "K5sMhhOovqjn"
      },
      "execution_count": null,
      "outputs": []
    },
    {
      "cell_type": "code",
      "source": [
        "# Preprocess input\n",
        "def preprocess_image(image):\n",
        "    image = tf.image.resize(image, image_size)\n",
        "    image = tf.cast(image, tf.float32)\n",
        "    image = image / 255.0  # Normalize to [0, 1]\n",
        "    return image\n",
        "\n",
        "start_time = time.time()\n",
        "tracemalloc.start()\n",
        "y_true_tflite, y_pred_tflite = [], []\n",
        "for batch in test_dataset:\n",
        "    images, labels = batch\n",
        "    y_true_tflite.extend(labels.numpy())\n",
        "    for image in images:\n",
        "        preprocessed_image = preprocess_image(image).numpy()\n",
        "        preprocessed_image = np.expand_dims(preprocessed_image, axis=0)\n",
        "        interpreter.set_tensor(input_details[0]['index'], preprocessed_image)\n",
        "        interpreter.invoke()\n",
        "        output_data = interpreter.get_tensor(output_details[0]['index'])\n",
        "        y_pred_tflite.append(np.argmax(output_data))\n",
        "\n",
        "end_time = time.time()\n",
        "current, peak = tracemalloc.get_traced_memory()\n",
        "tracemalloc.stop()\n",
        "tflite_inference_time = end_time - start_time\n",
        "tflite_peak_memory = peak / (1024 * 1024)\n",
        "print(f\"TFLite Inference Time: {tflite_inference_time:.2f} seconds\")\n",
        "print(f\"TFLite Peak Memory Usage: {tflite_peak_memory:.2f} MB\")"
      ],
      "metadata": {
        "id": "_xOnVXdRvqmP"
      },
      "execution_count": null,
      "outputs": []
    },
    {
      "cell_type": "code",
      "source": [
        "# TFLite model evaluation metrics\n",
        "conf_matrix_tflite = confusion_matrix(y_true_tflite, y_pred_tflite)\n",
        "print(\"Confusion Matrix (TFLite):\")\n",
        "print(conf_matrix_tflite)\n",
        "\n",
        "print(\"Classification Report (TFLite):\")\n",
        "print(classification_report(y_true_tflite, y_pred_tflite, target_names=['normal', 'fault_BB', 'fault_SM', 'fault_RI']))"
      ],
      "metadata": {
        "id": "JzpNTGzsvqo9"
      },
      "execution_count": null,
      "outputs": []
    },
    {
      "cell_type": "code",
      "source": [
        "# Visualize TFLite confusion matrix\n",
        "plt.figure(figsize=(8, 8))\n",
        "plt.imshow(conf_matrix_tflite, interpolation='nearest', cmap=plt.cm.Blues)\n",
        "plt.title('Confusion Matrix (TFLite)')\n",
        "plt.colorbar()\n",
        "tick_marks = np.arange(4)\n",
        "plt.xticks(tick_marks, ['Normal', 'Fault_BB', 'Fault_SM', 'Fault_RI'], rotation=45)\n",
        "plt.yticks(tick_marks, ['Normal', 'Fault_BB', 'Fault_SM', 'Fault_RI'])\n",
        "\n",
        "fmt = 'd'\n",
        "thresh = conf_matrix_tflite.max() / 2.\n",
        "for i, j in np.ndindex(conf_matrix_tflite.shape):\n",
        "    plt.text(j, i, format(conf_matrix_tflite[i, j], fmt),\n",
        "             ha=\"center\", va=\"center\",\n",
        "             color=\"white\" if conf_matrix_tflite[i, j] > thresh else \"black\")\n",
        "\n",
        "plt.ylabel('True label')\n",
        "plt.xlabel('Predicted label')\n",
        "plt.tight_layout()\n",
        "plt.show()"
      ],
      "metadata": {
        "id": "hFJoOq3Jvqry"
      },
      "execution_count": null,
      "outputs": []
    },
    {
      "cell_type": "code",
      "source": [
        "# Calculate additional TFLite metrics\n",
        "f1_tflite = f1_score(y_true_tflite, y_pred_tflite, average='weighted')\n",
        "precision_tflite = precision_score(y_true_tflite, y_pred_tflite, average='weighted')\n",
        "recall_tflite = recall_score(y_true_tflite, y_pred_tflite, average='weighted')\n",
        "\n",
        "print(f\"TFLite F1 Score: {f1_tflite:.2f}\")\n",
        "print(f\"TFLite Precision: {precision_tflite:.2f}\")\n",
        "print(f\"TFLite Recall: {recall_tflite:.2f}\")"
      ],
      "metadata": {
        "id": "iN0XMFGow-nj"
      },
      "execution_count": null,
      "outputs": []
    },
    {
      "cell_type": "code",
      "source": [],
      "metadata": {
        "id": "F23nlQx2vqt4"
      },
      "execution_count": null,
      "outputs": []
    }
  ]
}