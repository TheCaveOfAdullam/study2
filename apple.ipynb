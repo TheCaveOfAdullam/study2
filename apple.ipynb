{
  "nbformat": 4,
  "nbformat_minor": 0,
  "metadata": {
    "colab": {
      "provenance": [],
      "machine_shape": "hm",
      "gpuType": "V28",
      "authorship_tag": "ABX9TyNcNA4FMTghJCPEX9BUFNN8",
      "include_colab_link": true
    },
    "kernelspec": {
      "name": "python3",
      "display_name": "Python 3"
    },
    "language_info": {
      "name": "python"
    },
    "accelerator": "TPU"
  },
  "cells": [
    {
      "cell_type": "markdown",
      "metadata": {
        "id": "view-in-github",
        "colab_type": "text"
      },
      "source": [
        "<a href=\"https://colab.research.google.com/github/TheCaveOfAdullam/study2/blob/main/apple.ipynb\" target=\"_parent\"><img src=\"https://colab.research.google.com/assets/colab-badge.svg\" alt=\"Open In Colab\"/></a>"
      ]
    },
    {
      "cell_type": "code",
      "execution_count": 12,
      "metadata": {
        "id": "DHiRDJ2Rqf1Y"
      },
      "outputs": [],
      "source": [
        "import pandas as pd\n",
        "import numpy as np\n",
        "import os\n",
        "import time  # time 모듈 import\n",
        "import psutil  # psutil 라이브러리 import\n",
        "from sklearn.preprocessing import LabelEncoder\n",
        "from sklearn.metrics import confusion_matrix, classification_report\n",
        "from keras.models import Sequential\n",
        "from keras.layers import Conv1D, MaxPooling1D, Flatten, Dense, Dropout\n",
        "from keras.utils import to_categorical\n",
        "import keras.backend as K"
      ]
    },
    {
      "cell_type": "code",
      "source": [
        "# 기본 경로 설정\n",
        "base_dir = '/content/drive/MyDrive/ship_data'\n",
        "categories = ['normal', 'fault_BB', 'fault_RI', 'fault_SM']\n",
        "\n",
        "# 데이터 로드 및 전처리 함수 정의\n",
        "def load_data(base_dir, split):\n",
        "    X = []\n",
        "    y = []\n",
        "    split_dir = os.path.join(base_dir, split)\n",
        "    for category in categories:\n",
        "        category_dir = os.path.join(split_dir, category)\n",
        "        for file in os.listdir(category_dir):\n",
        "            file_path = os.path.join(category_dir, file)\n",
        "            data = pd.read_csv(file_path, header=None).values\n",
        "            data = pd.to_numeric(data.flatten(), errors='coerce').reshape(-1, data.shape[1])\n",
        "            data = np.nan_to_num(data).astype('float32')  # NaN 값을 0으로 대체하고, float32로 변환\n",
        "            X.append(data)\n",
        "            y.append(category)\n",
        "    return np.array(X), np.array(y)"
      ],
      "metadata": {
        "id": "dY7RLp4SqrPI"
      },
      "execution_count": 15,
      "outputs": []
    },
    {
      "cell_type": "code",
      "source": [
        "# 데이터 로드\n",
        "X_train, y_train = load_data(base_dir, 'train')\n",
        "X_val, y_val = load_data(base_dir, 'validation')\n",
        "X_test, y_test = load_data(base_dir, 'test')"
      ],
      "metadata": {
        "id": "iGLLC_WXqrbD"
      },
      "execution_count": 16,
      "outputs": []
    },
    {
      "cell_type": "code",
      "source": [
        "# 데이터 차원 변경 (CNN 입력 형식에 맞게)\n",
        "X_train = np.expand_dims(X_train, axis=-1)\n",
        "X_val = np.expand_dims(X_val, axis=-1)\n",
        "X_test = np.expand_dims(X_test, axis=-1)\n",
        "\n",
        "# 레이블 인코딩\n",
        "label_encoder = LabelEncoder()\n",
        "y_train_encoded = label_encoder.fit_transform(y_train)\n",
        "y_val_encoded = label_encoder.transform(y_val)\n",
        "y_test_encoded = label_encoder.transform(y_test)\n",
        "\n",
        "# 원-핫 인코딩\n",
        "y_train_categorical = to_categorical(y_train_encoded)\n",
        "y_val_categorical = to_categorical(y_val_encoded)\n",
        "y_test_categorical = to_categorical(y_test_encoded)"
      ],
      "metadata": {
        "id": "LrFrOvZsqqDC"
      },
      "execution_count": 17,
      "outputs": []
    },
    {
      "cell_type": "code",
      "source": [
        "# CNN 모델 정의\n",
        "model = Sequential()\n",
        "model.add(Conv1D(filters=64, kernel_size=3, activation='relu', input_shape=(X_train.shape[1], X_train.shape[2])))\n",
        "model.add(MaxPooling1D(pool_size=2))\n",
        "model.add(Conv1D(filters=128, kernel_size=3, activation='relu'))\n",
        "model.add(MaxPooling1D(pool_size=2))\n",
        "model.add(Flatten())\n",
        "model.add(Dense(100, activation='relu'))\n",
        "model.add(Dropout(0.5))\n",
        "model.add(Dense(len(categories), activation='softmax'))\n",
        "\n",
        "# 모델 컴파일\n",
        "model.compile(optimizer='adam', loss='categorical_crossentropy', metrics=['accuracy'])"
      ],
      "metadata": {
        "id": "wqxIY90iqtTN"
      },
      "execution_count": 18,
      "outputs": []
    },
    {
      "cell_type": "code",
      "source": [
        "# 모델 학습\n",
        "history = model.fit(X_train, y_train_categorical, epochs=10, batch_size=32, validation_data=(X_val, y_val_categorical))"
      ],
      "metadata": {
        "id": "OkdAw5zNquCN",
        "colab": {
          "base_uri": "https://localhost:8080/"
        },
        "outputId": "a9b15568-b1eb-4572-a723-8237b04207f2"
      },
      "execution_count": 19,
      "outputs": [
        {
          "output_type": "stream",
          "name": "stdout",
          "text": [
            "Epoch 1/20\n",
            "219/219 [==============================] - 78s 351ms/step - loss: 1.6762 - accuracy: 0.4827 - val_loss: 1.0807 - val_accuracy: 0.5869\n",
            "Epoch 2/20\n",
            "219/219 [==============================] - 76s 346ms/step - loss: 0.8074 - accuracy: 0.6503 - val_loss: 0.3419 - val_accuracy: 0.8623\n",
            "Epoch 3/20\n",
            "219/219 [==============================] - 76s 347ms/step - loss: 0.4435 - accuracy: 0.8094 - val_loss: 0.2801 - val_accuracy: 0.8654\n",
            "Epoch 4/20\n",
            "219/219 [==============================] - 76s 347ms/step - loss: 0.3372 - accuracy: 0.8604 - val_loss: 0.1170 - val_accuracy: 0.9726\n",
            "Epoch 5/20\n",
            "219/219 [==============================] - 76s 348ms/step - loss: 0.2504 - accuracy: 0.8972 - val_loss: 0.0638 - val_accuracy: 0.9914\n",
            "Epoch 6/20\n",
            "219/219 [==============================] - 76s 349ms/step - loss: 0.2188 - accuracy: 0.9018 - val_loss: 0.0405 - val_accuracy: 1.0000\n",
            "Epoch 7/20\n",
            "219/219 [==============================] - 76s 348ms/step - loss: 0.2137 - accuracy: 0.9158 - val_loss: 0.0742 - val_accuracy: 0.9812\n",
            "Epoch 8/20\n",
            "219/219 [==============================] - 77s 349ms/step - loss: 0.2091 - accuracy: 0.9172 - val_loss: 0.1893 - val_accuracy: 0.9155\n",
            "Epoch 9/20\n",
            "219/219 [==============================] - 76s 348ms/step - loss: 0.1831 - accuracy: 0.9232 - val_loss: 0.0542 - val_accuracy: 0.9867\n",
            "Epoch 10/20\n",
            "219/219 [==============================] - 77s 352ms/step - loss: 0.1857 - accuracy: 0.9210 - val_loss: 0.0218 - val_accuracy: 1.0000\n",
            "Epoch 11/20\n",
            "219/219 [==============================] - 77s 353ms/step - loss: 0.1660 - accuracy: 0.9312 - val_loss: 0.0141 - val_accuracy: 1.0000\n",
            "Epoch 12/20\n",
            "219/219 [==============================] - 77s 351ms/step - loss: 0.3487 - accuracy: 0.8514 - val_loss: 0.2663 - val_accuracy: 0.9092\n",
            "Epoch 13/20\n",
            "219/219 [==============================] - 77s 351ms/step - loss: 0.4270 - accuracy: 0.8379 - val_loss: 0.1938 - val_accuracy: 0.9984\n",
            "Epoch 14/20\n",
            "219/219 [==============================] - 76s 345ms/step - loss: 0.3704 - accuracy: 0.8664 - val_loss: 0.1672 - val_accuracy: 0.9992\n",
            "Epoch 15/20\n",
            "219/219 [==============================] - 76s 347ms/step - loss: 0.3538 - accuracy: 0.8602 - val_loss: 0.1276 - val_accuracy: 0.9969\n",
            "Epoch 16/20\n",
            "219/219 [==============================] - 76s 348ms/step - loss: 0.2384 - accuracy: 0.8971 - val_loss: 0.0156 - val_accuracy: 1.0000\n",
            "Epoch 17/20\n",
            "219/219 [==============================] - 76s 348ms/step - loss: 0.1368 - accuracy: 0.9336 - val_loss: 0.0129 - val_accuracy: 1.0000\n",
            "Epoch 18/20\n",
            "219/219 [==============================] - 76s 349ms/step - loss: 0.1251 - accuracy: 0.9352 - val_loss: 0.0073 - val_accuracy: 1.0000\n",
            "Epoch 19/20\n",
            "219/219 [==============================] - 76s 347ms/step - loss: 0.1259 - accuracy: 0.9493 - val_loss: 0.0061 - val_accuracy: 1.0000\n",
            "Epoch 20/20\n",
            "219/219 [==============================] - 76s 347ms/step - loss: 0.1155 - accuracy: 0.9622 - val_loss: 0.0049 - val_accuracy: 1.0000\n"
          ]
        }
      ]
    },
    {
      "cell_type": "code",
      "source": [
        "# 모델 사이즈 확인\n",
        "model.save('model.h5')\n",
        "model_size = os.path.getsize('model.h5') / (1024 * 1024)  # 모델 사이즈를 MB 단위로 변환\n",
        "print(f\"Model Size: {model_size:.2f} MB\")"
      ],
      "metadata": {
        "id": "UIXo92qAquso",
        "colab": {
          "base_uri": "https://localhost:8080/"
        },
        "outputId": "98532cd2-2213-4bdc-99c1-d7dc79f25980"
      },
      "execution_count": 20,
      "outputs": [
        {
          "output_type": "stream",
          "name": "stderr",
          "text": [
            "/usr/local/lib/python3.10/dist-packages/keras/src/engine/training.py:3103: UserWarning: You are saving your model as an HDF5 file via `model.save()`. This file format is considered legacy. We recommend using instead the native Keras format, e.g. `model.save('my_model.keras')`.\n",
            "  saving_api.save_model(\n"
          ]
        },
        {
          "output_type": "stream",
          "name": "stdout",
          "text": [
            "Model Size: 439.50 MB\n"
          ]
        }
      ]
    },
    {
      "cell_type": "code",
      "source": [
        "# 메모리 사용량 확인\n",
        "process = psutil.Process(os.getpid())\n",
        "memory_usage = process.memory_info().rss / (1024 * 1024)  # 메모리 사용량을 MB 단위로 변환\n",
        "print(f\"Memory Usage: {memory_usage:.2f} MB\")"
      ],
      "metadata": {
        "id": "xi7sYKDBqqGD",
        "colab": {
          "base_uri": "https://localhost:8080/"
        },
        "outputId": "8e29cf99-7b19-4eef-a912-2e9b7c8ea394"
      },
      "execution_count": 21,
      "outputs": [
        {
          "output_type": "stream",
          "name": "stdout",
          "text": [
            "Memory Usage: 7954.64 MB\n"
          ]
        }
      ]
    },
    {
      "cell_type": "code",
      "source": [
        "# 추론 시간 측정\n",
        "start_time = time.time()\n",
        "y_pred_categorical = model.predict(X_test)\n",
        "end_time = time.time()\n",
        "inference_time = end_time - start_time\n",
        "print(f\"Inference Time: {inference_time:.2f} seconds\")\n",
        "\n",
        "y_pred = np.argmax(y_pred_categorical, axis=1)"
      ],
      "metadata": {
        "id": "LatVRbhvqq3T",
        "colab": {
          "base_uri": "https://localhost:8080/"
        },
        "outputId": "fe7aef49-23dc-4c51-e874-afd8c92aba02"
      },
      "execution_count": 22,
      "outputs": [
        {
          "output_type": "stream",
          "name": "stdout",
          "text": [
            "40/40 [==============================] - 3s 70ms/step\n",
            "Inference Time: 3.12 seconds\n"
          ]
        }
      ]
    },
    {
      "cell_type": "code",
      "source": [
        "# 검증 데이터 평가\n",
        "val_loss, val_accuracy = model.evaluate(X_val, y_val_categorical)\n",
        "print(f\"Validation Loss: {val_loss}\")\n",
        "print(f\"Validation Accuracy: {val_accuracy}\")"
      ],
      "metadata": {
        "id": "hDa8W7z9rcqS",
        "colab": {
          "base_uri": "https://localhost:8080/"
        },
        "outputId": "e8dd77c3-b5ca-40e0-c892-cd6b363c6bd5"
      },
      "execution_count": 23,
      "outputs": [
        {
          "output_type": "stream",
          "name": "stdout",
          "text": [
            "40/40 [==============================] - 3s 69ms/step - loss: 0.0049 - accuracy: 1.0000\n",
            "Validation Loss: 0.004938323050737381\n",
            "Validation Accuracy: 1.0\n"
          ]
        }
      ]
    },
    {
      "cell_type": "code",
      "source": [
        "# 테스트 데이터 평가\n",
        "test_loss, test_accuracy = model.evaluate(X_test, y_test_categorical)\n",
        "print(f\"Test Loss: {test_loss}\")\n",
        "print(f\"Test Accuracy: {test_accuracy}\")"
      ],
      "metadata": {
        "id": "ihjV9vKNrbwH",
        "colab": {
          "base_uri": "https://localhost:8080/"
        },
        "outputId": "b4b4b2c9-f582-46a5-ea2f-81397da7ce7b"
      },
      "execution_count": 24,
      "outputs": [
        {
          "output_type": "stream",
          "name": "stdout",
          "text": [
            "40/40 [==============================] - 3s 68ms/step - loss: 0.0096 - accuracy: 0.9992\n",
            "Test Loss: 0.00957194622606039\n",
            "Test Accuracy: 0.9992175102233887\n"
          ]
        }
      ]
    },
    {
      "cell_type": "code",
      "source": [
        "# 혼동 행렬 및 성능 지표 출력 (검증 데이터)\n",
        "y_pred_val = model.predict(X_val)\n",
        "y_pred_val_classes = np.argmax(y_pred_val, axis=1)\n",
        "\n",
        "conf_matrix_val = confusion_matrix(y_val_encoded, y_pred_val_classes)\n",
        "class_report_val = classification_report(y_val_encoded, y_pred_val_classes, target_names=categories)\n",
        "\n",
        "print(\"Confusion Matrix (Validation):\")\n",
        "print(conf_matrix_val)\n",
        "print(\"\\nClassification Report (Validation):\")\n",
        "print(class_report_val)"
      ],
      "metadata": {
        "id": "HgMK-WjgrdRk",
        "colab": {
          "base_uri": "https://localhost:8080/"
        },
        "outputId": "4e164f8d-7d8e-463f-a33d-bb84ed5c1fef"
      },
      "execution_count": 25,
      "outputs": [
        {
          "output_type": "stream",
          "name": "stdout",
          "text": [
            "40/40 [==============================] - 3s 67ms/step\n",
            "Confusion Matrix (Validation):\n",
            "[[176   0   0   0]\n",
            " [  0 176   0   0]\n",
            " [  0   0 176   0]\n",
            " [  0   0   0 750]]\n",
            "\n",
            "Classification Report (Validation):\n",
            "              precision    recall  f1-score   support\n",
            "\n",
            "      normal       1.00      1.00      1.00       176\n",
            "    fault_BB       1.00      1.00      1.00       176\n",
            "    fault_RI       1.00      1.00      1.00       176\n",
            "    fault_SM       1.00      1.00      1.00       750\n",
            "\n",
            "    accuracy                           1.00      1278\n",
            "   macro avg       1.00      1.00      1.00      1278\n",
            "weighted avg       1.00      1.00      1.00      1278\n",
            "\n"
          ]
        }
      ]
    },
    {
      "cell_type": "code",
      "source": [
        "# 혼동 행렬 및 성능 지표 출력 (테스트 데이터)\n",
        "conf_matrix_test = confusion_matrix(y_test_encoded, y_pred)\n",
        "class_report_test = classification_report(y_test_encoded, y_pred, target_names=categories)\n",
        "\n",
        "print(\"Confusion Matrix (Test):\")\n",
        "print(conf_matrix_test)\n",
        "print(\"\\nClassification Report (Test):\")\n",
        "print(class_report_test)"
      ],
      "metadata": {
        "id": "PsKRMNmVrd25",
        "colab": {
          "base_uri": "https://localhost:8080/"
        },
        "outputId": "1e2f5160-827c-4d2d-b52e-00e64a698207"
      },
      "execution_count": 26,
      "outputs": [
        {
          "output_type": "stream",
          "name": "stdout",
          "text": [
            "Confusion Matrix (Test):\n",
            "[[176   0   0   0]\n",
            " [  0 176   0   0]\n",
            " [  1   0 175   0]\n",
            " [  0   0   0 750]]\n",
            "\n",
            "Classification Report (Test):\n",
            "              precision    recall  f1-score   support\n",
            "\n",
            "      normal       0.99      1.00      1.00       176\n",
            "    fault_BB       1.00      1.00      1.00       176\n",
            "    fault_RI       1.00      0.99      1.00       176\n",
            "    fault_SM       1.00      1.00      1.00       750\n",
            "\n",
            "    accuracy                           1.00      1278\n",
            "   macro avg       1.00      1.00      1.00      1278\n",
            "weighted avg       1.00      1.00      1.00      1278\n",
            "\n"
          ]
        }
      ]
    },
    {
      "cell_type": "code",
      "source": [
        "# 새로운 CSV 파일 분류\n",
        "def classify_new_file(file_path, model):\n",
        "    data = pd.read_csv(file_path, header=None).values\n",
        "    data = np.nan_to_num(data).astype('float32')  # NaN 값을 0으로 대체하고, float32로 변환\n",
        "    data = np.expand_dims(data, axis=(0, -1))\n",
        "    prediction = model.predict(data)\n",
        "    predicted_class = np.argmax(prediction, axis=1)\n",
        "    return label_encoder.inverse_transform(predicted_class)\n",
        "\n",
        "# 예시: 새로운 파일 분류\n",
        "new_file_path = 'path_to_new_csv_file.csv'\n",
        "predicted_category = classify_new_file(new_file_path, model)\n",
        "print(f'The predicted category for the new file is: {predicted_category[0]}')"
      ],
      "metadata": {
        "id": "FHjmBAvQrefD"
      },
      "execution_count": null,
      "outputs": []
    }
  ]
}