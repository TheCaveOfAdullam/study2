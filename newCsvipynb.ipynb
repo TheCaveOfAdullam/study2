{
  "nbformat": 4,
  "nbformat_minor": 0,
  "metadata": {
    "colab": {
      "provenance": [],
      "authorship_tag": "ABX9TyOxU98sc4GOZVcNYcfKwWS9",
      "include_colab_link": true
    },
    "kernelspec": {
      "name": "python3",
      "display_name": "Python 3"
    },
    "language_info": {
      "name": "python"
    }
  },
  "cells": [
    {
      "cell_type": "markdown",
      "metadata": {
        "id": "view-in-github",
        "colab_type": "text"
      },
      "source": [
        "<a href=\"https://colab.research.google.com/github/TheCaveOfAdullam/study2/blob/main/newCsvipynb.ipynb\" target=\"_parent\"><img src=\"https://colab.research.google.com/assets/colab-badge.svg\" alt=\"Open In Colab\"/></a>"
      ]
    },
    {
      "cell_type": "code",
      "execution_count": null,
      "metadata": {
        "id": "yBzBQ-NcWxDk"
      },
      "outputs": [],
      "source": [
        "# 기본 경로 설정\n",
        "base_dir = '/content/drive/MyDrive/ship_data'\n",
        "categories = ['normal', 'fault_BB', 'fault_RI', 'fault_SM']\n",
        "\n",
        "# 데이터 로드 및 전처리 함수 정의\n",
        "def load_data(base_dir, split):\n",
        "    X = []\n",
        "    y = []\n",
        "    split_dir = os.path.join(base_dir, split)\n",
        "    for category in categories:\n",
        "        category_dir = os.path.join(split_dir, category)\n",
        "        for file in os.listdir(category_dir):\n",
        "            file_path = os.path.join(category_dir, file)\n",
        "            data = pd.read_csv(file_path, header=None, skiprows=1).values  # 첫 번째 행을 제외하고 데이터 로드\n",
        "            data = pd.to_numeric(data.flatten(), errors='coerce').reshape(-1, data.shape[1])\n",
        "            data = np.nan_to_num(data).astype('float32')  # NaN 값을 0으로 대체하고, float32로 변환\n",
        "            X.append(data)\n",
        "            y.append(category)\n",
        "    return np.array(X), np.array(y)\n",
        "\n",
        "# 데이터 로드\n",
        "X_train, y_train = load_data(base_dir, 'train')\n",
        "X_val, y_val = load_data(base_dir, 'validation')\n",
        "X_test, y_test = load_data(base_dir, 'test')\n",
        "\n",
        "# 데이터 차원 변경 (CNN 입력 형식에 맞게)\n",
        "X_train = np.expand_dims(X_train, axis=-1)\n",
        "X_val = np.expand_dims(X_val, axis=-1)\n",
        "X_test = np.expand_dims(X_test, axis=-1)\n",
        "\n",
        "# 레이블 인코딩\n",
        "label_encoder = LabelEncoder()\n",
        "y_train_encoded = label_encoder.fit_transform(y_train)\n",
        "y_val_encoded = label_encoder.transform(y_val)\n",
        "y_test_encoded = label_encoder.transform(y_test)\n",
        "\n",
        "# 원-핫 인코딩\n",
        "y_train_categorical = to_categorical(y_train_encoded)\n",
        "y_val_categorical = to_categorical(y_val_encoded)\n",
        "y_test_categorical = to_categorical(y_test_encoded)\n",
        "\n",
        "# 샘플 데이터 출력\n",
        "print(\"X_train shape:\", X_train.shape)\n",
        "print(\"y_train_categorical shape:\", y_train_categorical.shape)\n",
        "print(\"X_val shape:\", X_val.shape)\n",
        "print(\"y_val_categorical shape:\", y_val_categorical.shape)\n",
        "print(\"X_test shape:\", X_test.shape)\n",
        "print(\"y_test_categorical shape:\", y_test_categorical.shape)"
      ]
    },
    {
      "cell_type": "code",
      "source": [
        "# 기본 경로 설정\n",
        "base_dir = '/content/drive/MyDrive/ship_data'  # 예시 경로입니다. 실제 경로로 수정하세요.\n",
        "categories = ['normal', 'fault_BB', 'fault_RI', 'fault_SM']\n",
        "\n",
        "# 데이터 로드 및 전처리 함수 정의\n",
        "def load_data(base_dir, split):\n",
        "    X = []\n",
        "    y = []\n",
        "    split_dir = os.path.join(base_dir, split)\n",
        "    for category in categories:\n",
        "        category_dir = os.path.join(split_dir, category)\n",
        "        for file in os.listdir(category_dir):\n",
        "            file_path = os.path.join(category_dir, file)\n",
        "            if file_path.endswith('.csv'):\n",
        "                data = pd.read_csv(file_path, header=None, skiprows=1).values  # 첫 번째 행을 제외하고 데이터 로드\n",
        "                data = pd.to_numeric(data.flatten(), errors='coerce').reshape(-1, 2)  # 여기서 2는 피처의 수입니다.\n",
        "                data = np.nan_to_num(data).astype('float32')  # NaN 값을 0으로 대체하고, float32로 변환\n",
        "                X.append(data[:, 1])  # y 피처만 추출 (두 번째 열)\n",
        "                y.append(category)\n",
        "    X = [np.expand_dims(x, axis=-1) for x in X]  # y 피처만 있으므로 마지막 차원만 추가\n",
        "    return np.array(X), np.array(y)\n",
        "\n",
        "# 데이터 로드\n",
        "X_train, y_train = load_data(base_dir, 'train')\n",
        "X_val, y_val = load_data(base_dir, 'validation')\n",
        "X_test, y_test = load_data(base_dir, 'test')\n",
        "\n",
        "# 데이터 차원 변경 (CNN 입력 형식에 맞게)\n",
        "X_train = np.expand_dims(X_train, axis=-1)\n",
        "X_val = np.expand_dims(X_val, axis=-1)\n",
        "X_test = np.expand_dims(X_test, axis=-1)\n",
        "\n",
        "# 레이블 인코딩\n",
        "label_encoder = LabelEncoder()\n",
        "y_train_encoded = label_encoder.fit_transform(y_train)\n",
        "y_val_encoded = label_encoder.transform(y_val)\n",
        "y_test_encoded = label_encoder.transform(y_test)\n",
        "\n",
        "# 원-핫 인코딩\n",
        "y_train_categorical = to_categorical(y_train_encoded)\n",
        "y_val_categorical = to_categorical(y_val_encoded)\n",
        "y_test_categorical = to_categorical(y_test_encoded)\n",
        "\n",
        "# 샘플 데이터 출력\n",
        "print(\"X_train shape:\", X_train.shape)\n",
        "print(\"y_train_categorical shape:\", y_train_categorical.shape)\n",
        "print(\"X_val shape:\", X_val.shape)\n",
        "print(\"y_val_categorical shape:\", y_val_categorical.shape)\n",
        "print(\"X_test shape:\", X_test.shape)\n",
        "print(\"y_test_categorical shape:\", y_test_categorical.shape)\n",
        "\n",
        "# 데이터를 출력하기 위해 준비\n",
        "sample_X_train = pd.DataFrame(X_train[0].reshape(-1, X_train.shape[1]))\n",
        "sample_y_train_categorical = pd.DataFrame(y_train_categorical[:5])\n",
        "\n",
        "# 첫 번째 샘플 데이터와 레이블 출력\n",
        "print(\"\\nX_train sample data:\", sample_X_train)\n",
        "print(\"\\ny_train_categorical sample:\", sample_y_train_categorical)"
      ],
      "metadata": {
        "id": "REaDPPNxkE-h"
      },
      "execution_count": null,
      "outputs": []
    }
  ]
}