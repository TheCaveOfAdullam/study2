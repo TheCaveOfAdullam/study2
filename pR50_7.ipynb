{
  "nbformat": 4,
  "nbformat_minor": 0,
  "metadata": {
    "colab": {
      "provenance": [],
      "gpuType": "V28",
      "machine_shape": "hm",
      "authorship_tag": "ABX9TyO0nQ+q1zmfPZIxPeAiDntW",
      "include_colab_link": true
    },
    "kernelspec": {
      "name": "python3",
      "display_name": "Python 3"
    },
    "language_info": {
      "name": "python"
    },
    "accelerator": "TPU"
  },
  "cells": [
    {
      "cell_type": "markdown",
      "metadata": {
        "id": "view-in-github",
        "colab_type": "text"
      },
      "source": [
        "<a href=\"https://colab.research.google.com/github/TheCaveOfAdullam/study2/blob/main/pR50_7.ipynb\" target=\"_parent\"><img src=\"https://colab.research.google.com/assets/colab-badge.svg\" alt=\"Open In Colab\"/></a>"
      ]
    },
    {
      "cell_type": "code",
      "source": [
        "from google.colab import drive\n",
        "drive.mount('/content/drive')"
      ],
      "metadata": {
        "colab": {
          "base_uri": "https://localhost:8080/"
        },
        "id": "iJ2kpvDqfbsJ",
        "outputId": "43b2eab7-f9cf-4860-f102-19207f840049"
      },
      "execution_count": 1,
      "outputs": [
        {
          "output_type": "stream",
          "name": "stdout",
          "text": [
            "Mounted at /content/drive\n"
          ]
        }
      ]
    },
    {
      "cell_type": "code",
      "execution_count": 2,
      "metadata": {
        "colab": {
          "base_uri": "https://localhost:8080/"
        },
        "id": "rae528Gvd6tr",
        "outputId": "b66069a6-42db-4b03-879e-7482d21f9077"
      },
      "outputs": [
        {
          "output_type": "stream",
          "name": "stdout",
          "text": [
            "Collecting tensorflow_model_optimization\n",
            "  Downloading tensorflow_model_optimization-0.8.0-py2.py3-none-any.whl (242 kB)\n",
            "\u001b[2K     \u001b[90m━━━━━━━━━━━━━━━━━━━━━━━━━━━━━━━━━━━━━━━━\u001b[0m \u001b[32m242.5/242.5 kB\u001b[0m \u001b[31m2.0 MB/s\u001b[0m eta \u001b[36m0:00:00\u001b[0m\n",
            "\u001b[?25hRequirement already satisfied: absl-py~=1.2 in /usr/local/lib/python3.10/dist-packages (from tensorflow_model_optimization) (1.4.0)\n",
            "Requirement already satisfied: dm-tree~=0.1.1 in /usr/local/lib/python3.10/dist-packages (from tensorflow_model_optimization) (0.1.8)\n",
            "Requirement already satisfied: numpy~=1.23 in /usr/local/lib/python3.10/dist-packages (from tensorflow_model_optimization) (1.25.2)\n",
            "Requirement already satisfied: six~=1.14 in /usr/local/lib/python3.10/dist-packages (from tensorflow_model_optimization) (1.16.0)\n",
            "Installing collected packages: tensorflow_model_optimization\n",
            "Successfully installed tensorflow_model_optimization-0.8.0\n"
          ]
        }
      ],
      "source": [
        "!pip install tensorflow_model_optimization\n",
        "\n",
        "import numpy as np\n",
        "import tensorflow as tf\n",
        "from tensorflow.keras.preprocessing import image_dataset_from_directory\n",
        "from tensorflow.keras.applications import ResNet50\n",
        "from tensorflow.keras.layers import GlobalAveragePooling2D, Dense, Dropout\n",
        "from tensorflow.keras.callbacks import ReduceLROnPlateau\n",
        "from sklearn.metrics import confusion_matrix, classification_report, f1_score, precision_score, recall_score\n",
        "import matplotlib.pyplot as plt\n",
        "import time\n",
        "import os\n",
        "import tracemalloc\n",
        "import tensorflow_model_optimization as tfmot"
      ]
    },
    {
      "cell_type": "code",
      "source": [
        "# Define paths\n",
        "train_dir = '/content/drive/MyDrive/motor_data/train'\n",
        "validation_dir = '/content/drive/MyDrive/motor_data/validation'\n",
        "test_dir = '/content/drive/MyDrive/motor_data/test'\n",
        "\n",
        "# Set image size and batch size\n",
        "image_size = (224, 224)\n",
        "batch_size = 32\n",
        "\n",
        "# Load datasets\n",
        "train_dataset = image_dataset_from_directory(train_dir, image_size=image_size, batch_size=batch_size, label_mode='int')\n",
        "validation_dataset = image_dataset_from_directory(validation_dir, image_size=image_size, batch_size=batch_size, label_mode='int')\n",
        "test_dataset = image_dataset_from_directory(test_dir, image_size=image_size, batch_size=batch_size, label_mode='int')"
      ],
      "metadata": {
        "colab": {
          "base_uri": "https://localhost:8080/"
        },
        "id": "jZQ24tMld7WC",
        "outputId": "1bb06d23-8eb6-49be-cad0-8556ec70e061"
      },
      "execution_count": 3,
      "outputs": [
        {
          "output_type": "stream",
          "name": "stdout",
          "text": [
            "Found 12004 files belonging to 4 classes.\n",
            "Found 4000 files belonging to 4 classes.\n",
            "Found 4004 files belonging to 4 classes.\n"
          ]
        }
      ]
    },
    {
      "cell_type": "code",
      "source": [
        "# Load ResNet50 model\n",
        "base_model = ResNet50(weights='imagenet', include_top=False, input_shape=(224, 224, 3))\n",
        "\n",
        "# Add new top layers\n",
        "model = tf.keras.Sequential([\n",
        "    base_model,\n",
        "    GlobalAveragePooling2D(),\n",
        "    Dense(512, activation='relu'),\n",
        "    Dropout(0.5),\n",
        "    Dense(4, activation='softmax')  # 4 classes: normal, fault_BB, fault_SM, fault_RI\n",
        "])\n",
        "\n",
        "# Define ReduceLROnPlateau callback\n",
        "reduce_lr = ReduceLROnPlateau(monitor='val_loss', factor=0.2, patience=5, min_lr=0.0001)\n",
        "\n",
        "# Compile model\n",
        "model.compile(optimizer=tf.keras.optimizers.Adam(learning_rate=0.001),\n",
        "              loss='sparse_categorical_crossentropy',\n",
        "              metrics=['accuracy'])"
      ],
      "metadata": {
        "id": "rMaRtW9ld7bI",
        "colab": {
          "base_uri": "https://localhost:8080/"
        },
        "outputId": "d3548488-9b33-4608-82e7-2ea197a99b8d"
      },
      "execution_count": 4,
      "outputs": [
        {
          "output_type": "stream",
          "name": "stdout",
          "text": [
            "Downloading data from https://storage.googleapis.com/tensorflow/keras-applications/resnet/resnet50_weights_tf_dim_ordering_tf_kernels_notop.h5\n",
            "94765736/94765736 [==============================] - 0s 0us/step\n"
          ]
        }
      ]
    },
    {
      "cell_type": "code",
      "source": [
        "\n",
        "# Train the model\n",
        "history = model.fit(train_dataset, validation_data=validation_dataset, epochs=10, callbacks=[reduce_lr])"
      ],
      "metadata": {
        "colab": {
          "base_uri": "https://localhost:8080/"
        },
        "id": "XSMXv6KOd7dx",
        "outputId": "1653ddac-65cc-4730-e895-65710f278540"
      },
      "execution_count": 5,
      "outputs": [
        {
          "output_type": "stream",
          "name": "stdout",
          "text": [
            "Epoch 1/10\n",
            "376/376 [==============================] - 952s 2s/step - loss: 0.1036 - accuracy: 0.9889 - val_loss: 101739.2109 - val_accuracy: 0.2500 - lr: 0.0010\n",
            "Epoch 2/10\n",
            "376/376 [==============================] - 800s 2s/step - loss: 0.0237 - accuracy: 0.9962 - val_loss: 4.5302 - val_accuracy: 0.7500 - lr: 0.0010\n",
            "Epoch 3/10\n",
            "376/376 [==============================] - 794s 2s/step - loss: 4.9568e-04 - accuracy: 0.9999 - val_loss: 7.6388e-07 - val_accuracy: 1.0000 - lr: 0.0010\n",
            "Epoch 4/10\n",
            "376/376 [==============================] - 793s 2s/step - loss: 0.0023 - accuracy: 0.9999 - val_loss: 0.0675 - val_accuracy: 0.9795 - lr: 0.0010\n",
            "Epoch 5/10\n",
            "376/376 [==============================] - 790s 2s/step - loss: 0.0256 - accuracy: 0.9936 - val_loss: 1.1585e-04 - val_accuracy: 1.0000 - lr: 0.0010\n",
            "Epoch 6/10\n",
            "376/376 [==============================] - 792s 2s/step - loss: 7.6475e-05 - accuracy: 1.0000 - val_loss: 1.9228e-05 - val_accuracy: 1.0000 - lr: 0.0010\n",
            "Epoch 7/10\n",
            "376/376 [==============================] - 795s 2s/step - loss: 0.0021 - accuracy: 0.9995 - val_loss: 9.1545e-06 - val_accuracy: 1.0000 - lr: 0.0010\n",
            "Epoch 8/10\n",
            "376/376 [==============================] - 801s 2s/step - loss: 0.0017 - accuracy: 0.9997 - val_loss: 4.3170e-07 - val_accuracy: 1.0000 - lr: 0.0010\n",
            "Epoch 9/10\n",
            "376/376 [==============================] - 794s 2s/step - loss: 0.0046 - accuracy: 0.9998 - val_loss: 1.1503e-04 - val_accuracy: 1.0000 - lr: 2.0000e-04\n",
            "Epoch 10/10\n",
            "376/376 [==============================] - 795s 2s/step - loss: 0.0076 - accuracy: 0.9982 - val_loss: 2.1245e-04 - val_accuracy: 1.0000 - lr: 2.0000e-04\n"
          ]
        }
      ]
    },
    {
      "cell_type": "code",
      "source": [
        "# Initial evaluation\n",
        "val_loss, val_acc = model.evaluate(validation_dataset)\n",
        "print(f\"Initial Validation Loss: {val_loss}\")\n",
        "print(f\"Initial Validation Accuracy: {val_acc}\")"
      ],
      "metadata": {
        "id": "ECMspkZxd7gQ",
        "colab": {
          "base_uri": "https://localhost:8080/"
        },
        "outputId": "3cbea3ae-c871-4cd2-a4e0-30e24df87855"
      },
      "execution_count": 6,
      "outputs": [
        {
          "output_type": "stream",
          "name": "stdout",
          "text": [
            "125/125 [==============================] - 68s 537ms/step - loss: 2.1245e-04 - accuracy: 1.0000\n",
            "Initial Validation Loss: 0.00021244936215225607\n",
            "Initial Validation Accuracy: 1.0\n"
          ]
        }
      ]
    },
    {
      "cell_type": "code",
      "source": [
        "test_loss, test_acc = model.evaluate(test_dataset)\n",
        "print(f\"Initial Test Loss: {test_loss}\")\n",
        "print(f\"Initial Test Accuracy: {test_acc}\")"
      ],
      "metadata": {
        "id": "QOFkxq9Rd7iy",
        "colab": {
          "base_uri": "https://localhost:8080/"
        },
        "outputId": "6c93ec02-c9d0-481a-b587-616fe1b3c046"
      },
      "execution_count": 7,
      "outputs": [
        {
          "output_type": "stream",
          "name": "stdout",
          "text": [
            "126/126 [==============================] - 144s 1s/step - loss: 6.0968e-04 - accuracy: 0.9998\n",
            "Initial Test Loss: 0.0006096798460930586\n",
            "Initial Test Accuracy: 0.9997502565383911\n"
          ]
        }
      ]
    },
    {
      "cell_type": "code",
      "source": [
        "# Save initial model and measure size\n",
        "model.save('original_motor_fault_classification_model.h5')\n",
        "original_model_size = os.path.getsize('original_motor_fault_classification_model.h5')\n",
        "print(f\"Original Model Size: {original_model_size / (1024 * 1024):.2f} MB\")"
      ],
      "metadata": {
        "id": "6Wmvujl4d7lh",
        "colab": {
          "base_uri": "https://localhost:8080/"
        },
        "outputId": "5315a783-708c-460b-b3fc-329280ac4dd3"
      },
      "execution_count": 8,
      "outputs": [
        {
          "output_type": "stream",
          "name": "stderr",
          "text": [
            "/usr/local/lib/python3.10/dist-packages/keras/src/engine/training.py:3103: UserWarning: You are saving your model as an HDF5 file via `model.save()`. This file format is considered legacy. We recommend using instead the native Keras format, e.g. `model.save('my_model.keras')`.\n",
            "  saving_api.save_model(\n"
          ]
        },
        {
          "output_type": "stream",
          "name": "stdout",
          "text": [
            "Original Model Size: 282.31 MB\n"
          ]
        }
      ]
    },
    {
      "cell_type": "code",
      "source": [
        "# Measure initial inference time and memory usage\n",
        "start_time = time.time()\n",
        "tracemalloc.start()\n",
        "y_true, y_pred = [], []\n",
        "for batch in test_dataset:\n",
        "    images, labels = batch\n",
        "    y_true.extend(labels.numpy())\n",
        "    predictions = model.predict(images)\n",
        "    y_pred.extend(np.argmax(predictions, axis=1))\n",
        "end_time = time.time()\n",
        "current, peak = tracemalloc.get_traced_memory()\n",
        "tracemalloc.stop()\n",
        "original_inference_time = end_time - start_time\n",
        "original_peak_memory = peak / (1024 * 1024)\n",
        "print(f\"Original Inference Time: {original_inference_time:.2f} seconds\")\n",
        "print(f\"Original Peak Memory Usage: {original_peak_memory:.2f} MB\")"
      ],
      "metadata": {
        "id": "4Xb2cxa-d7n5",
        "colab": {
          "base_uri": "https://localhost:8080/"
        },
        "outputId": "05f713b6-bfdb-4fbb-8aee-c541ca6ffdb2"
      },
      "execution_count": 9,
      "outputs": [
        {
          "output_type": "stream",
          "name": "stdout",
          "text": [
            "1/1 [==============================] - 2s 2s/step\n",
            "1/1 [==============================] - 1s 551ms/step\n",
            "1/1 [==============================] - 1s 581ms/step\n",
            "1/1 [==============================] - 1s 537ms/step\n",
            "1/1 [==============================] - 1s 559ms/step\n",
            "1/1 [==============================] - 1s 565ms/step\n",
            "1/1 [==============================] - 0s 468ms/step\n",
            "1/1 [==============================] - 1s 555ms/step\n",
            "1/1 [==============================] - 1s 543ms/step\n",
            "1/1 [==============================] - 0s 472ms/step\n",
            "1/1 [==============================] - 1s 544ms/step\n",
            "1/1 [==============================] - 1s 552ms/step\n",
            "1/1 [==============================] - 1s 567ms/step\n",
            "1/1 [==============================] - 1s 537ms/step\n",
            "1/1 [==============================] - 1s 537ms/step\n",
            "1/1 [==============================] - 0s 492ms/step\n",
            "1/1 [==============================] - 0s 466ms/step\n",
            "1/1 [==============================] - 0s 497ms/step\n",
            "1/1 [==============================] - 1s 540ms/step\n",
            "1/1 [==============================] - 1s 565ms/step\n",
            "1/1 [==============================] - 1s 525ms/step\n",
            "1/1 [==============================] - 1s 556ms/step\n",
            "1/1 [==============================] - 1s 550ms/step\n",
            "1/1 [==============================] - 0s 478ms/step\n",
            "1/1 [==============================] - 0s 452ms/step\n",
            "1/1 [==============================] - 1s 543ms/step\n",
            "1/1 [==============================] - 0s 494ms/step\n",
            "1/1 [==============================] - 1s 548ms/step\n",
            "1/1 [==============================] - 1s 535ms/step\n",
            "1/1 [==============================] - 1s 534ms/step\n",
            "1/1 [==============================] - 1s 584ms/step\n",
            "1/1 [==============================] - 1s 575ms/step\n",
            "1/1 [==============================] - 1s 551ms/step\n",
            "1/1 [==============================] - 0s 493ms/step\n",
            "1/1 [==============================] - 1s 549ms/step\n",
            "1/1 [==============================] - 1s 519ms/step\n",
            "1/1 [==============================] - 0s 480ms/step\n",
            "1/1 [==============================] - 1s 534ms/step\n",
            "1/1 [==============================] - 1s 547ms/step\n",
            "1/1 [==============================] - 1s 569ms/step\n",
            "1/1 [==============================] - 1s 545ms/step\n",
            "1/1 [==============================] - 1s 598ms/step\n",
            "1/1 [==============================] - 1s 514ms/step\n",
            "1/1 [==============================] - 1s 552ms/step\n",
            "1/1 [==============================] - 0s 490ms/step\n",
            "1/1 [==============================] - 1s 555ms/step\n",
            "1/1 [==============================] - 1s 552ms/step\n",
            "1/1 [==============================] - 1s 548ms/step\n",
            "1/1 [==============================] - 1s 560ms/step\n",
            "1/1 [==============================] - 1s 565ms/step\n",
            "1/1 [==============================] - 1s 551ms/step\n",
            "1/1 [==============================] - 1s 570ms/step\n",
            "1/1 [==============================] - 0s 492ms/step\n",
            "1/1 [==============================] - 1s 553ms/step\n",
            "1/1 [==============================] - 1s 554ms/step\n",
            "1/1 [==============================] - 1s 540ms/step\n",
            "1/1 [==============================] - 1s 544ms/step\n",
            "1/1 [==============================] - 1s 567ms/step\n",
            "1/1 [==============================] - 1s 556ms/step\n",
            "1/1 [==============================] - 1s 555ms/step\n",
            "1/1 [==============================] - 1s 548ms/step\n",
            "1/1 [==============================] - 0s 490ms/step\n",
            "1/1 [==============================] - 1s 533ms/step\n",
            "1/1 [==============================] - 1s 519ms/step\n",
            "1/1 [==============================] - 1s 550ms/step\n",
            "1/1 [==============================] - 1s 522ms/step\n",
            "1/1 [==============================] - 1s 566ms/step\n",
            "1/1 [==============================] - 1s 554ms/step\n",
            "1/1 [==============================] - 1s 546ms/step\n",
            "1/1 [==============================] - 1s 564ms/step\n",
            "1/1 [==============================] - 1s 556ms/step\n",
            "1/1 [==============================] - 1s 541ms/step\n",
            "1/1 [==============================] - 1s 540ms/step\n",
            "1/1 [==============================] - 1s 559ms/step\n",
            "1/1 [==============================] - 1s 552ms/step\n",
            "1/1 [==============================] - 1s 548ms/step\n",
            "1/1 [==============================] - 1s 552ms/step\n",
            "1/1 [==============================] - 1s 583ms/step\n",
            "1/1 [==============================] - 1s 569ms/step\n",
            "1/1 [==============================] - 1s 567ms/step\n",
            "1/1 [==============================] - 1s 561ms/step\n",
            "1/1 [==============================] - 1s 515ms/step\n",
            "1/1 [==============================] - 0s 479ms/step\n",
            "1/1 [==============================] - 1s 548ms/step\n",
            "1/1 [==============================] - 1s 541ms/step\n",
            "1/1 [==============================] - 0s 472ms/step\n",
            "1/1 [==============================] - 1s 545ms/step\n",
            "1/1 [==============================] - 1s 531ms/step\n",
            "1/1 [==============================] - 1s 554ms/step\n",
            "1/1 [==============================] - 1s 541ms/step\n",
            "1/1 [==============================] - 1s 519ms/step\n",
            "1/1 [==============================] - 1s 527ms/step\n",
            "1/1 [==============================] - 0s 477ms/step\n",
            "1/1 [==============================] - 1s 521ms/step\n",
            "1/1 [==============================] - 1s 527ms/step\n",
            "1/1 [==============================] - 1s 551ms/step\n",
            "1/1 [==============================] - 1s 558ms/step\n",
            "1/1 [==============================] - 1s 560ms/step\n",
            "1/1 [==============================] - 1s 573ms/step\n",
            "1/1 [==============================] - 1s 584ms/step\n",
            "1/1 [==============================] - 1s 552ms/step\n",
            "1/1 [==============================] - 1s 565ms/step\n",
            "1/1 [==============================] - 1s 551ms/step\n",
            "1/1 [==============================] - 1s 555ms/step\n",
            "1/1 [==============================] - 1s 558ms/step\n",
            "1/1 [==============================] - 1s 554ms/step\n",
            "1/1 [==============================] - 1s 551ms/step\n",
            "1/1 [==============================] - 1s 546ms/step\n",
            "1/1 [==============================] - 1s 555ms/step\n",
            "1/1 [==============================] - 1s 542ms/step\n",
            "1/1 [==============================] - 1s 540ms/step\n",
            "1/1 [==============================] - 1s 546ms/step\n",
            "1/1 [==============================] - 1s 535ms/step\n",
            "1/1 [==============================] - 1s 533ms/step\n",
            "1/1 [==============================] - 1s 545ms/step\n",
            "1/1 [==============================] - 1s 548ms/step\n",
            "1/1 [==============================] - 1s 562ms/step\n",
            "1/1 [==============================] - 1s 566ms/step\n",
            "1/1 [==============================] - 1s 567ms/step\n",
            "1/1 [==============================] - 1s 560ms/step\n",
            "1/1 [==============================] - 1s 556ms/step\n",
            "1/1 [==============================] - 1s 564ms/step\n",
            "1/1 [==============================] - 1s 548ms/step\n",
            "1/1 [==============================] - 1s 547ms/step\n",
            "1/1 [==============================] - 1s 549ms/step\n",
            "1/1 [==============================] - 2s 2s/step\n",
            "Original Inference Time: 85.22 seconds\n",
            "Original Peak Memory Usage: 5.83 MB\n"
          ]
        }
      ]
    },
    {
      "cell_type": "code",
      "source": [
        "# Initial model evaluation metrics\n",
        "conf_matrix_original = confusion_matrix(y_true, y_pred)\n",
        "print(\"Confusion Matrix (Original):\")\n",
        "print(conf_matrix_original)\n",
        "\n",
        "print(\"Classification Report (Original):\")\n",
        "print(classification_report(y_true, y_pred, target_names=['normal', 'fault_BB', 'fault_SM', 'fault_RI']))"
      ],
      "metadata": {
        "id": "LS4-XOKvd7qh",
        "colab": {
          "base_uri": "https://localhost:8080/"
        },
        "outputId": "508db3fe-606d-4402-e48c-4b1e79e30ad2"
      },
      "execution_count": 10,
      "outputs": [
        {
          "output_type": "stream",
          "name": "stdout",
          "text": [
            "Confusion Matrix (Original):\n",
            "[[1004    0    0    0]\n",
            " [   0 1000    0    0]\n",
            " [   0    0 1000    0]\n",
            " [   1    0    0  999]]\n",
            "Classification Report (Original):\n",
            "              precision    recall  f1-score   support\n",
            "\n",
            "      normal       1.00      1.00      1.00      1004\n",
            "    fault_BB       1.00      1.00      1.00      1000\n",
            "    fault_SM       1.00      1.00      1.00      1000\n",
            "    fault_RI       1.00      1.00      1.00      1000\n",
            "\n",
            "    accuracy                           1.00      4004\n",
            "   macro avg       1.00      1.00      1.00      4004\n",
            "weighted avg       1.00      1.00      1.00      4004\n",
            "\n"
          ]
        }
      ]
    },
    {
      "cell_type": "code",
      "source": [
        "# Visualize initial confusion matrix\n",
        "plt.figure(figsize=(8, 8))\n",
        "plt.imshow(conf_matrix_original, interpolation='nearest', cmap=plt.cm.Blues)\n",
        "plt.title('Confusion Matrix (Original)')\n",
        "plt.colorbar()\n",
        "tick_marks = np.arange(4)\n",
        "plt.xticks(tick_marks, ['Normal', 'Fault_BB', 'Fault_SM', 'Fault_RI'], rotation=45)\n",
        "plt.yticks(tick_marks, ['Normal', 'Fault_BB', 'Fault_SM', 'Fault_RI'])\n",
        "\n",
        "fmt = 'd'\n",
        "thresh = conf_matrix_original.max() / 2.\n",
        "for i, j in np.ndindex(conf_matrix_original.shape):\n",
        "    plt.text(j, i, format(conf_matrix_original[i, j], fmt),\n",
        "             ha=\"center\", va=\"center\",\n",
        "             color=\"white\" if conf_matrix_original[i, j] > thresh else \"black\")\n",
        "\n",
        "plt.ylabel('True label')\n",
        "plt.xlabel('Predicted label')\n",
        "plt.tight_layout()\n",
        "plt.show()"
      ],
      "metadata": {
        "id": "h_e7I-ZMd7s6",
        "colab": {
          "base_uri": "https://localhost:8080/",
          "height": 792
        },
        "outputId": "0ffa9d0d-ba7f-4544-8835-b34dae0ef09f"
      },
      "execution_count": 11,
      "outputs": [
        {
          "output_type": "display_data",
          "data": {
            "text/plain": [
              "<Figure size 800x800 with 2 Axes>"
            ],
            "image/png": "[encoded data removed]"
          },
          "metadata": {}
        }
      ]
    },
    {
      "cell_type": "code",
      "source": [
        "# Calculate additional initial metrics\n",
        "f1_original = f1_score(y_true, y_pred, average='weighted')\n",
        "precision_original = precision_score(y_true, y_pred, average='weighted')\n",
        "recall_original = recall_score(y_true, y_pred, average='weighted')\n",
        "\n",
        "print(f\"Original F1 Score: {f1_original:.2f}\")\n",
        "print(f\"Original Precision: {precision_original:.2f}\")\n",
        "print(f\"Original Recall: {recall_original:.2f}\")"
      ],
      "metadata": {
        "id": "oRWkmAHDd7va",
        "colab": {
          "base_uri": "https://localhost:8080/"
        },
        "outputId": "dbabae17-4bfa-4439-cd86-c60be4e7d1b0"
      },
      "execution_count": 12,
      "outputs": [
        {
          "output_type": "stream",
          "name": "stdout",
          "text": [
            "Original F1 Score: 1.00\n",
            "Original Precision: 1.00\n",
            "Original Recall: 1.00\n"
          ]
        }
      ]
    },
    {
      "cell_type": "code",
      "source": [
        "# Structured Pruning 적용\n",
        "def apply_structured_pruning(model, pruning_percentage=50):\n",
        "    for layer in model.layers:\n",
        "        if isinstance(layer, tf.keras.layers.Conv2D):\n",
        "            weights, biases = layer.get_weights()\n",
        "            num_filters = weights.shape[-1]\n",
        "            num_prune = int(num_filters * pruning_percentage / 100)\n",
        "\n",
        "            # Compute the L1 norm of the filters\n",
        "            filter_norms = np.sum(np.abs(weights), axis=(0, 1, 2))\n",
        "            prune_indices = np.argsort(filter_norms)[:num_prune]\n",
        "\n",
        "            # Set the weights of the pruned filters to zero\n",
        "            for idx in prune_indices:\n",
        "                weights[:, :, :, idx] = 0\n",
        "\n",
        "            layer.set_weights([weights, biases])\n",
        "\n",
        "apply_structured_pruning(model, pruning_percentage=70)\n",
        "\n",
        "# Recompile pruned model\n",
        "model.compile(optimizer=tf.keras.optimizers.Adam(learning_rate=0.001),\n",
        "              loss='sparse_categorical_crossentropy',\n",
        "              metrics=['accuracy'])"
      ],
      "metadata": {
        "id": "ftRnVB2Ud7yQ"
      },
      "execution_count": 13,
      "outputs": []
    },
    {
      "cell_type": "code",
      "source": [
        "# Train pruned model\n",
        "history_pruned = model.fit(train_dataset, validation_data=validation_dataset, epochs=10, callbacks=[reduce_lr])"
      ],
      "metadata": {
        "id": "EzONIC0nd70p",
        "colab": {
          "base_uri": "https://localhost:8080/"
        },
        "outputId": "1f417797-d1fd-48bb-c46e-f123398c35d7"
      },
      "execution_count": 14,
      "outputs": [
        {
          "output_type": "stream",
          "name": "stdout",
          "text": [
            "Epoch 1/10\n",
            "376/376 [==============================] - 821s 2s/step - loss: 0.0044 - accuracy: 0.9996 - val_loss: 0.0209 - val_accuracy: 0.9990 - lr: 0.0010\n",
            "Epoch 2/10\n",
            "376/376 [==============================] - 802s 2s/step - loss: 0.0133 - accuracy: 0.9978 - val_loss: 1.1972e-06 - val_accuracy: 1.0000 - lr: 0.0010\n",
            "Epoch 3/10\n",
            "376/376 [==============================] - 811s 2s/step - loss: 0.0185 - accuracy: 0.9993 - val_loss: 0.0017 - val_accuracy: 0.9998 - lr: 0.0010\n",
            "Epoch 4/10\n",
            "376/376 [==============================] - 809s 2s/step - loss: 0.0119 - accuracy: 0.9964 - val_loss: 5.9384e-06 - val_accuracy: 1.0000 - lr: 0.0010\n",
            "Epoch 5/10\n",
            "376/376 [==============================] - 803s 2s/step - loss: 2.1373e-05 - accuracy: 1.0000 - val_loss: 9.0567e-07 - val_accuracy: 1.0000 - lr: 0.0010\n",
            "Epoch 6/10\n",
            "376/376 [==============================] - 804s 2s/step - loss: 0.0140 - accuracy: 0.9999 - val_loss: 7.2173e-06 - val_accuracy: 1.0000 - lr: 0.0010\n",
            "Epoch 7/10\n",
            "376/376 [==============================] - 809s 2s/step - loss: 0.0122 - accuracy: 0.9987 - val_loss: 1.2965e-05 - val_accuracy: 1.0000 - lr: 0.0010\n",
            "Epoch 8/10\n",
            "376/376 [==============================] - 808s 2s/step - loss: 0.0138 - accuracy: 0.9999 - val_loss: 9.8053e-06 - val_accuracy: 1.0000 - lr: 2.0000e-04\n",
            "Epoch 9/10\n",
            "376/376 [==============================] - 803s 2s/step - loss: 8.8119e-06 - accuracy: 1.0000 - val_loss: 6.3575e-06 - val_accuracy: 1.0000 - lr: 2.0000e-04\n",
            "Epoch 10/10\n",
            "376/376 [==============================] - 810s 2s/step - loss: 0.0073 - accuracy: 0.9999 - val_loss: 1.2212e-05 - val_accuracy: 1.0000 - lr: 2.0000e-04\n"
          ]
        }
      ]
    },
    {
      "cell_type": "code",
      "source": [
        "# Evaluate pruned model\n",
        "val_loss, val_acc = model.evaluate(validation_dataset)\n",
        "print(f\"Pruned Validation Loss: {val_loss}\")\n",
        "print(f\"Pruned Validation Accuracy: {val_acc}\")"
      ],
      "metadata": {
        "id": "Ih5CXIyYd73I",
        "colab": {
          "base_uri": "https://localhost:8080/"
        },
        "outputId": "109f5299-c19f-448e-885d-988022a7292a"
      },
      "execution_count": 15,
      "outputs": [
        {
          "output_type": "stream",
          "name": "stdout",
          "text": [
            "125/125 [==============================] - 70s 556ms/step - loss: 1.2212e-05 - accuracy: 1.0000\n",
            "Pruned Validation Loss: 1.221154070663033e-05\n",
            "Pruned Validation Accuracy: 1.0\n"
          ]
        }
      ]
    },
    {
      "cell_type": "code",
      "source": [
        "test_loss, test_acc = model.evaluate(test_dataset)\n",
        "print(f\"Pruned Test Loss: {test_loss}\")\n",
        "print(f\"Pruned Test Accuracy: {test_acc}\")"
      ],
      "metadata": {
        "id": "ccSokQcTd75w",
        "colab": {
          "base_uri": "https://localhost:8080/"
        },
        "outputId": "6953d023-cb1e-43a9-d948-47d6af4dfde0"
      },
      "execution_count": 16,
      "outputs": [
        {
          "output_type": "stream",
          "name": "stdout",
          "text": [
            "126/126 [==============================] - 71s 554ms/step - loss: 7.5806e-05 - accuracy: 1.0000\n",
            "Pruned Test Loss: 7.58060414227657e-05\n",
            "Pruned Test Accuracy: 1.0\n"
          ]
        }
      ]
    },
    {
      "cell_type": "code",
      "source": [
        "# Strip pruning wrappers and save pruned model\n",
        "model_for_export = tfmot.sparsity.keras.strip_pruning(model)\n",
        "model_for_export.save('pruned_motor_fault_classification_model.h5')\n",
        "pruned_model_size = os.path.getsize('pruned_motor_fault_classification_model.h5')\n",
        "print(f\"Pruned Model Size: {pruned_model_size / (1024 * 1024):.2f} MB\")"
      ],
      "metadata": {
        "id": "_aaXhX1Eei3e",
        "colab": {
          "base_uri": "https://localhost:8080/"
        },
        "outputId": "d4064dac-a81d-4e4d-d356-88f172fecb90"
      },
      "execution_count": 17,
      "outputs": [
        {
          "output_type": "stream",
          "name": "stderr",
          "text": [
            "/usr/local/lib/python3.10/dist-packages/keras/src/engine/training.py:3103: UserWarning: You are saving your model as an HDF5 file via `model.save()`. This file format is considered legacy. We recommend using instead the native Keras format, e.g. `model.save('my_model.keras')`.\n",
            "  saving_api.save_model(\n",
            "WARNING:tensorflow:Compiled the loaded model, but the compiled metrics have yet to be built. `model.compile_metrics` will be empty until you train or evaluate the model.\n"
          ]
        },
        {
          "output_type": "stream",
          "name": "stdout",
          "text": [
            "Pruned Model Size: 94.34 MB\n"
          ]
        }
      ]
    },
    {
      "cell_type": "code",
      "source": [
        "# Measure pruned model inference time and memory usage\n",
        "start_time = time.time()\n",
        "tracemalloc.start()\n",
        "y_true_pruned, y_pred_pruned = [], []\n",
        "for batch in test_dataset:\n",
        "    images, labels = batch\n",
        "    y_true_pruned.extend(labels.numpy())\n",
        "    predictions = model_for_export.predict(images)\n",
        "    y_pred_pruned.extend(np.argmax(predictions, axis=1))\n",
        "end_time = time.time()\n",
        "current, peak = tracemalloc.get_traced_memory()\n",
        "tracemalloc.stop()\n",
        "pruned_inference_time = end_time - start_time\n",
        "pruned_peak_memory = peak / (1024 * 1024)\n",
        "print(f\"Pruned Inference Time: {pruned_inference_time:.2f} seconds\")\n",
        "print(f\"Pruned Peak Memory Usage: {pruned_peak_memory:.2f} MB\")"
      ],
      "metadata": {
        "id": "b2aNQiJ2ei6H",
        "colab": {
          "base_uri": "https://localhost:8080/"
        },
        "outputId": "aa5599d9-ecc6-4b9f-9c0d-2b2d8adb0385"
      },
      "execution_count": 18,
      "outputs": [
        {
          "output_type": "stream",
          "name": "stdout",
          "text": [
            "1/1 [==============================] - 2s 2s/step\n",
            "1/1 [==============================] - 0s 482ms/step\n",
            "1/1 [==============================] - 1s 580ms/step\n",
            "1/1 [==============================] - 1s 558ms/step\n",
            "1/1 [==============================] - 1s 566ms/step\n",
            "1/1 [==============================] - 1s 576ms/step\n",
            "1/1 [==============================] - 1s 582ms/step\n",
            "1/1 [==============================] - 1s 517ms/step\n",
            "1/1 [==============================] - 1s 573ms/step\n",
            "1/1 [==============================] - 0s 487ms/step\n",
            "1/1 [==============================] - 0s 484ms/step\n",
            "1/1 [==============================] - 1s 579ms/step\n",
            "1/1 [==============================] - 1s 534ms/step\n",
            "1/1 [==============================] - 1s 503ms/step\n",
            "1/1 [==============================] - 1s 560ms/step\n",
            "1/1 [==============================] - 1s 556ms/step\n",
            "1/1 [==============================] - 0s 497ms/step\n",
            "1/1 [==============================] - 1s 562ms/step\n",
            "1/1 [==============================] - 1s 544ms/step\n",
            "1/1 [==============================] - 1s 547ms/step\n",
            "1/1 [==============================] - 1s 568ms/step\n",
            "1/1 [==============================] - 1s 585ms/step\n",
            "1/1 [==============================] - 1s 515ms/step\n",
            "1/1 [==============================] - 1s 524ms/step\n",
            "1/1 [==============================] - 1s 547ms/step\n",
            "1/1 [==============================] - 1s 501ms/step\n",
            "1/1 [==============================] - 1s 556ms/step\n",
            "1/1 [==============================] - 1s 549ms/step\n",
            "1/1 [==============================] - 1s 583ms/step\n",
            "1/1 [==============================] - 1s 566ms/step\n",
            "1/1 [==============================] - 1s 560ms/step\n",
            "1/1 [==============================] - 1s 562ms/step\n",
            "1/1 [==============================] - 1s 591ms/step\n",
            "1/1 [==============================] - 1s 555ms/step\n",
            "1/1 [==============================] - 1s 555ms/step\n",
            "1/1 [==============================] - 1s 537ms/step\n",
            "1/1 [==============================] - 1s 568ms/step\n",
            "1/1 [==============================] - 1s 529ms/step\n",
            "1/1 [==============================] - 1s 509ms/step\n",
            "1/1 [==============================] - 1s 501ms/step\n",
            "1/1 [==============================] - 0s 484ms/step\n",
            "1/1 [==============================] - 1s 554ms/step\n",
            "1/1 [==============================] - 1s 559ms/step\n",
            "1/1 [==============================] - 1s 534ms/step\n",
            "1/1 [==============================] - 0s 470ms/step\n",
            "1/1 [==============================] - 1s 626ms/step\n",
            "1/1 [==============================] - 1s 559ms/step\n",
            "1/1 [==============================] - 1s 570ms/step\n",
            "1/1 [==============================] - 1s 549ms/step\n",
            "1/1 [==============================] - 1s 564ms/step\n",
            "1/1 [==============================] - 1s 619ms/step\n",
            "1/1 [==============================] - 1s 561ms/step\n",
            "1/1 [==============================] - 1s 560ms/step\n",
            "1/1 [==============================] - 1s 570ms/step\n",
            "1/1 [==============================] - 0s 492ms/step\n",
            "1/1 [==============================] - 1s 501ms/step\n",
            "1/1 [==============================] - 1s 564ms/step\n",
            "1/1 [==============================] - 1s 549ms/step\n",
            "1/1 [==============================] - 0s 475ms/step\n",
            "1/1 [==============================] - 1s 520ms/step\n",
            "1/1 [==============================] - 1s 525ms/step\n",
            "1/1 [==============================] - 1s 544ms/step\n",
            "1/1 [==============================] - 1s 561ms/step\n",
            "1/1 [==============================] - 0s 493ms/step\n",
            "1/1 [==============================] - 1s 542ms/step\n",
            "1/1 [==============================] - 1s 539ms/step\n",
            "1/1 [==============================] - 1s 500ms/step\n",
            "1/1 [==============================] - 1s 531ms/step\n",
            "1/1 [==============================] - 1s 531ms/step\n",
            "1/1 [==============================] - 0s 465ms/step\n",
            "1/1 [==============================] - 1s 565ms/step\n",
            "1/1 [==============================] - 1s 525ms/step\n",
            "1/1 [==============================] - 1s 560ms/step\n",
            "1/1 [==============================] - 1s 565ms/step\n",
            "1/1 [==============================] - 0s 496ms/step\n",
            "1/1 [==============================] - 0s 500ms/step\n",
            "1/1 [==============================] - 1s 545ms/step\n",
            "1/1 [==============================] - 1s 568ms/step\n",
            "1/1 [==============================] - 1s 557ms/step\n",
            "1/1 [==============================] - 1s 524ms/step\n",
            "1/1 [==============================] - 1s 553ms/step\n",
            "1/1 [==============================] - 1s 546ms/step\n",
            "1/1 [==============================] - 1s 542ms/step\n",
            "1/1 [==============================] - 1s 533ms/step\n",
            "1/1 [==============================] - 1s 537ms/step\n",
            "1/1 [==============================] - 1s 535ms/step\n",
            "1/1 [==============================] - 1s 535ms/step\n",
            "1/1 [==============================] - 1s 544ms/step\n",
            "1/1 [==============================] - 1s 538ms/step\n",
            "1/1 [==============================] - 1s 566ms/step\n",
            "1/1 [==============================] - 1s 560ms/step\n",
            "1/1 [==============================] - 1s 554ms/step\n",
            "1/1 [==============================] - 1s 508ms/step\n",
            "1/1 [==============================] - 1s 525ms/step\n",
            "1/1 [==============================] - 1s 553ms/step\n",
            "1/1 [==============================] - 1s 559ms/step\n",
            "1/1 [==============================] - 1s 565ms/step\n",
            "1/1 [==============================] - 1s 557ms/step\n",
            "1/1 [==============================] - 1s 545ms/step\n",
            "1/1 [==============================] - 1s 559ms/step\n",
            "1/1 [==============================] - 1s 546ms/step\n",
            "1/1 [==============================] - 1s 547ms/step\n",
            "1/1 [==============================] - 1s 548ms/step\n",
            "1/1 [==============================] - 1s 537ms/step\n",
            "1/1 [==============================] - 1s 552ms/step\n",
            "1/1 [==============================] - 1s 558ms/step\n",
            "1/1 [==============================] - 1s 551ms/step\n",
            "1/1 [==============================] - 1s 555ms/step\n",
            "1/1 [==============================] - 1s 560ms/step\n",
            "1/1 [==============================] - 1s 552ms/step\n",
            "1/1 [==============================] - 1s 557ms/step\n",
            "1/1 [==============================] - 1s 558ms/step\n",
            "1/1 [==============================] - 1s 550ms/step\n",
            "1/1 [==============================] - 1s 557ms/step\n",
            "1/1 [==============================] - 1s 556ms/step\n",
            "1/1 [==============================] - 1s 563ms/step\n",
            "1/1 [==============================] - 1s 551ms/step\n",
            "1/1 [==============================] - 1s 565ms/step\n",
            "1/1 [==============================] - 1s 575ms/step\n",
            "1/1 [==============================] - 1s 575ms/step\n",
            "1/1 [==============================] - 1s 555ms/step\n",
            "1/1 [==============================] - 1s 563ms/step\n",
            "1/1 [==============================] - 1s 551ms/step\n",
            "1/1 [==============================] - 1s 550ms/step\n",
            "1/1 [==============================] - 1s 550ms/step\n",
            "1/1 [==============================] - 2s 2s/step\n",
            "Pruned Inference Time: 84.38 seconds\n",
            "Pruned Peak Memory Usage: 5.10 MB\n"
          ]
        }
      ]
    },
    {
      "cell_type": "code",
      "source": [
        "# Pruned model evaluation metrics\n",
        "conf_matrix_pruned = confusion_matrix(y_true_pruned, y_pred_pruned)\n",
        "print(\"Confusion Matrix (Pruned):\")\n",
        "print(conf_matrix_pruned)\n",
        "\n",
        "print(\"Classification Report (Pruned):\")\n",
        "print(classification_report(y_true_pruned, y_pred_pruned, target_names=['normal', 'fault_BB', 'fault_SM', 'fault_RI']))"
      ],
      "metadata": {
        "id": "0BVCtQ3Mei8f",
        "colab": {
          "base_uri": "https://localhost:8080/"
        },
        "outputId": "61c2c7e7-3af4-411d-c2a8-9b24b94eb3ca"
      },
      "execution_count": 19,
      "outputs": [
        {
          "output_type": "stream",
          "name": "stdout",
          "text": [
            "Confusion Matrix (Pruned):\n",
            "[[1004    0    0    0]\n",
            " [   0 1000    0    0]\n",
            " [   0    0 1000    0]\n",
            " [   0    0    0 1000]]\n",
            "Classification Report (Pruned):\n",
            "              precision    recall  f1-score   support\n",
            "\n",
            "      normal       1.00      1.00      1.00      1004\n",
            "    fault_BB       1.00      1.00      1.00      1000\n",
            "    fault_SM       1.00      1.00      1.00      1000\n",
            "    fault_RI       1.00      1.00      1.00      1000\n",
            "\n",
            "    accuracy                           1.00      4004\n",
            "   macro avg       1.00      1.00      1.00      4004\n",
            "weighted avg       1.00      1.00      1.00      4004\n",
            "\n"
          ]
        }
      ]
    },
    {
      "cell_type": "code",
      "source": [
        "# Visualize pruned confusion matrix\n",
        "plt.figure(figsize=(8, 8))\n",
        "plt.imshow(conf_matrix_pruned, interpolation='nearest', cmap=plt.cm.Blues)\n",
        "plt.title('Confusion Matrix (Pruned)')\n",
        "plt.colorbar()\n",
        "tick_marks = np.arange(4)\n",
        "plt.xticks(tick_marks, ['Normal', 'Fault_BB', 'Fault_SM', 'Fault_RI'], rotation=45)\n",
        "plt.yticks(tick_marks, ['Normal', 'Fault_BB', 'Fault_SM', 'Fault_RI'])\n",
        "\n",
        "fmt = 'd'\n",
        "thresh = conf_matrix_pruned.max() / 2.\n",
        "for i, j in np.ndindex(conf_matrix_pruned.shape):\n",
        "    plt.text(j, i, format(conf_matrix_pruned[i, j], fmt),\n",
        "             ha=\"center\", va=\"center\",\n",
        "             color=\"white\" if conf_matrix_pruned[i, j] > thresh else \"black\")\n",
        "\n",
        "plt.ylabel('True label')\n",
        "plt.xlabel('Predicted label')\n",
        "plt.tight_layout()\n",
        "plt.show()"
      ],
      "metadata": {
        "id": "oPDi__J0ei-9",
        "colab": {
          "base_uri": "https://localhost:8080/",
          "height": 792
        },
        "outputId": "dc39d345-1650-44ee-adcb-2a5eae573abe"
      },
      "execution_count": 20,
      "outputs": [
        {
          "output_type": "display_data",
          "data": {
            "text/plain": [
              "<Figure size 800x800 with 2 Axes>"
            ],
            "image/png": "[encoded data removed]"
          },
          "metadata": {}
        }
      ]
    },
    {
      "cell_type": "code",
      "source": [
        "# Calculate additional pruned metrics\n",
        "f1_pruned = f1_score(y_true_pruned, y_pred_pruned, average='weighted')\n",
        "precision_pruned = precision_score(y_true_pruned, y_pred_pruned, average='weighted')\n",
        "recall_pruned = recall_score(y_true_pruned, y_pred_pruned, average='weighted')\n",
        "\n",
        "print(f\"Pruned F1 Score: {f1_pruned:.2f}\")\n",
        "print(f\"Pruned Precision: {precision_pruned:.2f}\")\n",
        "print(f\"Pruned Recall: {recall_pruned:.2f}\")"
      ],
      "metadata": {
        "id": "2yRuLhNWd78J",
        "colab": {
          "base_uri": "https://localhost:8080/"
        },
        "outputId": "1327b56d-ffba-43be-cfd4-88ad24aa3954"
      },
      "execution_count": 21,
      "outputs": [
        {
          "output_type": "stream",
          "name": "stdout",
          "text": [
            "Pruned F1 Score: 1.00\n",
            "Pruned Precision: 1.00\n",
            "Pruned Recall: 1.00\n"
          ]
        }
      ]
    },
    {
      "cell_type": "code",
      "source": [
        "# Apply weight clustering\n",
        "cluster_weights = tfmot.clustering.keras.cluster_weights\n",
        "strip_clustering = tfmot.clustering.keras.strip_clustering\n",
        "\n",
        "clustering_params = {\n",
        "    'number_of_clusters': 32,\n",
        "    'cluster_centroids_init': tfmot.clustering.keras.CentroidInitialization.KMEANS_PLUS_PLUS\n",
        "}\n",
        "\n",
        "clustered_model = cluster_weights(model_for_export, **clustering_params)"
      ],
      "metadata": {
        "id": "0V7RMBWtSg3n"
      },
      "execution_count": 22,
      "outputs": []
    },
    {
      "cell_type": "code",
      "source": [
        "# Recompile clustered model\n",
        "clustered_model.compile(optimizer=tf.keras.optimizers.Adam(learning_rate=0.001),\n",
        "                        loss='sparse_categorical_crossentropy',\n",
        "                        metrics=['accuracy'])\n"
      ],
      "metadata": {
        "id": "okGe7iwbSm4w"
      },
      "execution_count": 23,
      "outputs": []
    },
    {
      "cell_type": "code",
      "source": [
        "# Train clustered model\n",
        "history_clustered = clustered_model.fit(train_dataset, validation_data=validation_dataset, epochs=10, callbacks=[reduce_lr])\n"
      ],
      "metadata": {
        "colab": {
          "base_uri": "https://localhost:8080/"
        },
        "id": "M8PXAcVDSm7a",
        "outputId": "a1caa7f1-ae96-4028-d6a9-13366213d397"
      },
      "execution_count": 24,
      "outputs": [
        {
          "output_type": "stream",
          "name": "stdout",
          "text": [
            "Epoch 1/10\n",
            "376/376 [==============================] - 992s 3s/step - loss: 0.0047 - accuracy: 0.9995 - val_loss: 7.9143e-07 - val_accuracy: 1.0000 - lr: 0.0010\n",
            "Epoch 2/10\n",
            "376/376 [==============================] - 973s 3s/step - loss: 2.4623e-07 - accuracy: 1.0000 - val_loss: 4.8941e-07 - val_accuracy: 1.0000 - lr: 0.0010\n",
            "Epoch 3/10\n",
            "376/376 [==============================] - 979s 3s/step - loss: 1.0635e-07 - accuracy: 1.0000 - val_loss: 3.1278e-07 - val_accuracy: 1.0000 - lr: 0.0010\n",
            "Epoch 4/10\n",
            "376/376 [==============================] - 981s 3s/step - loss: 5.4281e-08 - accuracy: 1.0000 - val_loss: 2.1027e-07 - val_accuracy: 1.0000 - lr: 0.0010\n",
            "Epoch 5/10\n",
            "376/376 [==============================] - 981s 3s/step - loss: 2.9842e-08 - accuracy: 1.0000 - val_loss: 1.5432e-07 - val_accuracy: 1.0000 - lr: 0.0010\n",
            "Epoch 6/10\n",
            "376/376 [==============================] - 985s 3s/step - loss: 1.8868e-08 - accuracy: 1.0000 - val_loss: 1.1490e-07 - val_accuracy: 1.0000 - lr: 0.0010\n",
            "Epoch 7/10\n",
            "376/376 [==============================] - 986s 3s/step - loss: 1.3834e-08 - accuracy: 1.0000 - val_loss: 1.0849e-07 - val_accuracy: 1.0000 - lr: 2.0000e-04\n",
            "Epoch 8/10\n",
            "376/376 [==============================] - 995s 3s/step - loss: 1.3119e-08 - accuracy: 1.0000 - val_loss: 1.0662e-07 - val_accuracy: 1.0000 - lr: 2.0000e-04\n",
            "Epoch 9/10\n",
            "376/376 [==============================] - 987s 3s/step - loss: 1.2125e-08 - accuracy: 1.0000 - val_loss: 9.9050e-08 - val_accuracy: 1.0000 - lr: 2.0000e-04\n",
            "Epoch 10/10\n",
            "376/376 [==============================] - 991s 3s/step - loss: 1.0676e-08 - accuracy: 1.0000 - val_loss: 9.1869e-08 - val_accuracy: 1.0000 - lr: 2.0000e-04\n"
          ]
        }
      ]
    },
    {
      "cell_type": "code",
      "source": [
        "# Evaluate clustered model\n",
        "val_loss, val_acc = clustered_model.evaluate(validation_dataset)\n",
        "print(f\"Clustered Validation Loss: {val_loss}\")\n",
        "print(f\"Clustered Validation Accuracy: {val_acc}\")"
      ],
      "metadata": {
        "colab": {
          "base_uri": "https://localhost:8080/"
        },
        "id": "fLZufEGASt33",
        "outputId": "28a35897-a7bc-4de2-c39d-69c2eff72918"
      },
      "execution_count": 25,
      "outputs": [
        {
          "output_type": "stream",
          "name": "stdout",
          "text": [
            "125/125 [==============================] - 129s 1s/step - loss: 9.1869e-08 - accuracy: 1.0000\n",
            "Clustered Validation Loss: 9.186880589595603e-08\n",
            "Clustered Validation Accuracy: 1.0\n"
          ]
        }
      ]
    },
    {
      "cell_type": "code",
      "source": [
        "test_loss, test_acc = clustered_model.evaluate(test_dataset)\n",
        "print(f\"Clustered Test Loss: {test_loss}\")\n",
        "print(f\"Clustered Test Accuracy: {test_acc}\")\n"
      ],
      "metadata": {
        "colab": {
          "base_uri": "https://localhost:8080/"
        },
        "id": "ZjdQ_gXOSt8V",
        "outputId": "23c721f9-575d-48b2-c8c4-cab42327d38f"
      },
      "execution_count": 26,
      "outputs": [
        {
          "output_type": "stream",
          "name": "stdout",
          "text": [
            "126/126 [==============================] - 130s 1s/step - loss: 4.9700e-06 - accuracy: 1.0000\n",
            "Clustered Test Loss: 4.970031568518607e-06\n",
            "Clustered Test Accuracy: 1.0\n"
          ]
        }
      ]
    },
    {
      "cell_type": "code",
      "source": [
        "# Strip clustering wrappers and save clustered model\n",
        "clustered_model_path = 'clustered_motor_fault_classification_model.keras'\n",
        "final_model = strip_clustering(clustered_model)\n",
        "if os.path.exists(clustered_model_path):\n",
        "    os.remove(clustered_model_path)\n",
        "final_model.save(clustered_model_path)\n",
        "clustered_model_size = os.path.getsize(clustered_model_path)\n",
        "print(f\"Clustered Model Size: {clustered_model_size / (1024 * 1024):.2f} MB\")"
      ],
      "metadata": {
        "colab": {
          "base_uri": "https://localhost:8080/"
        },
        "id": "CmXFJOscSt_v",
        "outputId": "9cb6a1ac-5a95-4a27-c221-1f499176b253"
      },
      "execution_count": 28,
      "outputs": [
        {
          "output_type": "stream",
          "name": "stdout",
          "text": [
            "Clustered Model Size: 94.54 MB\n"
          ]
        }
      ]
    },
    {
      "cell_type": "code",
      "source": [
        "# Measure clustered model inference time and memory usage\n",
        "start_time = time.time()\n",
        "tracemalloc.start()\n",
        "y_true_clustered, y_pred_clustered = [], []\n",
        "for batch in test_dataset:\n",
        "    images, labels = batch\n",
        "    y_true_clustered.extend(labels.numpy())\n",
        "    predictions = final_model.predict(images)\n",
        "    y_pred_clustered.extend(np.argmax(predictions, axis=1))\n",
        "end_time = time.time()\n",
        "current, peak = tracemalloc.get_traced_memory()\n",
        "tracemalloc.stop()\n",
        "clustered_inference_time = end_time - start_time\n",
        "clustered_peak_memory = peak / (1024 * 1024)\n",
        "print(f\"Clustered Inference Time: {clustered_inference_time:.2f} seconds\")\n",
        "print(f\"Clustered Peak Memory Usage: {clustered_peak_memory:.2f} MB\")"
      ],
      "metadata": {
        "colab": {
          "base_uri": "https://localhost:8080/"
        },
        "id": "SOrOoTRMSuC8",
        "outputId": "848193d8-8740-4e03-ca66-da9a8b36b49e"
      },
      "execution_count": 29,
      "outputs": [
        {
          "output_type": "stream",
          "name": "stdout",
          "text": [
            "1/1 [==============================] - 2s 2s/step\n",
            "1/1 [==============================] - 1s 573ms/step\n",
            "1/1 [==============================] - 1s 633ms/step\n",
            "1/1 [==============================] - 1s 592ms/step\n",
            "1/1 [==============================] - 1s 599ms/step\n",
            "1/1 [==============================] - 1s 581ms/step\n",
            "1/1 [==============================] - 1s 610ms/step\n",
            "1/1 [==============================] - 1s 558ms/step\n",
            "1/1 [==============================] - 1s 587ms/step\n",
            "1/1 [==============================] - 1s 583ms/step\n",
            "1/1 [==============================] - 1s 572ms/step\n",
            "1/1 [==============================] - 1s 512ms/step\n",
            "1/1 [==============================] - 1s 565ms/step\n",
            "1/1 [==============================] - 1s 574ms/step\n",
            "1/1 [==============================] - 1s 573ms/step\n",
            "1/1 [==============================] - 1s 567ms/step\n",
            "1/1 [==============================] - 1s 561ms/step\n",
            "1/1 [==============================] - 1s 578ms/step\n",
            "1/1 [==============================] - 1s 578ms/step\n",
            "1/1 [==============================] - 1s 545ms/step\n",
            "1/1 [==============================] - 1s 547ms/step\n",
            "1/1 [==============================] - 1s 570ms/step\n",
            "1/1 [==============================] - 1s 598ms/step\n",
            "1/1 [==============================] - 1s 567ms/step\n",
            "1/1 [==============================] - 1s 559ms/step\n",
            "1/1 [==============================] - 1s 589ms/step\n",
            "1/1 [==============================] - 1s 574ms/step\n",
            "1/1 [==============================] - 1s 519ms/step\n",
            "1/1 [==============================] - 1s 610ms/step\n",
            "1/1 [==============================] - 1s 577ms/step\n",
            "1/1 [==============================] - 1s 569ms/step\n",
            "1/1 [==============================] - 1s 542ms/step\n",
            "1/1 [==============================] - 1s 577ms/step\n",
            "1/1 [==============================] - 1s 541ms/step\n",
            "1/1 [==============================] - 1s 570ms/step\n",
            "1/1 [==============================] - 1s 591ms/step\n",
            "1/1 [==============================] - 1s 587ms/step\n",
            "1/1 [==============================] - 1s 560ms/step\n",
            "1/1 [==============================] - 0s 472ms/step\n",
            "1/1 [==============================] - 1s 553ms/step\n",
            "1/1 [==============================] - 1s 572ms/step\n",
            "1/1 [==============================] - 1s 589ms/step\n",
            "1/1 [==============================] - 1s 560ms/step\n",
            "1/1 [==============================] - 1s 577ms/step\n",
            "1/1 [==============================] - 1s 567ms/step\n",
            "1/1 [==============================] - 1s 582ms/step\n",
            "1/1 [==============================] - 1s 561ms/step\n",
            "1/1 [==============================] - 1s 556ms/step\n",
            "1/1 [==============================] - 1s 586ms/step\n",
            "1/1 [==============================] - 1s 601ms/step\n",
            "1/1 [==============================] - 1s 573ms/step\n",
            "1/1 [==============================] - 1s 561ms/step\n",
            "1/1 [==============================] - 1s 574ms/step\n",
            "1/1 [==============================] - 1s 580ms/step\n",
            "1/1 [==============================] - 0s 482ms/step\n",
            "1/1 [==============================] - 0s 475ms/step\n",
            "1/1 [==============================] - 1s 554ms/step\n",
            "1/1 [==============================] - 1s 538ms/step\n",
            "1/1 [==============================] - 1s 506ms/step\n",
            "1/1 [==============================] - 1s 556ms/step\n",
            "1/1 [==============================] - 1s 574ms/step\n",
            "1/1 [==============================] - 1s 552ms/step\n",
            "1/1 [==============================] - 0s 487ms/step\n",
            "1/1 [==============================] - 1s 551ms/step\n",
            "1/1 [==============================] - 1s 534ms/step\n",
            "1/1 [==============================] - 1s 552ms/step\n",
            "1/1 [==============================] - 1s 589ms/step\n",
            "1/1 [==============================] - 1s 530ms/step\n",
            "1/1 [==============================] - 1s 563ms/step\n",
            "1/1 [==============================] - 1s 563ms/step\n",
            "1/1 [==============================] - 1s 561ms/step\n",
            "1/1 [==============================] - 1s 516ms/step\n",
            "1/1 [==============================] - 1s 585ms/step\n",
            "1/1 [==============================] - 1s 529ms/step\n",
            "1/1 [==============================] - 1s 546ms/step\n",
            "1/1 [==============================] - 1s 582ms/step\n",
            "1/1 [==============================] - 1s 555ms/step\n",
            "1/1 [==============================] - 1s 538ms/step\n",
            "1/1 [==============================] - 1s 536ms/step\n",
            "1/1 [==============================] - 0s 469ms/step\n",
            "1/1 [==============================] - 0s 466ms/step\n",
            "1/1 [==============================] - 0s 471ms/step\n",
            "1/1 [==============================] - 1s 562ms/step\n",
            "1/1 [==============================] - 1s 553ms/step\n",
            "1/1 [==============================] - 1s 559ms/step\n",
            "1/1 [==============================] - 1s 540ms/step\n",
            "1/1 [==============================] - 1s 554ms/step\n",
            "1/1 [==============================] - 1s 553ms/step\n",
            "1/1 [==============================] - 1s 551ms/step\n",
            "1/1 [==============================] - 1s 562ms/step\n",
            "1/1 [==============================] - 1s 567ms/step\n",
            "1/1 [==============================] - 1s 571ms/step\n",
            "1/1 [==============================] - 1s 590ms/step\n",
            "1/1 [==============================] - 1s 567ms/step\n",
            "1/1 [==============================] - 1s 549ms/step\n",
            "1/1 [==============================] - 1s 552ms/step\n",
            "1/1 [==============================] - 1s 562ms/step\n",
            "1/1 [==============================] - 1s 549ms/step\n",
            "1/1 [==============================] - 1s 554ms/step\n",
            "1/1 [==============================] - 1s 552ms/step\n",
            "1/1 [==============================] - 1s 555ms/step\n",
            "1/1 [==============================] - 1s 543ms/step\n",
            "1/1 [==============================] - 1s 541ms/step\n",
            "1/1 [==============================] - 0s 471ms/step\n",
            "1/1 [==============================] - 1s 526ms/step\n",
            "1/1 [==============================] - 1s 510ms/step\n",
            "1/1 [==============================] - 0s 496ms/step\n",
            "1/1 [==============================] - 0s 470ms/step\n",
            "1/1 [==============================] - 0s 490ms/step\n",
            "1/1 [==============================] - 1s 553ms/step\n",
            "1/1 [==============================] - 0s 469ms/step\n",
            "1/1 [==============================] - 0s 476ms/step\n",
            "1/1 [==============================] - 0s 471ms/step\n",
            "1/1 [==============================] - 1s 540ms/step\n",
            "1/1 [==============================] - 1s 556ms/step\n",
            "1/1 [==============================] - 1s 552ms/step\n",
            "1/1 [==============================] - 1s 560ms/step\n",
            "1/1 [==============================] - 0s 485ms/step\n",
            "1/1 [==============================] - 0s 498ms/step\n",
            "1/1 [==============================] - 1s 531ms/step\n",
            "1/1 [==============================] - 0s 459ms/step\n",
            "1/1 [==============================] - 0s 461ms/step\n",
            "1/1 [==============================] - 1s 509ms/step\n",
            "1/1 [==============================] - 0s 493ms/step\n",
            "1/1 [==============================] - 0s 491ms/step\n",
            "1/1 [==============================] - 2s 2s/step\n",
            "Clustered Inference Time: 84.56 seconds\n",
            "Clustered Peak Memory Usage: 5.14 MB\n"
          ]
        }
      ]
    },
    {
      "cell_type": "code",
      "source": [
        "# Clustered model evaluation metrics\n",
        "conf_matrix_clustered = confusion_matrix(y_true_clustered, y_pred_clustered)\n",
        "print(\"Confusion Matrix (Clustered):\")\n",
        "print(conf_matrix_clustered)\n",
        "\n",
        "print(\"Classification Report (Clustered):\")\n",
        "print(classification_report(y_true_clustered, y_pred_clustered, target_names=['normal', 'fault_BB', 'fault_SM', 'fault_RI']))\n",
        "\n",
        "# Visualize clustered confusion matrix\n",
        "plt.figure(figsize=(8, 8))\n",
        "plt.imshow(conf_matrix_clustered, interpolation='nearest', cmap=plt.cm.Blues)\n",
        "plt.title('Confusion Matrix (Clustered)')\n",
        "plt.colorbar()\n",
        "tick_marks = np.arange(4)\n",
        "plt.xticks(tick_marks, ['Normal', 'Fault_BB', 'Fault_SM', 'Fault_RI'], rotation=45)\n",
        "plt.yticks(tick_marks, ['Normal', 'Fault_BB', 'Fault_SM', 'Fault_RI'])\n",
        "\n",
        "fmt = 'd'\n",
        "thresh = conf_matrix_clustered.max() / 2.\n",
        "for i, j in np.ndindex(conf_matrix_clustered.shape):\n",
        "    plt.text(j, i, format(conf_matrix_clustered[i, j], fmt),\n",
        "             ha=\"center\", va=\"center\",\n",
        "             color=\"white\" if conf_matrix_clustered[i, j] > thresh else \"black\")\n",
        "\n",
        "plt.ylabel('True label')\n",
        "plt.xlabel('Predicted label')\n",
        "plt.tight_layout()\n",
        "plt.show()\n"
      ],
      "metadata": {
        "colab": {
          "base_uri": "https://localhost:8080/",
          "height": 1000
        },
        "id": "OVY1AYBpSuFe",
        "outputId": "9c590c71-4a00-4356-d944-e359ca144f92"
      },
      "execution_count": 30,
      "outputs": [
        {
          "output_type": "stream",
          "name": "stdout",
          "text": [
            "Confusion Matrix (Clustered):\n",
            "[[1004    0    0    0]\n",
            " [   0 1000    0    0]\n",
            " [   0    0 1000    0]\n",
            " [   0    0    0 1000]]\n",
            "Classification Report (Clustered):\n",
            "              precision    recall  f1-score   support\n",
            "\n",
            "      normal       1.00      1.00      1.00      1004\n",
            "    fault_BB       1.00      1.00      1.00      1000\n",
            "    fault_SM       1.00      1.00      1.00      1000\n",
            "    fault_RI       1.00      1.00      1.00      1000\n",
            "\n",
            "    accuracy                           1.00      4004\n",
            "   macro avg       1.00      1.00      1.00      4004\n",
            "weighted avg       1.00      1.00      1.00      4004\n",
            "\n"
          ]
        },
        {
          "output_type": "display_data",
          "data": {
            "text/plain": [
              "<Figure size 800x800 with 2 Axes>"
            ],
            "image/png": "[encoded data removed]"
          },
          "metadata": {}
        }
      ]
    },
    {
      "cell_type": "code",
      "source": [
        "# Calculate additional clustered metrics\n",
        "f1_clustered = f1_score(y_true_clustered, y_pred_clustered, average='weighted')\n",
        "precision_clustered = precision_score(y_true_clustered, y_pred_clustered, average='weighted')\n",
        "recall_clustered = recall_score(y_true_clustered, y_pred_clustered, average='weighted')\n",
        "\n",
        "print(f\"Clustered F1 Score: {f1_clustered:.2f}\")\n",
        "print(f\"Clustered Precision: {precision_clustered:.2f}\")\n",
        "print(f\"Clustered Recall: {recall_clustered:.2f}\")"
      ],
      "metadata": {
        "colab": {
          "base_uri": "https://localhost:8080/"
        },
        "id": "YmuE1-eLSuIC",
        "outputId": "d5d9fee3-1f12-494e-86fd-32a8340ec9e7"
      },
      "execution_count": 31,
      "outputs": [
        {
          "output_type": "stream",
          "name": "stdout",
          "text": [
            "Clustered F1 Score: 1.00\n",
            "Clustered Precision: 1.00\n",
            "Clustered Recall: 1.00\n"
          ]
        }
      ]
    },
    {
      "cell_type": "code",
      "source": [],
      "metadata": {
        "id": "a-erQwO5S82L"
      },
      "execution_count": null,
      "outputs": []
    }
  ]
}