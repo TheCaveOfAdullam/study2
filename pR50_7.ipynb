{
  "nbformat": 4,
  "nbformat_minor": 0,
  "metadata": {
    "colab": {
      "provenance": [],
      "gpuType": "T4",
      "authorship_tag": "ABX9TyMgk/slDUYERgNqe6XiIfIk",
      "include_colab_link": true
    },
    "kernelspec": {
      "name": "python3",
      "display_name": "Python 3"
    },
    "language_info": {
      "name": "python"
    },
    "accelerator": "GPU"
  },
  "cells": [
    {
      "cell_type": "markdown",
      "metadata": {
        "id": "view-in-github",
        "colab_type": "text"
      },
      "source": [
        "<a href=\"https://colab.research.google.com/github/TheCaveOfAdullam/study2/blob/main/pR50_7.ipynb\" target=\"_parent\"><img src=\"https://colab.research.google.com/assets/colab-badge.svg\" alt=\"Open In Colab\"/></a>"
      ]
    },
    {
      "cell_type": "code",
      "source": [
        "from google.colab import drive\n",
        "drive.mount('/content/drive')"
      ],
      "metadata": {
        "colab": {
          "base_uri": "https://localhost:8080/"
        },
        "id": "iJ2kpvDqfbsJ",
        "outputId": "3812e2b1-9dc5-4385-fe19-e186611fee95"
      },
      "execution_count": null,
      "outputs": [
        {
          "output_type": "stream",
          "name": "stdout",
          "text": [
            "Drive already mounted at /content/drive; to attempt to forcibly remount, call drive.mount(\"/content/drive\", force_remount=True).\n"
          ]
        }
      ]
    },
    {
      "cell_type": "code",
      "execution_count": null,
      "metadata": {
        "colab": {
          "base_uri": "https://localhost:8080/"
        },
        "id": "rae528Gvd6tr",
        "outputId": "d4386847-468a-499b-c936-749d2681be52"
      },
      "outputs": [
        {
          "output_type": "stream",
          "name": "stdout",
          "text": [
            "Requirement already satisfied: tensorflow_model_optimization in /usr/local/lib/python3.10/dist-packages (0.8.0)\n",
            "Requirement already satisfied: absl-py~=1.2 in /usr/local/lib/python3.10/dist-packages (from tensorflow_model_optimization) (1.4.0)\n",
            "Requirement already satisfied: dm-tree~=0.1.1 in /usr/local/lib/python3.10/dist-packages (from tensorflow_model_optimization) (0.1.8)\n",
            "Requirement already satisfied: numpy~=1.23 in /usr/local/lib/python3.10/dist-packages (from tensorflow_model_optimization) (1.25.2)\n",
            "Requirement already satisfied: six~=1.14 in /usr/local/lib/python3.10/dist-packages (from tensorflow_model_optimization) (1.16.0)\n"
          ]
        }
      ],
      "source": [
        "!pip install tensorflow_model_optimization\n",
        "\n",
        "import numpy as np\n",
        "import tensorflow as tf\n",
        "from tensorflow.keras.preprocessing import image_dataset_from_directory\n",
        "from tensorflow.keras.applications import ResNet50\n",
        "from tensorflow.keras.layers import GlobalAveragePooling2D, Dense, Dropout\n",
        "from tensorflow.keras.callbacks import ReduceLROnPlateau\n",
        "from sklearn.metrics import confusion_matrix, classification_report, f1_score, precision_score, recall_score\n",
        "import matplotlib.pyplot as plt\n",
        "import time\n",
        "import os\n",
        "import tracemalloc\n",
        "import tensorflow_model_optimization as tfmot"
      ]
    },
    {
      "cell_type": "code",
      "source": [
        "# Define paths\n",
        "train_dir = '/content/drive/MyDrive/motor_data/train'\n",
        "validation_dir = '/content/drive/MyDrive/motor_data/validation'\n",
        "test_dir = '/content/drive/MyDrive/motor_data/test'\n",
        "\n",
        "# Set image size and batch size\n",
        "image_size = (224, 224)\n",
        "batch_size = 32\n",
        "\n",
        "# Load datasets\n",
        "train_dataset = image_dataset_from_directory(train_dir, image_size=image_size, batch_size=batch_size, label_mode='int')\n",
        "validation_dataset = image_dataset_from_directory(validation_dir, image_size=image_size, batch_size=batch_size, label_mode='int')\n",
        "test_dataset = image_dataset_from_directory(test_dir, image_size=image_size, batch_size=batch_size, label_mode='int')"
      ],
      "metadata": {
        "colab": {
          "base_uri": "https://localhost:8080/"
        },
        "id": "jZQ24tMld7WC",
        "outputId": "6eb4b1e2-20d5-4a42-d8dd-d19a27edddc1"
      },
      "execution_count": null,
      "outputs": [
        {
          "output_type": "stream",
          "name": "stdout",
          "text": [
            "Found 12004 files belonging to 4 classes.\n",
            "Found 4000 files belonging to 4 classes.\n",
            "Found 4004 files belonging to 4 classes.\n"
          ]
        }
      ]
    },
    {
      "cell_type": "code",
      "source": [
        "# Load ResNet50 model\n",
        "base_model = ResNet50(weights='imagenet', include_top=False, input_shape=(224, 224, 3))\n",
        "\n",
        "# Add new top layers\n",
        "model = tf.keras.Sequential([\n",
        "    base_model,\n",
        "    GlobalAveragePooling2D(),\n",
        "    Dense(512, activation='relu'),\n",
        "    Dropout(0.5),\n",
        "    Dense(4, activation='softmax')  # 4 classes: normal, fault_BB, fault_SM, fault_RI\n",
        "])\n",
        "\n",
        "# Define ReduceLROnPlateau callback\n",
        "reduce_lr = ReduceLROnPlateau(monitor='val_loss', factor=0.2, patience=5, min_lr=0.0001)\n",
        "\n",
        "# Compile model\n",
        "model.compile(optimizer=tf.keras.optimizers.Adam(learning_rate=0.001),\n",
        "              loss='sparse_categorical_crossentropy',\n",
        "              metrics=['accuracy'])"
      ],
      "metadata": {
        "id": "rMaRtW9ld7bI"
      },
      "execution_count": null,
      "outputs": []
    },
    {
      "cell_type": "code",
      "source": [
        "\n",
        "# Train the model\n",
        "history = model.fit(train_dataset, validation_data=validation_dataset, epochs=10, callbacks=[reduce_lr])"
      ],
      "metadata": {
        "colab": {
          "base_uri": "https://localhost:8080/"
        },
        "id": "XSMXv6KOd7dx",
        "outputId": "359ff000-4b90-45cf-c632-3a02eded68a5"
      },
      "execution_count": null,
      "outputs": [
        {
          "output_type": "stream",
          "name": "stdout",
          "text": [
            "Epoch 1/10\n",
            "376/376 [==============================] - 328s 664ms/step - loss: 0.0488 - accuracy: 0.9880 - val_loss: 637.5654 - val_accuracy: 0.5000 - lr: 0.0010\n",
            "Epoch 2/10\n",
            "376/376 [==============================] - 247s 645ms/step - loss: 0.0042 - accuracy: 0.9998 - val_loss: 13.5971 - val_accuracy: 0.5305 - lr: 0.0010\n",
            "Epoch 3/10\n",
            "376/376 [==============================] - 277s 724ms/step - loss: 0.0142 - accuracy: 0.9978 - val_loss: 0.1993 - val_accuracy: 0.9822 - lr: 0.0010\n",
            "Epoch 4/10\n",
            "376/376 [==============================] - 245s 643ms/step - loss: 0.0265 - accuracy: 0.9956 - val_loss: 1.3587e-05 - val_accuracy: 1.0000 - lr: 0.0010\n",
            "Epoch 5/10\n",
            "376/376 [==============================] - 273s 719ms/step - loss: 0.0071 - accuracy: 0.9990 - val_loss: 5.7028e-04 - val_accuracy: 0.9998 - lr: 0.0010\n",
            "Epoch 6/10\n",
            "376/376 [==============================] - 247s 650ms/step - loss: 0.0222 - accuracy: 0.9990 - val_loss: 0.2417 - val_accuracy: 0.9668 - lr: 0.0010\n",
            "Epoch 7/10\n",
            "376/376 [==============================] - 248s 652ms/step - loss: 0.0676 - accuracy: 0.9953 - val_loss: 1.3840e-04 - val_accuracy: 1.0000 - lr: 0.0010\n",
            "Epoch 8/10\n",
            "376/376 [==============================] - 247s 649ms/step - loss: 0.0019 - accuracy: 0.9998 - val_loss: 0.0136 - val_accuracy: 0.9975 - lr: 0.0010\n",
            "Epoch 9/10\n",
            "376/376 [==============================] - 270s 710ms/step - loss: 0.0438 - accuracy: 0.9963 - val_loss: 2.2081e-05 - val_accuracy: 1.0000 - lr: 0.0010\n",
            "Epoch 10/10\n",
            "376/376 [==============================] - 238s 625ms/step - loss: 0.0017 - accuracy: 0.9998 - val_loss: 1.8005e-05 - val_accuracy: 1.0000 - lr: 2.0000e-04\n"
          ]
        }
      ]
    },
    {
      "cell_type": "code",
      "source": [
        "# Initial evaluation\n",
        "val_loss, val_acc = model.evaluate(validation_dataset)\n",
        "print(f\"Initial Validation Loss: {val_loss}\")\n",
        "print(f\"Initial Validation Accuracy: {val_acc}\")"
      ],
      "metadata": {
        "id": "ECMspkZxd7gQ",
        "colab": {
          "base_uri": "https://localhost:8080/"
        },
        "outputId": "85d41bf5-013d-45b6-c930-720a395a1986"
      },
      "execution_count": null,
      "outputs": [
        {
          "output_type": "stream",
          "name": "stdout",
          "text": [
            "125/125 [==============================] - 53s 402ms/step - loss: 1.8005e-05 - accuracy: 1.0000\n",
            "Initial Validation Loss: 1.8005377569352277e-05\n",
            "Initial Validation Accuracy: 1.0\n"
          ]
        }
      ]
    },
    {
      "cell_type": "code",
      "source": [
        "test_loss, test_acc = model.evaluate(test_dataset)\n",
        "print(f\"Initial Test Loss: {test_loss}\")\n",
        "print(f\"Initial Test Accuracy: {test_acc}\")"
      ],
      "metadata": {
        "id": "QOFkxq9Rd7iy",
        "colab": {
          "base_uri": "https://localhost:8080/"
        },
        "outputId": "9245bd57-3d96-4046-e07d-e90d3a98b2e4"
      },
      "execution_count": null,
      "outputs": [
        {
          "output_type": "stream",
          "name": "stdout",
          "text": [
            "126/126 [==============================] - 60s 440ms/step - loss: 1.0499e-04 - accuracy: 1.0000\n",
            "Initial Test Loss: 0.00010498540359549224\n",
            "Initial Test Accuracy: 1.0\n"
          ]
        }
      ]
    },
    {
      "cell_type": "code",
      "source": [
        "# Save initial model and measure size\n",
        "model.save('original_motor_fault_classification_model.h5')\n",
        "original_model_size = os.path.getsize('original_motor_fault_classification_model.h5')\n",
        "print(f\"Original Model Size: {original_model_size / (1024 * 1024):.2f} MB\")"
      ],
      "metadata": {
        "id": "6Wmvujl4d7lh",
        "colab": {
          "base_uri": "https://localhost:8080/"
        },
        "outputId": "ad4646e3-0a1e-432c-83b6-abe1236b9313"
      },
      "execution_count": null,
      "outputs": [
        {
          "output_type": "stream",
          "name": "stderr",
          "text": [
            "/usr/local/lib/python3.10/dist-packages/keras/src/engine/training.py:3103: UserWarning: You are saving your model as an HDF5 file via `model.save()`. This file format is considered legacy. We recommend using instead the native Keras format, e.g. `model.save('my_model.keras')`.\n",
            "  saving_api.save_model(\n"
          ]
        },
        {
          "output_type": "stream",
          "name": "stdout",
          "text": [
            "Original Model Size: 282.31 MB\n"
          ]
        }
      ]
    },
    {
      "cell_type": "code",
      "source": [
        "# Measure initial inference time and memory usage\n",
        "start_time = time.time()\n",
        "tracemalloc.start()\n",
        "y_true, y_pred = [], []\n",
        "for batch in test_dataset:\n",
        "    images, labels = batch\n",
        "    y_true.extend(labels.numpy())\n",
        "    predictions = model.predict(images)\n",
        "    y_pred.extend(np.argmax(predictions, axis=1))\n",
        "end_time = time.time()\n",
        "current, peak = tracemalloc.get_traced_memory()\n",
        "tracemalloc.stop()\n",
        "original_inference_time = end_time - start_time\n",
        "original_peak_memory = peak / (1024 * 1024)\n",
        "print(f\"Original Inference Time: {original_inference_time:.2f} seconds\")\n",
        "print(f\"Original Peak Memory Usage: {original_peak_memory:.2f} MB\")"
      ],
      "metadata": {
        "id": "4Xb2cxa-d7n5",
        "colab": {
          "base_uri": "https://localhost:8080/"
        },
        "outputId": "9d29ad8a-2933-40d2-d667-6884b6747fcb"
      },
      "execution_count": null,
      "outputs": [
        {
          "output_type": "stream",
          "name": "stdout",
          "text": [
            "1/1 [==============================] - 3s 3s/step\n",
            "1/1 [==============================] - 0s 50ms/step\n",
            "1/1 [==============================] - 0s 62ms/step\n",
            "1/1 [==============================] - 0s 81ms/step\n",
            "1/1 [==============================] - 0s 72ms/step\n",
            "1/1 [==============================] - 0s 56ms/step\n",
            "1/1 [==============================] - 0s 67ms/step\n",
            "1/1 [==============================] - 0s 86ms/step\n",
            "1/1 [==============================] - 0s 73ms/step\n",
            "1/1 [==============================] - 0s 60ms/step\n",
            "1/1 [==============================] - 0s 65ms/step\n",
            "1/1 [==============================] - 0s 52ms/step\n",
            "1/1 [==============================] - 0s 52ms/step\n",
            "1/1 [==============================] - 0s 99ms/step\n",
            "1/1 [==============================] - 0s 44ms/step\n",
            "1/1 [==============================] - 0s 62ms/step\n",
            "1/1 [==============================] - 0s 68ms/step\n",
            "1/1 [==============================] - 0s 82ms/step\n",
            "1/1 [==============================] - 0s 49ms/step\n",
            "1/1 [==============================] - 0s 93ms/step\n",
            "1/1 [==============================] - 0s 132ms/step\n",
            "1/1 [==============================] - 0s 111ms/step\n",
            "1/1 [==============================] - 0s 123ms/step\n",
            "1/1 [==============================] - 0s 95ms/step\n",
            "1/1 [==============================] - 0s 90ms/step\n",
            "1/1 [==============================] - 0s 99ms/step\n",
            "1/1 [==============================] - 0s 48ms/step\n",
            "1/1 [==============================] - 0s 66ms/step\n",
            "1/1 [==============================] - 0s 62ms/step\n",
            "1/1 [==============================] - 0s 68ms/step\n",
            "1/1 [==============================] - 0s 109ms/step\n",
            "1/1 [==============================] - 0s 69ms/step\n",
            "1/1 [==============================] - 0s 53ms/step\n",
            "1/1 [==============================] - 0s 119ms/step\n",
            "1/1 [==============================] - 0s 53ms/step\n",
            "1/1 [==============================] - 0s 61ms/step\n",
            "1/1 [==============================] - 0s 60ms/step\n",
            "1/1 [==============================] - 0s 47ms/step\n",
            "1/1 [==============================] - 0s 60ms/step\n",
            "1/1 [==============================] - 0s 49ms/step\n",
            "1/1 [==============================] - 0s 78ms/step\n",
            "1/1 [==============================] - 0s 67ms/step\n",
            "1/1 [==============================] - 0s 72ms/step\n",
            "1/1 [==============================] - 0s 56ms/step\n",
            "1/1 [==============================] - 0s 63ms/step\n",
            "1/1 [==============================] - 0s 58ms/step\n",
            "1/1 [==============================] - 0s 56ms/step\n",
            "1/1 [==============================] - 0s 138ms/step\n",
            "1/1 [==============================] - 0s 69ms/step\n",
            "1/1 [==============================] - 0s 123ms/step\n",
            "1/1 [==============================] - 0s 119ms/step\n",
            "1/1 [==============================] - 0s 115ms/step\n",
            "1/1 [==============================] - 0s 54ms/step\n",
            "1/1 [==============================] - 0s 55ms/step\n",
            "1/1 [==============================] - 0s 62ms/step\n",
            "1/1 [==============================] - 0s 80ms/step\n",
            "1/1 [==============================] - 0s 50ms/step\n",
            "1/1 [==============================] - 0s 70ms/step\n",
            "1/1 [==============================] - 0s 73ms/step\n",
            "1/1 [==============================] - 0s 60ms/step\n",
            "1/1 [==============================] - 0s 58ms/step\n",
            "1/1 [==============================] - 0s 65ms/step\n",
            "1/1 [==============================] - 0s 73ms/step\n",
            "1/1 [==============================] - 0s 65ms/step\n",
            "1/1 [==============================] - 0s 53ms/step\n",
            "1/1 [==============================] - 0s 63ms/step\n",
            "1/1 [==============================] - 0s 55ms/step\n",
            "1/1 [==============================] - 0s 52ms/step\n",
            "1/1 [==============================] - 0s 95ms/step\n",
            "1/1 [==============================] - 0s 48ms/step\n",
            "1/1 [==============================] - 0s 53ms/step\n",
            "1/1 [==============================] - 0s 50ms/step\n",
            "1/1 [==============================] - 0s 81ms/step\n",
            "1/1 [==============================] - 0s 108ms/step\n",
            "1/1 [==============================] - 0s 129ms/step\n",
            "1/1 [==============================] - 0s 95ms/step\n",
            "1/1 [==============================] - 0s 117ms/step\n",
            "1/1 [==============================] - 0s 117ms/step\n",
            "1/1 [==============================] - 0s 139ms/step\n",
            "1/1 [==============================] - 0s 117ms/step\n",
            "1/1 [==============================] - 0s 65ms/step\n",
            "1/1 [==============================] - 0s 103ms/step\n",
            "1/1 [==============================] - 0s 62ms/step\n",
            "1/1 [==============================] - 0s 56ms/step\n",
            "1/1 [==============================] - 0s 63ms/step\n",
            "1/1 [==============================] - 0s 76ms/step\n",
            "1/1 [==============================] - 0s 90ms/step\n",
            "1/1 [==============================] - 0s 64ms/step\n",
            "1/1 [==============================] - 0s 71ms/step\n",
            "1/1 [==============================] - 0s 54ms/step\n",
            "1/1 [==============================] - 0s 88ms/step\n",
            "1/1 [==============================] - 0s 59ms/step\n",
            "1/1 [==============================] - 0s 71ms/step\n",
            "1/1 [==============================] - 0s 57ms/step\n",
            "1/1 [==============================] - 0s 51ms/step\n",
            "1/1 [==============================] - 0s 50ms/step\n",
            "1/1 [==============================] - 0s 62ms/step\n",
            "1/1 [==============================] - 0s 58ms/step\n",
            "1/1 [==============================] - 0s 58ms/step\n",
            "1/1 [==============================] - 0s 65ms/step\n",
            "1/1 [==============================] - 0s 70ms/step\n",
            "1/1 [==============================] - 0s 116ms/step\n",
            "1/1 [==============================] - 0s 93ms/step\n",
            "1/1 [==============================] - 0s 101ms/step\n",
            "1/1 [==============================] - 0s 131ms/step\n",
            "1/1 [==============================] - 0s 61ms/step\n",
            "1/1 [==============================] - 0s 72ms/step\n",
            "1/1 [==============================] - 0s 93ms/step\n",
            "1/1 [==============================] - 0s 50ms/step\n",
            "1/1 [==============================] - 0s 60ms/step\n",
            "1/1 [==============================] - 0s 50ms/step\n",
            "1/1 [==============================] - 0s 59ms/step\n",
            "1/1 [==============================] - 0s 82ms/step\n",
            "1/1 [==============================] - 0s 62ms/step\n",
            "1/1 [==============================] - 0s 53ms/step\n",
            "1/1 [==============================] - 0s 65ms/step\n",
            "1/1 [==============================] - 0s 35ms/step\n",
            "1/1 [==============================] - 0s 34ms/step\n",
            "1/1 [==============================] - 0s 35ms/step\n",
            "1/1 [==============================] - 0s 34ms/step\n",
            "1/1 [==============================] - 0s 37ms/step\n",
            "1/1 [==============================] - 0s 37ms/step\n",
            "1/1 [==============================] - 0s 40ms/step\n",
            "1/1 [==============================] - 0s 34ms/step\n",
            "1/1 [==============================] - 0s 45ms/step\n",
            "1/1 [==============================] - 2s 2s/step\n",
            "Original Inference Time: 73.07 seconds\n",
            "Original Peak Memory Usage: 5.71 MB\n"
          ]
        }
      ]
    },
    {
      "cell_type": "code",
      "source": [
        "# Initial model evaluation metrics\n",
        "conf_matrix_original = confusion_matrix(y_true, y_pred)\n",
        "print(\"Confusion Matrix (Original):\")\n",
        "print(conf_matrix_original)\n",
        "\n",
        "print(\"Classification Report (Original):\")\n",
        "print(classification_report(y_true, y_pred, target_names=['normal', 'fault_BB', 'fault_SM', 'fault_RI']))"
      ],
      "metadata": {
        "id": "LS4-XOKvd7qh",
        "colab": {
          "base_uri": "https://localhost:8080/"
        },
        "outputId": "ea85a770-7cfc-4b53-e862-651125a5f089"
      },
      "execution_count": null,
      "outputs": [
        {
          "output_type": "stream",
          "name": "stdout",
          "text": [
            "Confusion Matrix (Original):\n",
            "[[1004    0    0    0]\n",
            " [   0 1000    0    0]\n",
            " [   0    0 1000    0]\n",
            " [   0    0    0 1000]]\n",
            "Classification Report (Original):\n",
            "              precision    recall  f1-score   support\n",
            "\n",
            "      normal       1.00      1.00      1.00      1004\n",
            "    fault_BB       1.00      1.00      1.00      1000\n",
            "    fault_SM       1.00      1.00      1.00      1000\n",
            "    fault_RI       1.00      1.00      1.00      1000\n",
            "\n",
            "    accuracy                           1.00      4004\n",
            "   macro avg       1.00      1.00      1.00      4004\n",
            "weighted avg       1.00      1.00      1.00      4004\n",
            "\n"
          ]
        }
      ]
    },
    {
      "cell_type": "code",
      "source": [
        "# Visualize initial confusion matrix\n",
        "plt.figure(figsize=(8, 8))\n",
        "plt.imshow(conf_matrix_original, interpolation='nearest', cmap=plt.cm.Blues)\n",
        "plt.title('Confusion Matrix (Original)')\n",
        "plt.colorbar()\n",
        "tick_marks = np.arange(4)\n",
        "plt.xticks(tick_marks, ['Normal', 'Fault_BB', 'Fault_SM', 'Fault_RI'], rotation=45)\n",
        "plt.yticks(tick_marks, ['Normal', 'Fault_BB', 'Fault_SM', 'Fault_RI'])\n",
        "\n",
        "fmt = 'd'\n",
        "thresh = conf_matrix_original.max() / 2.\n",
        "for i, j in np.ndindex(conf_matrix_original.shape):\n",
        "    plt.text(j, i, format(conf_matrix_original[i, j], fmt),\n",
        "             ha=\"center\", va=\"center\",\n",
        "             color=\"white\" if conf_matrix_original[i, j] > thresh else \"black\")\n",
        "\n",
        "plt.ylabel('True label')\n",
        "plt.xlabel('Predicted label')\n",
        "plt.tight_layout()\n",
        "plt.show()"
      ],
      "metadata": {
        "id": "h_e7I-ZMd7s6",
        "colab": {
          "base_uri": "https://localhost:8080/",
          "height": 792
        },
        "outputId": "58ae0db2-5071-4e5d-b098-6f95ce3987bf"
      },
      "execution_count": null,
      "outputs": [
        {
          "output_type": "display_data",
          "data": {
            "text/plain": [
              "<Figure size 800x800 with 2 Axes>"
            ],
            "image/png": "[encoded data removed]"
          },
          "metadata": {}
        }
      ]
    },
    {
      "cell_type": "code",
      "source": [
        "# Calculate additional initial metrics\n",
        "f1_original = f1_score(y_true, y_pred, average='weighted')\n",
        "precision_original = precision_score(y_true, y_pred, average='weighted')\n",
        "recall_original = recall_score(y_true, y_pred, average='weighted')\n",
        "\n",
        "print(f\"Original F1 Score: {f1_original:.2f}\")\n",
        "print(f\"Original Precision: {precision_original:.2f}\")\n",
        "print(f\"Original Recall: {recall_original:.2f}\")"
      ],
      "metadata": {
        "id": "oRWkmAHDd7va",
        "colab": {
          "base_uri": "https://localhost:8080/"
        },
        "outputId": "1b255c8a-feff-4569-a637-7b2cd868c5f2"
      },
      "execution_count": null,
      "outputs": [
        {
          "output_type": "stream",
          "name": "stdout",
          "text": [
            "Original F1 Score: 1.00\n",
            "Original Precision: 1.00\n",
            "Original Recall: 1.00\n"
          ]
        }
      ]
    },
    {
      "cell_type": "code",
      "source": [
        "# Structured Pruning 적용\n",
        "def apply_structured_pruning(model, pruning_percentage=50):\n",
        "    for layer in model.layers:\n",
        "        if isinstance(layer, tf.keras.layers.Conv2D):\n",
        "            weights, biases = layer.get_weights()\n",
        "            num_filters = weights.shape[-1]\n",
        "            num_prune = int(num_filters * pruning_percentage / 100)\n",
        "\n",
        "            # Compute the L1 norm of the filters\n",
        "            filter_norms = np.sum(np.abs(weights), axis=(0, 1, 2))\n",
        "            prune_indices = np.argsort(filter_norms)[:num_prune]\n",
        "\n",
        "            # Set the weights of the pruned filters to zero\n",
        "            for idx in prune_indices:\n",
        "                weights[:, :, :, idx] = 0\n",
        "\n",
        "            layer.set_weights([weights, biases])\n",
        "\n",
        "apply_structured_pruning(model, pruning_percentage=50)\n",
        "\n",
        "# Recompile pruned model\n",
        "model.compile(optimizer=tf.keras.optimizers.Adam(learning_rate=0.001),\n",
        "              loss='sparse_categorical_crossentropy',\n",
        "              metrics=['accuracy'])"
      ],
      "metadata": {
        "id": "ftRnVB2Ud7yQ"
      },
      "execution_count": null,
      "outputs": []
    },
    {
      "cell_type": "code",
      "source": [
        "# Train pruned model\n",
        "history_pruned = model.fit(train_dataset, validation_data=validation_dataset, epochs=10, callbacks=[reduce_lr])"
      ],
      "metadata": {
        "id": "EzONIC0nd70p",
        "colab": {
          "base_uri": "https://localhost:8080/"
        },
        "outputId": "7be19ed5-e4cc-4e2f-e950-bc6e8f5f3e86"
      },
      "execution_count": null,
      "outputs": [
        {
          "output_type": "stream",
          "name": "stdout",
          "text": [
            "Epoch 1/10\n",
            "376/376 [==============================] - 318s 745ms/step - loss: 0.0042 - accuracy: 0.9996 - val_loss: 1.2139e-07 - val_accuracy: 1.0000 - lr: 0.0010\n",
            "Epoch 2/10\n",
            "376/376 [==============================] - 250s 655ms/step - loss: 0.0107 - accuracy: 0.9999 - val_loss: 5.8683e-05 - val_accuracy: 1.0000 - lr: 0.0010\n",
            "Epoch 3/10\n",
            "376/376 [==============================] - 247s 647ms/step - loss: 0.0441 - accuracy: 0.9976 - val_loss: 0.0089 - val_accuracy: 0.9955 - lr: 0.0010\n",
            "Epoch 4/10\n",
            "376/376 [==============================] - 277s 728ms/step - loss: 0.0401 - accuracy: 0.9987 - val_loss: 9.1309e-08 - val_accuracy: 1.0000 - lr: 0.0010\n",
            "Epoch 5/10\n",
            "376/376 [==============================] - 251s 659ms/step - loss: 0.0081 - accuracy: 0.9992 - val_loss: 5.0323e-04 - val_accuracy: 0.9998 - lr: 0.0010\n",
            "Epoch 6/10\n",
            "376/376 [==============================] - 248s 651ms/step - loss: 0.0037 - accuracy: 0.9993 - val_loss: 1.6707e-04 - val_accuracy: 1.0000 - lr: 0.0010\n",
            "Epoch 7/10\n",
            "376/376 [==============================] - 246s 642ms/step - loss: 0.0075 - accuracy: 0.9999 - val_loss: 9.8210e-05 - val_accuracy: 1.0000 - lr: 2.0000e-04\n",
            "Epoch 8/10\n",
            "376/376 [==============================] - 276s 723ms/step - loss: 0.0043 - accuracy: 0.9998 - val_loss: 3.4458e-05 - val_accuracy: 1.0000 - lr: 2.0000e-04\n",
            "Epoch 9/10\n",
            "376/376 [==============================] - 247s 649ms/step - loss: 0.0029 - accuracy: 0.9998 - val_loss: 2.2460e-06 - val_accuracy: 1.0000 - lr: 2.0000e-04\n",
            "Epoch 10/10\n",
            "376/376 [==============================] - 248s 651ms/step - loss: 2.7480e-06 - accuracy: 1.0000 - val_loss: 5.2314e-07 - val_accuracy: 1.0000 - lr: 2.0000e-04\n"
          ]
        }
      ]
    },
    {
      "cell_type": "code",
      "source": [
        "# Evaluate pruned model\n",
        "val_loss, val_acc = model.evaluate(validation_dataset)\n",
        "print(f\"Pruned Validation Loss: {val_loss}\")\n",
        "print(f\"Pruned Validation Accuracy: {val_acc}\")"
      ],
      "metadata": {
        "id": "Ih5CXIyYd73I",
        "colab": {
          "base_uri": "https://localhost:8080/"
        },
        "outputId": "f7d6ae7d-47ae-44c0-f334-427f04ede8bc"
      },
      "execution_count": null,
      "outputs": [
        {
          "output_type": "stream",
          "name": "stdout",
          "text": [
            "125/125 [==============================] - 50s 381ms/step - loss: 5.2314e-07 - accuracy: 1.0000\n",
            "Pruned Validation Loss: 5.231424324847467e-07\n",
            "Pruned Validation Accuracy: 1.0\n"
          ]
        }
      ]
    },
    {
      "cell_type": "code",
      "source": [
        "test_loss, test_acc = model.evaluate(test_dataset)\n",
        "print(f\"Pruned Test Loss: {test_loss}\")\n",
        "print(f\"Pruned Test Accuracy: {test_acc}\")"
      ],
      "metadata": {
        "id": "ccSokQcTd75w",
        "colab": {
          "base_uri": "https://localhost:8080/"
        },
        "outputId": "35a47410-e1c7-4669-92dd-4369f2c491f0"
      },
      "execution_count": null,
      "outputs": [
        {
          "output_type": "stream",
          "name": "stdout",
          "text": [
            "126/126 [==============================] - 58s 428ms/step - loss: 7.0101e-06 - accuracy: 1.0000\n",
            "Pruned Test Loss: 7.010125500528375e-06\n",
            "Pruned Test Accuracy: 1.0\n"
          ]
        }
      ]
    },
    {
      "cell_type": "code",
      "source": [
        "# Strip pruning wrappers and save pruned model\n",
        "model_for_export = tfmot.sparsity.keras.strip_pruning(model)\n",
        "model_for_export.save('pruned_motor_fault_classification_model.h5')\n",
        "pruned_model_size = os.path.getsize('pruned_motor_fault_classification_model.h5')\n",
        "print(f\"Pruned Model Size: {pruned_model_size / (1024 * 1024):.2f} MB\")"
      ],
      "metadata": {
        "id": "_aaXhX1Eei3e",
        "colab": {
          "base_uri": "https://localhost:8080/"
        },
        "outputId": "50f5a61c-8055-4042-ee3a-bd9ff55c56be"
      },
      "execution_count": null,
      "outputs": [
        {
          "output_type": "stream",
          "name": "stderr",
          "text": [
            "/usr/local/lib/python3.10/dist-packages/keras/src/engine/training.py:3103: UserWarning: You are saving your model as an HDF5 file via `model.save()`. This file format is considered legacy. We recommend using instead the native Keras format, e.g. `model.save('my_model.keras')`.\n",
            "  saving_api.save_model(\n",
            "WARNING:tensorflow:Compiled the loaded model, but the compiled metrics have yet to be built. `model.compile_metrics` will be empty until you train or evaluate the model.\n"
          ]
        },
        {
          "output_type": "stream",
          "name": "stdout",
          "text": [
            "Pruned Model Size: 94.34 MB\n"
          ]
        }
      ]
    },
    {
      "cell_type": "code",
      "source": [
        "# Measure pruned model inference time and memory usage\n",
        "start_time = time.time()\n",
        "tracemalloc.start()\n",
        "y_true_pruned, y_pred_pruned = [], []\n",
        "for batch in test_dataset:\n",
        "    images, labels = batch\n",
        "    y_true_pruned.extend(labels.numpy())\n",
        "    predictions = model_for_export.predict(images)\n",
        "    y_pred_pruned.extend(np.argmax(predictions, axis=1))\n",
        "end_time = time.time()\n",
        "current, peak = tracemalloc.get_traced_memory()\n",
        "tracemalloc.stop()\n",
        "pruned_inference_time = end_time - start_time\n",
        "pruned_peak_memory = peak / (1024 * 1024)\n",
        "print(f\"Pruned Inference Time: {pruned_inference_time:.2f} seconds\")\n",
        "print(f\"Pruned Peak Memory Usage: {pruned_peak_memory:.2f} MB\")"
      ],
      "metadata": {
        "id": "b2aNQiJ2ei6H",
        "colab": {
          "base_uri": "https://localhost:8080/"
        },
        "outputId": "90a6ce69-150d-4d17-ee0a-562b28ff1ba2"
      },
      "execution_count": null,
      "outputs": [
        {
          "output_type": "stream",
          "name": "stdout",
          "text": [
            "1/1 [==============================] - 2s 2s/step\n",
            "1/1 [==============================] - 0s 120ms/step\n",
            "1/1 [==============================] - 0s 118ms/step\n",
            "1/1 [==============================] - 0s 117ms/step\n",
            "1/1 [==============================] - 0s 98ms/step\n",
            "1/1 [==============================] - 0s 120ms/step\n",
            "1/1 [==============================] - 0s 61ms/step\n",
            "1/1 [==============================] - 0s 52ms/step\n",
            "1/1 [==============================] - 0s 78ms/step\n",
            "1/1 [==============================] - 0s 57ms/step\n",
            "1/1 [==============================] - 0s 54ms/step\n",
            "1/1 [==============================] - 0s 70ms/step\n",
            "1/1 [==============================] - 0s 97ms/step\n",
            "1/1 [==============================] - 0s 68ms/step\n",
            "1/1 [==============================] - 0s 88ms/step\n",
            "1/1 [==============================] - 0s 63ms/step\n",
            "1/1 [==============================] - 0s 80ms/step\n",
            "1/1 [==============================] - 0s 84ms/step\n",
            "1/1 [==============================] - 0s 67ms/step\n",
            "1/1 [==============================] - 0s 60ms/step\n",
            "1/1 [==============================] - 0s 86ms/step\n",
            "1/1 [==============================] - 0s 92ms/step\n",
            "1/1 [==============================] - 0s 88ms/step\n",
            "1/1 [==============================] - 0s 96ms/step\n",
            "1/1 [==============================] - 0s 86ms/step\n",
            "1/1 [==============================] - 0s 70ms/step\n",
            "1/1 [==============================] - 0s 62ms/step\n",
            "1/1 [==============================] - 0s 73ms/step\n",
            "1/1 [==============================] - 0s 129ms/step\n",
            "1/1 [==============================] - 0s 172ms/step\n",
            "1/1 [==============================] - 0s 71ms/step\n",
            "1/1 [==============================] - 0s 127ms/step\n",
            "1/1 [==============================] - 0s 128ms/step\n",
            "1/1 [==============================] - 0s 83ms/step\n",
            "1/1 [==============================] - 0s 106ms/step\n",
            "1/1 [==============================] - 0s 53ms/step\n",
            "1/1 [==============================] - 0s 66ms/step\n",
            "1/1 [==============================] - 0s 70ms/step\n",
            "1/1 [==============================] - 0s 67ms/step\n",
            "1/1 [==============================] - 0s 52ms/step\n",
            "1/1 [==============================] - 0s 65ms/step\n",
            "1/1 [==============================] - 0s 79ms/step\n",
            "1/1 [==============================] - 0s 68ms/step\n",
            "1/1 [==============================] - 0s 49ms/step\n",
            "1/1 [==============================] - 0s 52ms/step\n",
            "1/1 [==============================] - 0s 86ms/step\n",
            "1/1 [==============================] - 0s 57ms/step\n",
            "1/1 [==============================] - 0s 83ms/step\n",
            "1/1 [==============================] - 0s 69ms/step\n",
            "1/1 [==============================] - 0s 46ms/step\n",
            "1/1 [==============================] - 0s 51ms/step\n",
            "1/1 [==============================] - 0s 81ms/step\n",
            "1/1 [==============================] - 0s 62ms/step\n",
            "1/1 [==============================] - 0s 71ms/step\n",
            "1/1 [==============================] - 0s 62ms/step\n",
            "1/1 [==============================] - 0s 72ms/step\n",
            "1/1 [==============================] - 0s 49ms/step\n",
            "1/1 [==============================] - 0s 105ms/step\n",
            "1/1 [==============================] - 0s 129ms/step\n",
            "1/1 [==============================] - 0s 85ms/step\n",
            "1/1 [==============================] - 0s 207ms/step\n",
            "1/1 [==============================] - 0s 106ms/step\n",
            "1/1 [==============================] - 0s 119ms/step\n",
            "1/1 [==============================] - 0s 96ms/step\n",
            "1/1 [==============================] - 0s 58ms/step\n",
            "1/1 [==============================] - 0s 77ms/step\n",
            "1/1 [==============================] - 0s 89ms/step\n",
            "1/1 [==============================] - 0s 76ms/step\n",
            "1/1 [==============================] - 0s 74ms/step\n",
            "1/1 [==============================] - 0s 66ms/step\n",
            "1/1 [==============================] - 0s 66ms/step\n",
            "1/1 [==============================] - 0s 48ms/step\n",
            "1/1 [==============================] - 0s 67ms/step\n",
            "1/1 [==============================] - 0s 68ms/step\n",
            "1/1 [==============================] - 0s 73ms/step\n",
            "1/1 [==============================] - 0s 79ms/step\n",
            "1/1 [==============================] - 0s 67ms/step\n",
            "1/1 [==============================] - 0s 102ms/step\n",
            "1/1 [==============================] - 0s 72ms/step\n",
            "1/1 [==============================] - 0s 61ms/step\n",
            "1/1 [==============================] - 0s 71ms/step\n",
            "1/1 [==============================] - 0s 70ms/step\n",
            "1/1 [==============================] - 0s 58ms/step\n",
            "1/1 [==============================] - 0s 51ms/step\n",
            "1/1 [==============================] - 0s 74ms/step\n",
            "1/1 [==============================] - 0s 82ms/step\n",
            "1/1 [==============================] - 0s 95ms/step\n",
            "1/1 [==============================] - 0s 137ms/step\n",
            "1/1 [==============================] - 0s 98ms/step\n",
            "1/1 [==============================] - 0s 70ms/step\n",
            "1/1 [==============================] - 0s 95ms/step\n",
            "1/1 [==============================] - 0s 105ms/step\n",
            "1/1 [==============================] - 0s 91ms/step\n",
            "1/1 [==============================] - 0s 55ms/step\n",
            "1/1 [==============================] - 0s 69ms/step\n",
            "1/1 [==============================] - 0s 98ms/step\n",
            "1/1 [==============================] - 0s 78ms/step\n",
            "1/1 [==============================] - 0s 77ms/step\n",
            "1/1 [==============================] - 0s 69ms/step\n",
            "1/1 [==============================] - 0s 65ms/step\n",
            "1/1 [==============================] - 0s 74ms/step\n",
            "1/1 [==============================] - 0s 58ms/step\n",
            "1/1 [==============================] - 0s 86ms/step\n",
            "1/1 [==============================] - 0s 80ms/step\n",
            "1/1 [==============================] - 0s 75ms/step\n",
            "1/1 [==============================] - 0s 57ms/step\n",
            "1/1 [==============================] - 0s 55ms/step\n",
            "1/1 [==============================] - 0s 59ms/step\n",
            "1/1 [==============================] - 0s 66ms/step\n",
            "1/1 [==============================] - 0s 98ms/step\n",
            "1/1 [==============================] - 0s 80ms/step\n",
            "1/1 [==============================] - 0s 105ms/step\n",
            "1/1 [==============================] - 0s 50ms/step\n",
            "1/1 [==============================] - 0s 63ms/step\n",
            "1/1 [==============================] - 0s 91ms/step\n",
            "1/1 [==============================] - 0s 85ms/step\n",
            "1/1 [==============================] - 0s 44ms/step\n",
            "1/1 [==============================] - 0s 51ms/step\n",
            "1/1 [==============================] - 0s 48ms/step\n",
            "1/1 [==============================] - 0s 66ms/step\n",
            "1/1 [==============================] - 0s 63ms/step\n",
            "1/1 [==============================] - 0s 53ms/step\n",
            "1/1 [==============================] - 0s 56ms/step\n",
            "1/1 [==============================] - 0s 59ms/step\n",
            "1/1 [==============================] - 0s 50ms/step\n",
            "1/1 [==============================] - 2s 2s/step\n",
            "Pruned Inference Time: 69.66 seconds\n",
            "Pruned Peak Memory Usage: 5.12 MB\n"
          ]
        }
      ]
    },
    {
      "cell_type": "code",
      "source": [
        "# Pruned model evaluation metrics\n",
        "conf_matrix_pruned = confusion_matrix(y_true_pruned, y_pred_pruned)\n",
        "print(\"Confusion Matrix (Pruned):\")\n",
        "print(conf_matrix_pruned)\n",
        "\n",
        "print(\"Classification Report (Pruned):\")\n",
        "print(classification_report(y_true_pruned, y_pred_pruned, target_names=['normal', 'fault_BB', 'fault_SM', 'fault_RI']))"
      ],
      "metadata": {
        "id": "0BVCtQ3Mei8f",
        "colab": {
          "base_uri": "https://localhost:8080/"
        },
        "outputId": "0e3fcf4a-e470-4b06-dbbc-08bfeae4fbf0"
      },
      "execution_count": null,
      "outputs": [
        {
          "output_type": "stream",
          "name": "stdout",
          "text": [
            "Confusion Matrix (Pruned):\n",
            "[[1004    0    0    0]\n",
            " [   0 1000    0    0]\n",
            " [   0    0 1000    0]\n",
            " [   0    0    0 1000]]\n",
            "Classification Report (Pruned):\n",
            "              precision    recall  f1-score   support\n",
            "\n",
            "      normal       1.00      1.00      1.00      1004\n",
            "    fault_BB       1.00      1.00      1.00      1000\n",
            "    fault_SM       1.00      1.00      1.00      1000\n",
            "    fault_RI       1.00      1.00      1.00      1000\n",
            "\n",
            "    accuracy                           1.00      4004\n",
            "   macro avg       1.00      1.00      1.00      4004\n",
            "weighted avg       1.00      1.00      1.00      4004\n",
            "\n"
          ]
        }
      ]
    },
    {
      "cell_type": "code",
      "source": [
        "# Visualize pruned confusion matrix\n",
        "plt.figure(figsize=(8, 8))\n",
        "plt.imshow(conf_matrix_pruned, interpolation='nearest', cmap=plt.cm.Blues)\n",
        "plt.title('Confusion Matrix (Pruned)')\n",
        "plt.colorbar()\n",
        "tick_marks = np.arange(4)\n",
        "plt.xticks(tick_marks, ['Normal', 'Fault_BB', 'Fault_SM', 'Fault_RI'], rotation=45)\n",
        "plt.yticks(tick_marks, ['Normal', 'Fault_BB', 'Fault_SM', 'Fault_RI'])\n",
        "\n",
        "fmt = 'd'\n",
        "thresh = conf_matrix_pruned.max() / 2.\n",
        "for i, j in np.ndindex(conf_matrix_pruned.shape):\n",
        "    plt.text(j, i, format(conf_matrix_pruned[i, j], fmt),\n",
        "             ha=\"center\", va=\"center\",\n",
        "             color=\"white\" if conf_matrix_pruned[i, j] > thresh else \"black\")\n",
        "\n",
        "plt.ylabel('True label')\n",
        "plt.xlabel('Predicted label')\n",
        "plt.tight_layout()\n",
        "plt.show()"
      ],
      "metadata": {
        "id": "oPDi__J0ei-9",
        "colab": {
          "base_uri": "https://localhost:8080/",
          "height": 792
        },
        "outputId": "13e1aa88-ef98-458e-9108-724948b9392d"
      },
      "execution_count": null,
      "outputs": [
        {
          "output_type": "display_data",
          "data": {
            "text/plain": [
              "<Figure size 800x800 with 2 Axes>"
            ],
            "image/png": "[encoded data removed]"
          },
          "metadata": {}
        }
      ]
    },
    {
      "cell_type": "code",
      "source": [
        "# Calculate additional pruned metrics\n",
        "f1_pruned = f1_score(y_true_pruned, y_pred_pruned, average='weighted')\n",
        "precision_pruned = precision_score(y_true_pruned, y_pred_pruned, average='weighted')\n",
        "recall_pruned = recall_score(y_true_pruned, y_pred_pruned, average='weighted')\n",
        "\n",
        "print(f\"Pruned F1 Score: {f1_pruned:.2f}\")\n",
        "print(f\"Pruned Precision: {precision_pruned:.2f}\")\n",
        "print(f\"Pruned Recall: {recall_pruned:.2f}\")"
      ],
      "metadata": {
        "id": "2yRuLhNWd78J",
        "colab": {
          "base_uri": "https://localhost:8080/"
        },
        "outputId": "670e64b6-2693-43df-8433-30c479da1074"
      },
      "execution_count": null,
      "outputs": [
        {
          "output_type": "stream",
          "name": "stdout",
          "text": [
            "Pruned F1 Score: 1.00\n",
            "Pruned Precision: 1.00\n",
            "Pruned Recall: 1.00\n"
          ]
        }
      ]
    }
  ]
}