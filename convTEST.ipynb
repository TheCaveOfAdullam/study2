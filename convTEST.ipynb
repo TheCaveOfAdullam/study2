{
  "nbformat": 4,
  "nbformat_minor": 0,
  "metadata": {
    "colab": {
      "provenance": [],
      "machine_shape": "hm",
      "gpuType": "V28",
      "authorship_tag": "ABX9TyMOfUoT6LB2akWC1ePeOvJk",
      "include_colab_link": true
    },
    "kernelspec": {
      "name": "python3",
      "display_name": "Python 3"
    },
    "language_info": {
      "name": "python"
    },
    "accelerator": "TPU"
  },
  "cells": [
    {
      "cell_type": "markdown",
      "metadata": {
        "id": "view-in-github",
        "colab_type": "text"
      },
      "source": [
        "<a href=\"https://colab.research.google.com/github/TheCaveOfAdullam/study2/blob/main/convTEST.ipynb\" target=\"_parent\"><img src=\"https://colab.research.google.com/assets/colab-badge.svg\" alt=\"Open In Colab\"/></a>"
      ]
    },
    {
      "cell_type": "code",
      "execution_count": 1,
      "metadata": {
        "id": "weh3ax9sl06Y",
        "colab": {
          "base_uri": "https://localhost:8080/"
        },
        "outputId": "5aef8684-3890-4ca4-9f75-112a62c35819"
      },
      "outputs": [
        {
          "output_type": "stream",
          "name": "stdout",
          "text": [
            "Mounted at /content/drive\n"
          ]
        }
      ],
      "source": [
        "from google.colab import drive\n",
        "drive.mount('/content/drive')"
      ]
    },
    {
      "cell_type": "code",
      "source": [
        "import tensorflow as tf\n",
        "from tensorflow.keras import layers, models, regularizers\n",
        "from tensorflow.keras.preprocessing import image_dataset_from_directory\n",
        "from tensorflow.keras.layers import Dense, Dropout"
      ],
      "metadata": {
        "id": "_fIhBdQUmYQn"
      },
      "execution_count": 2,
      "outputs": []
    },
    {
      "cell_type": "code",
      "source": [
        "# Define paths\n",
        "train_dir = '/content/drive/MyDrive/ship_motor/train'\n",
        "validation_dir = '/content/drive/MyDrive/ship_motor/validation'\n",
        "test_dir = '/content/drive/MyDrive/ship_motor/test'\n",
        "\n",
        "# Set image size and batch size\n",
        "image_size = (224, 224)\n",
        "batch_size = 32\n",
        "\n",
        "# Load datasets\n",
        "train_dataset = image_dataset_from_directory(train_dir, image_size=image_size, batch_size=batch_size, label_mode='int')\n",
        "validation_dataset = image_dataset_from_directory(validation_dir, image_size=image_size, batch_size=batch_size, label_mode='int')\n",
        "test_dataset = image_dataset_from_directory(test_dir, image_size=image_size, batch_size=batch_size, label_mode='int')\n",
        "\n",
        "# Preprocess datasets\n",
        "def preprocess_dataset(dataset):\n",
        "    dataset = dataset.map(lambda x, y: (tf.image.per_image_standardization(x), tf.one_hot(y, depth=4)))\n",
        "    return dataset\n",
        "\n",
        "train_dataset = preprocess_dataset(train_dataset)\n",
        "validation_dataset = preprocess_dataset(validation_dataset)\n",
        "test_dataset = preprocess_dataset(test_dataset)\n",
        "\n",
        "# Prefetch datasets for performance\n",
        "train_dataset = train_dataset.prefetch(buffer_size=tf.data.experimental.AUTOTUNE)\n",
        "validation_dataset = validation_dataset.prefetch(buffer_size=tf.data.experimental.AUTOTUNE)\n",
        "test_dataset = test_dataset.prefetch(buffer_size=tf.data.experimental.AUTOTUNE)\n"
      ],
      "metadata": {
        "id": "pM7s-QdtmYTK",
        "colab": {
          "base_uri": "https://localhost:8080/"
        },
        "outputId": "baf275f6-52ed-4771-e981-99eb744a9b6a"
      },
      "execution_count": 4,
      "outputs": [
        {
          "output_type": "stream",
          "name": "stdout",
          "text": [
            "Found 7004 files belonging to 4 classes.\n",
            "Found 1278 files belonging to 4 classes.\n",
            "Found 1278 files belonging to 4 classes.\n"
          ]
        }
      ]
    },
    {
      "cell_type": "code",
      "source": [
        "# Define the CNN model\n",
        "model = models.Sequential()\n",
        "\n",
        "model.add(layers.Conv2D(32, (3, 3), activation=\"relu\", input_shape=(224, 224, 3)))\n",
        "model.add(layers.MaxPool2D((3, 3), strides=(2, 2), padding=\"same\"))\n",
        "model.add(layers.BatchNormalization())\n",
        "\n",
        "model.add(layers.Conv2D(32, (3, 3), activation=\"relu\"))\n",
        "model.add(layers.MaxPool2D((3, 3), strides=(2, 2), padding=\"same\"))\n",
        "model.add(layers.BatchNormalization())\n",
        "\n",
        "model.add(layers.Conv2D(32, (3, 3), activation=\"relu\"))\n",
        "model.add(layers.MaxPool2D((3, 3), strides=(2, 2), padding=\"same\"))\n",
        "model.add(layers.BatchNormalization())\n",
        "\n",
        "model.add(layers.Flatten())\n",
        "model.add(Dense(64, activation=\"relu\"))\n",
        "model.add(Dropout(0.3))\n",
        "\n",
        "model.add(Dense(4, activation=\"softmax\"))\n",
        "\n",
        "# Compile the model\n",
        "model.compile(loss=\"categorical_crossentropy\",\n",
        "              optimizer=\"adam\",\n",
        "              metrics=[\"accuracy\"])"
      ],
      "metadata": {
        "id": "WH95dG5SmYV_"
      },
      "execution_count": 5,
      "outputs": []
    },
    {
      "cell_type": "code",
      "source": [
        "# Train the model\n",
        "history = model.fit(train_dataset,\n",
        "                    epochs=10,\n",
        "                    validation_data=validation_dataset)"
      ],
      "metadata": {
        "id": "GR8A1VAxmYYT",
        "colab": {
          "base_uri": "https://localhost:8080/"
        },
        "outputId": "ce012681-289b-4a08-9c3f-aae6b0047839"
      },
      "execution_count": 6,
      "outputs": [
        {
          "output_type": "stream",
          "name": "stdout",
          "text": [
            "Epoch 1/10\n",
            "219/219 [==============================] - 151s 421ms/step - loss: 0.0368 - accuracy: 0.9936 - val_loss: 7.5555e-09 - val_accuracy: 1.0000\n",
            "Epoch 2/10\n",
            "219/219 [==============================] - 81s 367ms/step - loss: 7.3453e-04 - accuracy: 0.9997 - val_loss: 0.0000e+00 - val_accuracy: 1.0000\n",
            "Epoch 3/10\n",
            "219/219 [==============================] - 82s 369ms/step - loss: 1.3912e-07 - accuracy: 1.0000 - val_loss: 0.0000e+00 - val_accuracy: 1.0000\n",
            "Epoch 4/10\n",
            "219/219 [==============================] - 82s 371ms/step - loss: 2.7075e-06 - accuracy: 1.0000 - val_loss: 0.0000e+00 - val_accuracy: 1.0000\n",
            "Epoch 5/10\n",
            "219/219 [==============================] - 81s 364ms/step - loss: 1.3156e-06 - accuracy: 1.0000 - val_loss: 0.0000e+00 - val_accuracy: 1.0000\n",
            "Epoch 6/10\n",
            "219/219 [==============================] - 83s 373ms/step - loss: 1.0531e-06 - accuracy: 1.0000 - val_loss: 0.0000e+00 - val_accuracy: 1.0000\n",
            "Epoch 7/10\n",
            "219/219 [==============================] - 82s 369ms/step - loss: 2.7226e-07 - accuracy: 1.0000 - val_loss: 0.0000e+00 - val_accuracy: 1.0000\n",
            "Epoch 8/10\n",
            "219/219 [==============================] - 82s 371ms/step - loss: 1.0250e-07 - accuracy: 1.0000 - val_loss: 0.0000e+00 - val_accuracy: 1.0000\n",
            "Epoch 9/10\n",
            "219/219 [==============================] - 83s 372ms/step - loss: 1.3422e-06 - accuracy: 1.0000 - val_loss: 0.0000e+00 - val_accuracy: 1.0000\n",
            "Epoch 10/10\n",
            "219/219 [==============================] - 83s 375ms/step - loss: 0.0177 - accuracy: 0.9983 - val_loss: 150.0582 - val_accuracy: 0.7269\n"
          ]
        }
      ]
    },
    {
      "cell_type": "code",
      "source": [
        "# Evaluate the model\n",
        "test_loss, test_accuracy = model.evaluate(test_dataset)\n",
        "print(f'Test accuracy: {test_accuracy}')"
      ],
      "metadata": {
        "id": "iDMbPz9mmYbs",
        "colab": {
          "base_uri": "https://localhost:8080/"
        },
        "outputId": "adc64fca-c98d-4ae6-e221-32b7b53486aa"
      },
      "execution_count": 7,
      "outputs": [
        {
          "output_type": "stream",
          "name": "stdout",
          "text": [
            "40/40 [==============================] - 11s 197ms/step - loss: 149.9414 - accuracy: 0.7277\n",
            "Test accuracy: 0.7276995182037354\n"
          ]
        }
      ]
    },
    {
      "cell_type": "code",
      "source": [],
      "metadata": {
        "id": "Yz7OyYTzmYdW"
      },
      "execution_count": 7,
      "outputs": []
    },
    {
      "cell_type": "code",
      "source": [],
      "metadata": {
        "id": "XdycJInumYfi"
      },
      "execution_count": 7,
      "outputs": []
    }
  ]
}