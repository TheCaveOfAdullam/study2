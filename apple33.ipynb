{
  "cells": [
    {
      "cell_type": "markdown",
      "metadata": {
        "id": "view-in-github",
        "colab_type": "text"
      },
      "source": [
        "<a href=\"https://colab.research.google.com/github/TheCaveOfAdullam/study2/blob/main/apple33.ipynb\" target=\"_parent\"><img src=\"https://colab.research.google.com/assets/colab-badge.svg\" alt=\"Open In Colab\"/></a>"
      ]
    },
    {
      "cell_type": "code",
      "execution_count": 1,
      "metadata": {
        "colab": {
          "base_uri": "https://localhost:8080/"
        },
        "id": "crRZ8rHYEZKf",
        "outputId": "932c2d84-35cf-4156-c81f-093195afb2f1"
      },
      "outputs": [
        {
          "output_type": "stream",
          "name": "stdout",
          "text": [
            "Mounted at /content/drive\n"
          ]
        }
      ],
      "source": [
        "from google.colab import drive\n",
        "drive.mount('/content/drive')"
      ]
    },
    {
      "cell_type": "code",
      "execution_count": 2,
      "metadata": {
        "id": "DHiRDJ2Rqf1Y"
      },
      "outputs": [],
      "source": [
        "import pandas as pd\n",
        "import numpy as np\n",
        "import os\n",
        "import time  # time 모듈 import\n",
        "import psutil  # psutil 라이브러리 import\n",
        "from sklearn.preprocessing import LabelEncoder\n",
        "from sklearn.metrics import confusion_matrix, classification_report\n",
        "from keras.models import Sequential\n",
        "from keras.layers import Conv1D, MaxPooling1D, Flatten, Dense, Dropout\n",
        "from keras.utils import to_categorical\n",
        "import keras.backend as K"
      ]
    },
    {
      "cell_type": "code",
      "execution_count": 3,
      "metadata": {
        "id": "dY7RLp4SqrPI"
      },
      "outputs": [],
      "source": [
        "# 기본 경로 설정\n",
        "base_dir = '/content/drive/MyDrive/marine_motor'\n",
        "categories = ['normal', 'fault_BB', 'fault_RI', 'fault_SM']\n",
        "\n",
        "# 데이터 로드 및 전처리 함수 정의\n",
        "def load_data(base_dir, split):\n",
        "    X = []\n",
        "    y = []\n",
        "    split_dir = os.path.join(base_dir, split)\n",
        "    for category in categories:\n",
        "        category_dir = os.path.join(split_dir, category)\n",
        "        for file in os.listdir(category_dir):\n",
        "            file_path = os.path.join(category_dir, file)\n",
        "            data = pd.read_csv(file_path, header=None).values\n",
        "            data = pd.to_numeric(data.flatten(), errors='coerce').reshape(-1, data.shape[1])\n",
        "            data = np.nan_to_num(data).astype('float32')  # NaN 값을 0으로 대체하고, float32로 변환\n",
        "            X.append(data)\n",
        "            y.append(category)\n",
        "    return np.array(X), np.array(y)"
      ]
    },
    {
      "cell_type": "code",
      "execution_count": 4,
      "metadata": {
        "id": "iGLLC_WXqrbD"
      },
      "outputs": [],
      "source": [
        "# 데이터 로드\n",
        "X_train, y_train = load_data(base_dir, 'train')\n",
        "X_val, y_val = load_data(base_dir, 'validation')\n",
        "X_test, y_test = load_data(base_dir, 'test')"
      ]
    },
    {
      "cell_type": "code",
      "execution_count": 5,
      "metadata": {
        "id": "LrFrOvZsqqDC"
      },
      "outputs": [],
      "source": [
        "# 데이터 차원 변경 (CNN 입력 형식에 맞게)\n",
        "X_train = np.expand_dims(X_train, axis=-1)\n",
        "X_val = np.expand_dims(X_val, axis=-1)\n",
        "X_test = np.expand_dims(X_test, axis=-1)\n",
        "\n",
        "# 레이블 인코딩\n",
        "label_encoder = LabelEncoder()\n",
        "y_train_encoded = label_encoder.fit_transform(y_train)\n",
        "y_val_encoded = label_encoder.transform(y_val)\n",
        "y_test_encoded = label_encoder.transform(y_test)\n",
        "\n",
        "# 원-핫 인코딩\n",
        "y_train_categorical = to_categorical(y_train_encoded)\n",
        "y_val_categorical = to_categorical(y_val_encoded)\n",
        "y_test_categorical = to_categorical(y_test_encoded)"
      ]
    },
    {
      "cell_type": "code",
      "source": [
        "# 기본 CNN 모델 정의\n",
        "def create_model():\n",
        "    model = Sequential()\n",
        "    model.add(Conv1D(filters=64, kernel_size=3, activation='relu', input_shape=(X_train.shape[1], X_train.shape[2])))\n",
        "    model.add(MaxPooling1D(pool_size=2))\n",
        "    model.add(Conv1D(filters=128, kernel_size=3, activation='relu'))\n",
        "    model.add(MaxPooling1D(pool_size=2))\n",
        "    model.add(Flatten())\n",
        "    model.add(Dense(100, activation='relu'))\n",
        "    model.add(Dropout(0.5))\n",
        "    model.add(Dense(len(categories), activation='softmax'))\n",
        "    return model\n",
        "\n",
        "model = create_model()\n",
        "\n",
        "# 모델 컴파일\n",
        "model.compile(optimizer='adam', loss='categorical_crossentropy', metrics=['accuracy'])"
      ],
      "metadata": {
        "id": "QSaH_9qKhIo8"
      },
      "execution_count": 6,
      "outputs": []
    },
    {
      "cell_type": "code",
      "source": [
        "# 모델 학습\n",
        "history = model.fit(X_train, y_train_categorical, epochs=10, batch_size=32, validation_data=(X_val, y_val_categorical))"
      ],
      "metadata": {
        "colab": {
          "base_uri": "https://localhost:8080/"
        },
        "id": "eROsyFg-hPx7",
        "outputId": "a2724d42-b20a-48d0-e716-8b51c641c50c"
      },
      "execution_count": 7,
      "outputs": [
        {
          "output_type": "stream",
          "name": "stdout",
          "text": [
            "Epoch 1/10\n",
            "125/125 [==============================] - 46s 361ms/step - loss: 2.2761 - accuracy: 0.2707 - val_loss: 1.2335 - val_accuracy: 0.2585\n",
            "Epoch 2/10\n",
            "125/125 [==============================] - 45s 358ms/step - loss: 0.9391 - accuracy: 0.5420 - val_loss: 0.5383 - val_accuracy: 0.8488\n",
            "Epoch 3/10\n",
            "125/125 [==============================] - 45s 357ms/step - loss: 0.5045 - accuracy: 0.7940 - val_loss: 0.2162 - val_accuracy: 0.9636\n",
            "Epoch 4/10\n",
            "125/125 [==============================] - 45s 358ms/step - loss: 0.3301 - accuracy: 0.8702 - val_loss: 0.1174 - val_accuracy: 0.9830\n",
            "Epoch 5/10\n",
            "125/125 [==============================] - 45s 359ms/step - loss: 0.2577 - accuracy: 0.9107 - val_loss: 0.0721 - val_accuracy: 0.9895\n",
            "Epoch 6/10\n",
            "125/125 [==============================] - 45s 358ms/step - loss: 0.2129 - accuracy: 0.9227 - val_loss: 0.0842 - val_accuracy: 0.9755\n",
            "Epoch 7/10\n",
            "125/125 [==============================] - 45s 356ms/step - loss: 0.1624 - accuracy: 0.9450 - val_loss: 0.0797 - val_accuracy: 0.9696\n",
            "Epoch 8/10\n",
            "125/125 [==============================] - 44s 355ms/step - loss: 0.1565 - accuracy: 0.9438 - val_loss: 0.2029 - val_accuracy: 0.9271\n",
            "Epoch 9/10\n",
            "125/125 [==============================] - 45s 361ms/step - loss: 0.2796 - accuracy: 0.9013 - val_loss: 0.0937 - val_accuracy: 0.9850\n",
            "Epoch 10/10\n",
            "125/125 [==============================] - 45s 357ms/step - loss: 0.1771 - accuracy: 0.9430 - val_loss: 0.0451 - val_accuracy: 0.9880\n"
          ]
        }
      ]
    },
    {
      "cell_type": "code",
      "execution_count": 8,
      "metadata": {
        "id": "wqxIY90iqtTN"
      },
      "outputs": [],
      "source": [
        "# # CNN 모델 정의\n",
        "# model = Sequential()\n",
        "# model.add(Conv1D(filters=64, kernel_size=3, activation='relu', input_shape=(X_train.shape[1], X_train.shape[2])))\n",
        "# model.add(MaxPooling1D(pool_size=2))\n",
        "# model.add(Conv1D(filters=128, kernel_size=3, activation='relu'))\n",
        "# model.add(MaxPooling1D(pool_size=2))\n",
        "# model.add(Flatten())\n",
        "# model.add(Dense(100, activation='relu'))\n",
        "# model.add(Dropout(0.5))\n",
        "# model.add(Dense(len(categories), activation='softmax'))\n",
        "\n",
        "# # 모델 컴파일\n",
        "# model.compile(optimizer='adam', loss='categorical_crossentropy', metrics=['accuracy'])"
      ]
    },
    {
      "cell_type": "code",
      "execution_count": 9,
      "metadata": {
        "id": "OkdAw5zNquCN"
      },
      "outputs": [],
      "source": [
        "# # 모델 학습\n",
        "# history = model.fit(X_train, y_train_categorical, epochs=10, batch_size=32, validation_data=(X_val, y_val_categorical))"
      ]
    },
    {
      "cell_type": "code",
      "execution_count": 10,
      "metadata": {
        "colab": {
          "base_uri": "https://localhost:8080/"
        },
        "id": "UIXo92qAquso",
        "outputId": "375599a5-ee98-4035-c94f-43ad5e22287b"
      },
      "outputs": [
        {
          "output_type": "stream",
          "name": "stderr",
          "text": [
            "/usr/local/lib/python3.10/dist-packages/keras/src/engine/training.py:3103: UserWarning: You are saving your model as an HDF5 file via `model.save()`. This file format is considered legacy. We recommend using instead the native Keras format, e.g. `model.save('my_model.keras')`.\n",
            "  saving_api.save_model(\n"
          ]
        },
        {
          "output_type": "stream",
          "name": "stdout",
          "text": [
            "Model Size: 439.50 MB\n"
          ]
        }
      ],
      "source": [
        "# 모델 사이즈 확인\n",
        "model.save('model.h5')\n",
        "model_size = os.path.getsize('model.h5') / (1024 * 1024)  # 모델 사이즈를 MB 단위로 변환\n",
        "print(f\"Model Size: {model_size:.2f} MB\")"
      ]
    },
    {
      "cell_type": "code",
      "execution_count": 11,
      "metadata": {
        "colab": {
          "base_uri": "https://localhost:8080/"
        },
        "id": "xi7sYKDBqqGD",
        "outputId": "918dab4e-8182-4928-eb0c-4abbe3b8eb74"
      },
      "outputs": [
        {
          "output_type": "stream",
          "name": "stdout",
          "text": [
            "Memory Usage: 7233.63 MB\n"
          ]
        }
      ],
      "source": [
        "# 메모리 사용량 확인\n",
        "process = psutil.Process(os.getpid())\n",
        "memory_usage = process.memory_info().rss / (1024 * 1024)  # 메모리 사용량을 MB 단위로 변환\n",
        "print(f\"Memory Usage: {memory_usage:.2f} MB\")"
      ]
    },
    {
      "cell_type": "code",
      "execution_count": 12,
      "metadata": {
        "colab": {
          "base_uri": "https://localhost:8080/"
        },
        "id": "LatVRbhvqq3T",
        "outputId": "2ff9262f-80b3-4aea-a34a-a4f36141584d"
      },
      "outputs": [
        {
          "output_type": "stream",
          "name": "stdout",
          "text": [
            "125/125 [==============================] - 8s 65ms/step\n",
            "Inference Time: 8.69 seconds\n"
          ]
        }
      ],
      "source": [
        "# 추론 시간 측정\n",
        "start_time = time.time()\n",
        "y_pred_categorical = model.predict(X_test)\n",
        "end_time = time.time()\n",
        "inference_time = end_time - start_time\n",
        "print(f\"Inference Time: {inference_time:.2f} seconds\")\n",
        "\n",
        "y_pred = np.argmax(y_pred_categorical, axis=1)"
      ]
    },
    {
      "cell_type": "code",
      "execution_count": 13,
      "metadata": {
        "colab": {
          "base_uri": "https://localhost:8080/"
        },
        "id": "hDa8W7z9rcqS",
        "outputId": "a73c3666-7cdf-43fc-8a2c-aed6878a0743"
      },
      "outputs": [
        {
          "output_type": "stream",
          "name": "stdout",
          "text": [
            "63/63 [==============================] - 4s 63ms/step - loss: 0.0451 - accuracy: 0.9880\n",
            "Validation Loss: 0.045065268874168396\n",
            "Validation Accuracy: 0.9880239367485046\n"
          ]
        }
      ],
      "source": [
        "# 검증 데이터 평가\n",
        "val_loss, val_accuracy = model.evaluate(X_val, y_val_categorical)\n",
        "print(f\"Validation Loss: {val_loss}\")\n",
        "print(f\"Validation Accuracy: {val_accuracy}\")"
      ]
    },
    {
      "cell_type": "code",
      "execution_count": 14,
      "metadata": {
        "id": "ihjV9vKNrbwH",
        "colab": {
          "base_uri": "https://localhost:8080/"
        },
        "outputId": "531ca98e-4ca1-429c-cf4d-c98ddd3143d7"
      },
      "outputs": [
        {
          "output_type": "stream",
          "name": "stdout",
          "text": [
            "125/125 [==============================] - 8s 62ms/step - loss: 0.0439 - accuracy: 0.9872\n",
            "Test Loss: 0.04388662427663803\n",
            "Test Accuracy: 0.9872499704360962\n"
          ]
        }
      ],
      "source": [
        "# 테스트 데이터 평가\n",
        "test_loss, test_accuracy = model.evaluate(X_test, y_test_categorical)\n",
        "print(f\"Test Loss: {test_loss}\")\n",
        "print(f\"Test Accuracy: {test_accuracy}\")"
      ]
    },
    {
      "cell_type": "code",
      "execution_count": 15,
      "metadata": {
        "colab": {
          "base_uri": "https://localhost:8080/"
        },
        "id": "HgMK-WjgrdRk",
        "outputId": "29e2b9ec-5223-409c-bc69-e08dd69c57b0"
      },
      "outputs": [
        {
          "output_type": "stream",
          "name": "stdout",
          "text": [
            "63/63 [==============================] - 4s 63ms/step\n",
            "Confusion Matrix (Validation):\n",
            "[[504   0   0   0]\n",
            " [  0 500   0   0]\n",
            " [ 10   0 490   0]\n",
            " [  0   0  14 486]]\n",
            "\n",
            "Classification Report (Validation):\n",
            "              precision    recall  f1-score   support\n",
            "\n",
            "      normal       0.98      1.00      0.99       504\n",
            "    fault_BB       1.00      1.00      1.00       500\n",
            "    fault_RI       0.97      0.98      0.98       500\n",
            "    fault_SM       1.00      0.97      0.99       500\n",
            "\n",
            "    accuracy                           0.99      2004\n",
            "   macro avg       0.99      0.99      0.99      2004\n",
            "weighted avg       0.99      0.99      0.99      2004\n",
            "\n"
          ]
        }
      ],
      "source": [
        "# 혼동 행렬 및 성능 지표 출력 (검증 데이터)\n",
        "y_pred_val = model.predict(X_val)\n",
        "y_pred_val_classes = np.argmax(y_pred_val, axis=1)\n",
        "\n",
        "conf_matrix_val = confusion_matrix(y_val_encoded, y_pred_val_classes)\n",
        "class_report_val = classification_report(y_val_encoded, y_pred_val_classes, target_names=categories)\n",
        "\n",
        "print(\"Confusion Matrix (Validation):\")\n",
        "print(conf_matrix_val)\n",
        "print(\"\\nClassification Report (Validation):\")\n",
        "print(class_report_val)"
      ]
    },
    {
      "cell_type": "code",
      "execution_count": 16,
      "metadata": {
        "colab": {
          "base_uri": "https://localhost:8080/"
        },
        "id": "PsKRMNmVrd25",
        "outputId": "6d71d1b3-fe42-4483-c8ce-97fbbbfd83b4"
      },
      "outputs": [
        {
          "output_type": "stream",
          "name": "stdout",
          "text": [
            "Confusion Matrix (Test):\n",
            "[[ 998    0    2    0]\n",
            " [   0 1000    0    0]\n",
            " [  32    0  959    9]\n",
            " [   0    0    8  992]]\n",
            "\n",
            "Classification Report (Test):\n",
            "              precision    recall  f1-score   support\n",
            "\n",
            "      normal       0.97      1.00      0.98      1000\n",
            "    fault_BB       1.00      1.00      1.00      1000\n",
            "    fault_RI       0.99      0.96      0.97      1000\n",
            "    fault_SM       0.99      0.99      0.99      1000\n",
            "\n",
            "    accuracy                           0.99      4000\n",
            "   macro avg       0.99      0.99      0.99      4000\n",
            "weighted avg       0.99      0.99      0.99      4000\n",
            "\n"
          ]
        }
      ],
      "source": [
        "# 혼동 행렬 및 성능 지표 출력 (테스트 데이터)\n",
        "conf_matrix_test = confusion_matrix(y_test_encoded, y_pred)\n",
        "class_report_test = classification_report(y_test_encoded, y_pred, target_names=categories)\n",
        "\n",
        "print(\"Confusion Matrix (Test):\")\n",
        "print(conf_matrix_test)\n",
        "print(\"\\nClassification Report (Test):\")\n",
        "print(class_report_test)"
      ]
    },
    {
      "cell_type": "code",
      "execution_count": 17,
      "metadata": {
        "id": "FHjmBAvQrefD"
      },
      "outputs": [],
      "source": [
        "# # 새로운 CSV 파일 분류\n",
        "# def classify_new_file(file_path, model):\n",
        "#     data = pd.read_csv(file_path, header=None).values\n",
        "#     data = np.nan_to_num(data).astype('float32')  # NaN 값을 0으로 대체하고, float32로 변환\n",
        "#     data = np.expand_dims(data, axis=(0, -1))\n",
        "#     prediction = model.predict(data)\n",
        "#     predicted_class = np.argmax(prediction, axis=1)\n",
        "#     return label_encoder.inverse_transform(predicted_class)\n",
        "\n",
        "# # 예시: 새로운 파일 분류\n",
        "# new_file_path = 'path_to_new_csv_file.csv'\n",
        "# predicted_category = classify_new_file(new_file_path, model)\n",
        "# print(f'The predicted category for the new file is: {predicted_category[0]}')"
      ]
    }
  ],
  "metadata": {
    "colab": {
      "machine_shape": "hm",
      "provenance": [],
      "gpuType": "V28",
      "authorship_tag": "ABX9TyN9a7KR6j3SFQ+lbT+zAw7/",
      "include_colab_link": true
    },
    "kernelspec": {
      "display_name": "Python 3",
      "name": "python3"
    },
    "language_info": {
      "name": "python"
    },
    "accelerator": "TPU"
  },
  "nbformat": 4,
  "nbformat_minor": 0
}