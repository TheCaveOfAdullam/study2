{
  "nbformat": 4,
  "nbformat_minor": 0,
  "metadata": {
    "colab": {
      "provenance": [],
      "machine_shape": "hm",
      "gpuType": "V28",
      "authorship_tag": "ABX9TyNKhoPR7ytYa70Nk3lCqxEF",
      "include_colab_link": true
    },
    "kernelspec": {
      "name": "python3",
      "display_name": "Python 3"
    },
    "language_info": {
      "name": "python"
    },
    "accelerator": "TPU"
  },
  "cells": [
    {
      "cell_type": "markdown",
      "metadata": {
        "id": "view-in-github",
        "colab_type": "text"
      },
      "source": [
        "<a href=\"https://colab.research.google.com/github/TheCaveOfAdullam/study2/blob/main/faultDetector1.ipynb\" target=\"_parent\"><img src=\"https://colab.research.google.com/assets/colab-badge.svg\" alt=\"Open In Colab\"/></a>"
      ]
    },
    {
      "cell_type": "code",
      "execution_count": 42,
      "metadata": {
        "colab": {
          "base_uri": "https://localhost:8080/"
        },
        "id": "Dj7uppWT47Dd",
        "outputId": "5a5f79c3-41c9-4adf-e210-2200d1a5440d"
      },
      "outputs": [
        {
          "output_type": "stream",
          "name": "stdout",
          "text": [
            "Drive already mounted at /content/drive; to attempt to forcibly remount, call drive.mount(\"/content/drive\", force_remount=True).\n"
          ]
        }
      ],
      "source": [
        "from google.colab import drive\n",
        "drive.mount('/content/drive')"
      ]
    },
    {
      "cell_type": "code",
      "source": [
        "import pandas as pd\n",
        "import numpy as np\n",
        "import os\n",
        "from sklearn.preprocessing import LabelEncoder\n",
        "from sklearn.metrics import confusion_matrix, classification_report\n",
        "from keras.models import Sequential\n",
        "from keras.layers import Conv1D, MaxPooling1D, Flatten, Dense, Dropout\n",
        "from keras.regularizers import l2\n",
        "from keras.callbacks import EarlyStopping, ReduceLROnPlateau\n",
        "from keras.utils import to_categorical"
      ],
      "metadata": {
        "id": "T9ble2Gh5GzN"
      },
      "execution_count": 43,
      "outputs": []
    },
    {
      "cell_type": "code",
      "source": [
        "# 기본 경로 설정\n",
        "base_dir = '/content/drive/MyDrive/ship_data'\n",
        "categories = ['normal', 'fault_BB', 'fault_RI', 'fault_SM']\n",
        "\n",
        "# 데이터 로드 및 전처리 함수 정의\n",
        "def load_data(base_dir, split):\n",
        "    X = []\n",
        "    y = []\n",
        "    split_dir = os.path.join(base_dir, split)\n",
        "    for category in categories:\n",
        "        category_dir = os.path.join(split_dir, category)\n",
        "        for file in os.listdir(category_dir):\n",
        "            file_path = os.path.join(category_dir, file)\n",
        "            data = pd.read_csv(file_path, header=None).values\n",
        "            data = pd.to_numeric(data.flatten(), errors='coerce').reshape(-1, data.shape[1])\n",
        "            data = np.nan_to_num(data).astype('float32')  # NaN 값을 0으로 대체하고, float32로 변환\n",
        "            X.append(data)\n",
        "            y.append(category)\n",
        "    return np.array(X), np.array(y)\n",
        "\n",
        "# 데이터 로드\n",
        "X_train, y_train = load_data(base_dir, 'train')\n",
        "X_val, y_val = load_data(base_dir, 'validation')\n",
        "X_test, y_test = load_data(base_dir, 'test')\n",
        "\n",
        "# 데이터 차원 변경 (CNN 입력 형식에 맞게)\n",
        "X_train = np.expand_dims(X_train, axis=-1)\n",
        "X_val = np.expand_dims(X_val, axis=-1)\n",
        "X_test = np.expand_dims(X_test, axis=-1)\n",
        "\n",
        "# 레이블 인코딩\n",
        "label_encoder = LabelEncoder()\n",
        "y_train_encoded = label_encoder.fit_transform(y_train)\n",
        "y_val_encoded = label_encoder.transform(y_val)\n",
        "y_test_encoded = label_encoder.transform(y_test)\n",
        "\n",
        "# 원-핫 인코딩\n",
        "y_train_categorical = to_categorical(y_train_encoded)\n",
        "y_val_categorical = to_categorical(y_val_encoded)\n",
        "y_test_categorical = to_categorical(y_test_encoded)"
      ],
      "metadata": {
        "id": "Fd5VRIFG5G10"
      },
      "execution_count": 44,
      "outputs": []
    },
    {
      "cell_type": "code",
      "source": [
        "# 모델 정의\n",
        "def create_model():\n",
        "    model = Sequential()\n",
        "    model.add(Conv1D(filters=64, kernel_size=3, activation='relu', input_shape=(X_train.shape[1], X_train.shape[2])))\n",
        "    model.add(MaxPooling1D(pool_size=2))\n",
        "\n",
        "    model.add(Conv1D(filters=128, kernel_size=3, activation='relu'))\n",
        "    model.add(MaxPooling1D(pool_size=2))\n",
        "\n",
        "    model.add(Conv1D(filters=256, kernel_size=3, activation='relu'))\n",
        "    model.add(MaxPooling1D(pool_size=2))\n",
        "\n",
        "    model.add(Flatten())\n",
        "    model.add(Dense(256, activation='relu'))\n",
        "    model.add(Dropout(0.5))  # 드롭아웃 비율 0.5\n",
        "    model.add(Dense(len(categories), activation='softmax'))\n",
        "    return model\n",
        "\n",
        "model = create_model()\n",
        "\n",
        "# 모델 컴파일\n",
        "model.compile(optimizer='adam', loss='categorical_crossentropy', metrics=['accuracy'])\n",
        "\n",
        "# 조기 종료 및 학습률 감소 콜백 정의\n",
        "early_stopping = EarlyStopping(monitor='val_loss', patience=5, restore_best_weights=True)\n",
        "reduce_lr = ReduceLROnPlateau(monitor='val_loss', factor=0.5, patience=2, min_lr=0.00001)\n"
      ],
      "metadata": {
        "id": "yYXqG-415G4W"
      },
      "execution_count": 45,
      "outputs": []
    },
    {
      "cell_type": "code",
      "source": [
        "# 모델 학습\n",
        "history = model.fit(X_train, y_train_categorical, epochs=20, batch_size=32, validation_data=(X_val, y_val_categorical), callbacks=[early_stopping, reduce_lr])"
      ],
      "metadata": {
        "colab": {
          "base_uri": "https://localhost:8080/"
        },
        "id": "ovt0J_PT5G7O",
        "outputId": "353904c0-9215-4c88-fb02-a004c1a77dba"
      },
      "execution_count": 46,
      "outputs": [
        {
          "output_type": "stream",
          "name": "stdout",
          "text": [
            "Epoch 1/20\n",
            "219/219 [==============================] - 144s 651ms/step - loss: 1.4477 - accuracy: 0.5086 - val_loss: 0.6063 - val_accuracy: 0.7246 - lr: 0.0010\n",
            "Epoch 2/20\n",
            "219/219 [==============================] - 144s 658ms/step - loss: 0.6328 - accuracy: 0.7220 - val_loss: 0.5031 - val_accuracy: 0.7246 - lr: 0.0010\n",
            "Epoch 3/20\n",
            "219/219 [==============================] - 146s 665ms/step - loss: 0.6051 - accuracy: 0.6759 - val_loss: 0.2232 - val_accuracy: 0.8576 - lr: 0.0010\n",
            "Epoch 4/20\n",
            "219/219 [==============================] - 148s 675ms/step - loss: 0.4455 - accuracy: 0.7610 - val_loss: 0.1685 - val_accuracy: 0.9397 - lr: 0.0010\n",
            "Epoch 5/20\n",
            "219/219 [==============================] - 149s 680ms/step - loss: 0.4014 - accuracy: 0.7983 - val_loss: 0.1532 - val_accuracy: 0.9945 - lr: 0.0010\n",
            "Epoch 6/20\n",
            "219/219 [==============================] - 149s 683ms/step - loss: 0.3919 - accuracy: 0.8117 - val_loss: 0.1269 - val_accuracy: 0.9961 - lr: 0.0010\n",
            "Epoch 7/20\n",
            "219/219 [==============================] - 150s 687ms/step - loss: 0.3326 - accuracy: 0.8409 - val_loss: 0.0899 - val_accuracy: 0.9992 - lr: 0.0010\n",
            "Epoch 8/20\n",
            "219/219 [==============================] - 148s 676ms/step - loss: 0.3200 - accuracy: 0.8432 - val_loss: 0.1097 - val_accuracy: 0.9867 - lr: 0.0010\n",
            "Epoch 9/20\n",
            "219/219 [==============================] - 149s 681ms/step - loss: 0.3134 - accuracy: 0.8412 - val_loss: 0.0874 - val_accuracy: 0.9875 - lr: 0.0010\n",
            "Epoch 10/20\n",
            "219/219 [==============================] - 147s 674ms/step - loss: 0.3115 - accuracy: 0.8255 - val_loss: 0.0791 - val_accuracy: 0.9984 - lr: 0.0010\n",
            "Epoch 11/20\n",
            "219/219 [==============================] - 148s 677ms/step - loss: 0.2997 - accuracy: 0.8315 - val_loss: 0.0888 - val_accuracy: 0.9992 - lr: 0.0010\n",
            "Epoch 12/20\n",
            "219/219 [==============================] - 148s 676ms/step - loss: 0.2828 - accuracy: 0.8431 - val_loss: 0.0634 - val_accuracy: 0.9992 - lr: 0.0010\n",
            "Epoch 13/20\n",
            "219/219 [==============================] - 147s 674ms/step - loss: 0.2869 - accuracy: 0.8441 - val_loss: 0.0435 - val_accuracy: 1.0000 - lr: 0.0010\n",
            "Epoch 14/20\n",
            "219/219 [==============================] - 148s 678ms/step - loss: 0.2708 - accuracy: 0.8591 - val_loss: 0.0492 - val_accuracy: 0.9992 - lr: 0.0010\n",
            "Epoch 15/20\n",
            "219/219 [==============================] - 148s 677ms/step - loss: 0.2693 - accuracy: 0.8654 - val_loss: 0.0642 - val_accuracy: 1.0000 - lr: 0.0010\n",
            "Epoch 16/20\n",
            "219/219 [==============================] - 150s 683ms/step - loss: 0.2349 - accuracy: 0.8928 - val_loss: 0.0502 - val_accuracy: 1.0000 - lr: 5.0000e-04\n",
            "Epoch 17/20\n",
            "219/219 [==============================] - 149s 682ms/step - loss: 0.1960 - accuracy: 0.9118 - val_loss: 0.0309 - val_accuracy: 1.0000 - lr: 5.0000e-04\n",
            "Epoch 18/20\n",
            "219/219 [==============================] - 149s 681ms/step - loss: 0.1780 - accuracy: 0.9159 - val_loss: 0.0250 - val_accuracy: 1.0000 - lr: 5.0000e-04\n",
            "Epoch 19/20\n",
            "219/219 [==============================] - 149s 680ms/step - loss: 0.1743 - accuracy: 0.9188 - val_loss: 0.0289 - val_accuracy: 0.9984 - lr: 5.0000e-04\n",
            "Epoch 20/20\n",
            "219/219 [==============================] - 150s 684ms/step - loss: 0.1743 - accuracy: 0.9156 - val_loss: 0.0226 - val_accuracy: 1.0000 - lr: 5.0000e-04\n"
          ]
        }
      ]
    },
    {
      "cell_type": "code",
      "source": [
        "# 모델 사이즈 확인\n",
        "model.save('model.h5')\n",
        "model_size = os.path.getsize('model.h5') / (1024 * 1024)  # 모델 사이즈를 MB 단위로 변환\n",
        "print(f\"Model Size: {model_size:.2f} MB\")"
      ],
      "metadata": {
        "colab": {
          "base_uri": "https://localhost:8080/"
        },
        "id": "9XPMLp_35G-F",
        "outputId": "bd4774bb-9d8a-4a98-8544-4d3250aaea55"
      },
      "execution_count": 47,
      "outputs": [
        {
          "output_type": "stream",
          "name": "stderr",
          "text": [
            "/usr/local/lib/python3.10/dist-packages/keras/src/engine/training.py:3103: UserWarning: You are saving your model as an HDF5 file via `model.save()`. This file format is considered legacy. We recommend using instead the native Keras format, e.g. `model.save('my_model.keras')`.\n",
            "  saving_api.save_model(\n"
          ]
        },
        {
          "output_type": "stream",
          "name": "stdout",
          "text": [
            "Model Size: 1124.98 MB\n"
          ]
        }
      ]
    },
    {
      "cell_type": "code",
      "source": [
        "# 검증 데이터 평가\n",
        "val_loss, val_accuracy = model.evaluate(X_val, y_val_categorical)\n",
        "print(f\"Validation Loss: {val_loss}\")\n",
        "print(f\"Validation Accuracy: {val_accuracy}\")"
      ],
      "metadata": {
        "colab": {
          "base_uri": "https://localhost:8080/"
        },
        "id": "M4Zsrrfa5HAt",
        "outputId": "0178dcf9-9166-4b46-bd44-09859c4abb89"
      },
      "execution_count": 48,
      "outputs": [
        {
          "output_type": "stream",
          "name": "stdout",
          "text": [
            "40/40 [==============================] - 5s 112ms/step - loss: 0.0226 - accuracy: 1.0000\n",
            "Validation Loss: 0.022570721805095673\n",
            "Validation Accuracy: 1.0\n"
          ]
        }
      ]
    },
    {
      "cell_type": "code",
      "source": [
        "# 테스트 데이터 평가\n",
        "test_loss, test_accuracy = model.evaluate(X_test, y_test_categorical)\n",
        "print(f\"Test Loss: {test_loss}\")\n",
        "print(f\"Test Accuracy: {test_accuracy}\")"
      ],
      "metadata": {
        "colab": {
          "base_uri": "https://localhost:8080/"
        },
        "id": "35-els9d5HDU",
        "outputId": "40092f2a-97e4-4929-8efb-573a0eb11364"
      },
      "execution_count": 49,
      "outputs": [
        {
          "output_type": "stream",
          "name": "stdout",
          "text": [
            "40/40 [==============================] - 4s 108ms/step - loss: 0.0300 - accuracy: 0.9969\n",
            "Test Loss: 0.029992295429110527\n",
            "Test Accuracy: 0.9968701004981995\n"
          ]
        }
      ]
    },
    {
      "cell_type": "code",
      "source": [
        "# 혼동 행렬 및 성능 지표 출력 (검증 데이터)\n",
        "y_pred_val = model.predict(X_val)\n",
        "y_pred_val_classes = np.argmax(y_pred_val, axis=1)\n",
        "\n",
        "conf_matrix_val = confusion_matrix(y_val_encoded, y_pred_val_classes)\n",
        "class_report_val = classification_report(y_val_encoded, y_pred_val_classes, target_names=categories)\n",
        "\n",
        "print(\"검증 데이터에 대한 혼동 행렬:\")\n",
        "print(conf_matrix_val)\n",
        "print(\"\\n검증 데이터에 대한 분류 보고서:\")\n",
        "print(class_report_val)"
      ],
      "metadata": {
        "colab": {
          "base_uri": "https://localhost:8080/"
        },
        "id": "rG9ZSdww5HF0",
        "outputId": "3fb218ad-82e3-4517-ee53-e8060bea75b5"
      },
      "execution_count": 50,
      "outputs": [
        {
          "output_type": "stream",
          "name": "stdout",
          "text": [
            "40/40 [==============================] - 4s 106ms/step\n",
            "검증 데이터에 대한 혼동 행렬:\n",
            "[[176   0   0   0]\n",
            " [  0 176   0   0]\n",
            " [  0   0 176   0]\n",
            " [  0   0   0 750]]\n",
            "\n",
            "검증 데이터에 대한 분류 보고서:\n",
            "              precision    recall  f1-score   support\n",
            "\n",
            "      normal       1.00      1.00      1.00       176\n",
            "    fault_BB       1.00      1.00      1.00       176\n",
            "    fault_RI       1.00      1.00      1.00       176\n",
            "    fault_SM       1.00      1.00      1.00       750\n",
            "\n",
            "    accuracy                           1.00      1278\n",
            "   macro avg       1.00      1.00      1.00      1278\n",
            "weighted avg       1.00      1.00      1.00      1278\n",
            "\n"
          ]
        }
      ]
    },
    {
      "cell_type": "code",
      "source": [
        "# 혼동 행렬 및 성능 지표 출력 (테스트 데이터)\n",
        "y_pred_test = model.predict(X_test)\n",
        "y_pred_test_classes = np.argmax(y_pred_test, axis=1)\n",
        "\n",
        "conf_matrix_test = confusion_matrix(y_test_encoded, y_pred_test_classes)\n",
        "class_report_test = classification_report(y_test_encoded, y_pred_test_classes, target_names=categories)\n",
        "\n",
        "print(\"테스트 데이터에 대한 혼동 행렬:\")\n",
        "print(conf_matrix_test)\n",
        "print(\"\\n테스트 데이터에 대한 분류 보고서:\")\n",
        "print(class_report_test)"
      ],
      "metadata": {
        "colab": {
          "base_uri": "https://localhost:8080/"
        },
        "id": "k3qj9JlS5HId",
        "outputId": "75a60714-70c9-4c15-b21e-0e2f19cf7c24"
      },
      "execution_count": 51,
      "outputs": [
        {
          "output_type": "stream",
          "name": "stdout",
          "text": [
            "40/40 [==============================] - 4s 104ms/step\n",
            "테스트 데이터에 대한 혼동 행렬:\n",
            "[[172   0   4   0]\n",
            " [  0 176   0   0]\n",
            " [  0   0 176   0]\n",
            " [  0   0   0 750]]\n",
            "\n",
            "테스트 데이터에 대한 분류 보고서:\n",
            "              precision    recall  f1-score   support\n",
            "\n",
            "      normal       1.00      0.98      0.99       176\n",
            "    fault_BB       1.00      1.00      1.00       176\n",
            "    fault_RI       0.98      1.00      0.99       176\n",
            "    fault_SM       1.00      1.00      1.00       750\n",
            "\n",
            "    accuracy                           1.00      1278\n",
            "   macro avg       0.99      0.99      0.99      1278\n",
            "weighted avg       1.00      1.00      1.00      1278\n",
            "\n"
          ]
        }
      ]
    },
    {
      "cell_type": "code",
      "source": [],
      "metadata": {
        "id": "Bf9LXfTY5HLK"
      },
      "execution_count": 51,
      "outputs": []
    }
  ]
}