{
  "nbformat": 4,
  "nbformat_minor": 0,
  "metadata": {
    "colab": {
      "provenance": [],
      "machine_shape": "hm",
      "gpuType": "V28",
      "mount_file_id": "1iLORGAKmT91QylKNiPxZThJwfaV7FxQE",
      "authorship_tag": "ABX9TyPKK85w2Wpe4ujp8P3tvtU3",
      "include_colab_link": true
    },
    "kernelspec": {
      "name": "python3",
      "display_name": "Python 3"
    },
    "language_info": {
      "name": "python"
    },
    "accelerator": "TPU"
  },
  "cells": [
    {
      "cell_type": "markdown",
      "metadata": {
        "id": "view-in-github",
        "colab_type": "text"
      },
      "source": [
        "<a href=\"https://colab.research.google.com/github/TheCaveOfAdullam/study2/blob/main/pR50_test1.ipynb\" target=\"_parent\"><img src=\"https://colab.research.google.com/assets/colab-badge.svg\" alt=\"Open In Colab\"/></a>"
      ]
    },
    {
      "cell_type": "code",
      "source": [
        "from google.colab import drive\n",
        "drive.mount('/content/drive')"
      ],
      "metadata": {
        "colab": {
          "base_uri": "https://localhost:8080/"
        },
        "id": "qwB152aDBzD6",
        "outputId": "07afd889-0645-442e-fcc3-014291656f4d"
      },
      "execution_count": 1,
      "outputs": [
        {
          "output_type": "stream",
          "name": "stdout",
          "text": [
            "Drive already mounted at /content/drive; to attempt to forcibly remount, call drive.mount(\"/content/drive\", force_remount=True).\n"
          ]
        }
      ]
    },
    {
      "cell_type": "code",
      "source": [
        "!pip install tensorflow_model_optimization\n",
        "\n",
        "import numpy as np\n",
        "import tensorflow as tf\n",
        "from tensorflow.keras.preprocessing import image_dataset_from_directory\n",
        "from tensorflow.keras.applications import ResNet50\n",
        "from tensorflow.keras.layers import GlobalAveragePooling2D, Dense, Dropout, Input\n",
        "from tensorflow.keras.callbacks import ReduceLROnPlateau\n",
        "from sklearn.metrics import confusion_matrix, classification_report, f1_score, precision_score, recall_score\n",
        "import matplotlib.pyplot as plt\n",
        "import time\n",
        "import os\n",
        "import tracemalloc\n",
        "import tensorflow_model_optimization as tfmot\n",
        "from tensorflow.keras.models import Model"
      ],
      "metadata": {
        "colab": {
          "base_uri": "https://localhost:8080/"
        },
        "id": "KZvcLhy-43fg",
        "outputId": "1e6724e3-641e-448e-bdf5-57b8a8fae457"
      },
      "execution_count": 2,
      "outputs": [
        {
          "output_type": "stream",
          "name": "stdout",
          "text": [
            "Collecting tensorflow_model_optimization\n",
            "  Downloading tensorflow_model_optimization-0.8.0-py2.py3-none-any.whl (242 kB)\n",
            "\u001b[2K     \u001b[90m━━━━━━━━━━━━━━━━━━━━━━━━━━━━━━━━━━━━━━━━\u001b[0m \u001b[32m242.5/242.5 kB\u001b[0m \u001b[31m1.8 MB/s\u001b[0m eta \u001b[36m0:00:00\u001b[0m\n",
            "\u001b[?25hRequirement already satisfied: absl-py~=1.2 in /usr/local/lib/python3.10/dist-packages (from tensorflow_model_optimization) (1.4.0)\n",
            "Requirement already satisfied: dm-tree~=0.1.1 in /usr/local/lib/python3.10/dist-packages (from tensorflow_model_optimization) (0.1.8)\n",
            "Requirement already satisfied: numpy~=1.23 in /usr/local/lib/python3.10/dist-packages (from tensorflow_model_optimization) (1.25.2)\n",
            "Requirement already satisfied: six~=1.14 in /usr/local/lib/python3.10/dist-packages (from tensorflow_model_optimization) (1.16.0)\n",
            "Installing collected packages: tensorflow_model_optimization\n",
            "Successfully installed tensorflow_model_optimization-0.8.0\n"
          ]
        }
      ]
    },
    {
      "cell_type": "code",
      "source": [
        "# Define paths\n",
        "train_dir = '/content/drive/MyDrive/motor_data/train'\n",
        "validation_dir = '/content/drive/MyDrive/motor_data/validation'\n",
        "test_dir = '/content/drive/MyDrive/motor_data/test'\n",
        "\n",
        "# Set image size and batch size\n",
        "image_size = (224, 224)\n",
        "batch_size = 32\n",
        "\n",
        "# Load datasets\n",
        "train_dataset = image_dataset_from_directory(train_dir, image_size=image_size, batch_size=batch_size, label_mode='int')\n",
        "validation_dataset = image_dataset_from_directory(validation_dir, image_size=image_size, batch_size=batch_size, label_mode='int')\n",
        "test_dataset = image_dataset_from_directory(test_dir, image_size=image_size, batch_size=batch_size, label_mode='int')\n",
        "\n",
        "# Input layer\n",
        "inputs = Input(shape=(224, 224, 3))\n"
      ],
      "metadata": {
        "colab": {
          "base_uri": "https://localhost:8080/"
        },
        "id": "c_Xb26cB43iT",
        "outputId": "fa0dbc21-976f-4f2b-da83-504413f8453d"
      },
      "execution_count": 3,
      "outputs": [
        {
          "output_type": "stream",
          "name": "stdout",
          "text": [
            "Found 12004 files belonging to 4 classes.\n",
            "Found 4000 files belonging to 4 classes.\n",
            "Found 4004 files belonging to 4 classes.\n"
          ]
        }
      ]
    },
    {
      "cell_type": "code",
      "source": [
        "# Load ResNet50 model\n",
        "base_model = ResNet50(weights='imagenet', include_top=False, input_tensor=inputs)\n",
        "\n",
        "# Add new top layers\n",
        "x = base_model.output\n",
        "x = GlobalAveragePooling2D()(x)\n",
        "x = Dense(512, activation='relu')(x)\n",
        "x = Dropout(0.5)(x)\n",
        "outputs = Dense(4, activation='softmax')(x)  # 4 classes: normal, fault_BB, fault_SM, fault_RI\n",
        "\n",
        "# Create the model\n",
        "model = Model(inputs=inputs, outputs=outputs)\n",
        "\n",
        "# Define ReduceLROnPlateau callback\n",
        "reduce_lr = ReduceLROnPlateau(monitor='val_loss', factor=0.2, patience=5, min_lr=0.0001)\n",
        "\n",
        "# Compile model\n",
        "model.compile(optimizer=tf.keras.optimizers.Adam(learning_rate=0.001),\n",
        "              loss='sparse_categorical_crossentropy',\n",
        "              metrics=['accuracy'])\n"
      ],
      "metadata": {
        "colab": {
          "base_uri": "https://localhost:8080/"
        },
        "id": "Eg3yCkTS43lA",
        "outputId": "6d1f1b29-d053-4cd8-ddc2-fae46412db66"
      },
      "execution_count": 4,
      "outputs": [
        {
          "output_type": "stream",
          "name": "stdout",
          "text": [
            "Downloading data from https://storage.googleapis.com/tensorflow/keras-applications/resnet/resnet50_weights_tf_dim_ordering_tf_kernels_notop.h5\n",
            "94765736/94765736 [==============================] - 0s 0us/step\n"
          ]
        }
      ]
    },
    {
      "cell_type": "code",
      "source": [
        "# Train the model\n",
        "history = model.fit(train_dataset, validation_data=validation_dataset, epochs=10, callbacks=[reduce_lr])"
      ],
      "metadata": {
        "colab": {
          "base_uri": "https://localhost:8080/"
        },
        "id": "2LbeV8q_43nz",
        "outputId": "d6aa359f-4750-44b4-c600-512cb9f7533f"
      },
      "execution_count": 5,
      "outputs": [
        {
          "output_type": "stream",
          "name": "stdout",
          "text": [
            "Epoch 1/10\n",
            "376/376 [==============================] - 895s 2s/step - loss: 0.0141 - accuracy: 0.9961 - val_loss: 3.4571e-09 - val_accuracy: 1.0000 - lr: 0.0010\n",
            "Epoch 2/10\n",
            "376/376 [==============================] - 777s 2s/step - loss: 5.5725e-07 - accuracy: 1.0000 - val_loss: 3.8743e-10 - val_accuracy: 1.0000 - lr: 0.0010\n",
            "Epoch 3/10\n",
            "376/376 [==============================] - 785s 2s/step - loss: 1.2769e-06 - accuracy: 1.0000 - val_loss: 0.0000e+00 - val_accuracy: 1.0000 - lr: 0.0010\n",
            "Epoch 4/10\n",
            "376/376 [==============================] - 778s 2s/step - loss: 1.8196e-07 - accuracy: 1.0000 - val_loss: 2.9802e-11 - val_accuracy: 1.0000 - lr: 0.0010\n",
            "Epoch 5/10\n",
            "376/376 [==============================] - 772s 2s/step - loss: 0.1287 - accuracy: 0.9841 - val_loss: 0.0268 - val_accuracy: 0.9960 - lr: 0.0010\n",
            "Epoch 6/10\n",
            "376/376 [==============================] - 774s 2s/step - loss: 0.0115 - accuracy: 0.9978 - val_loss: 0.0017 - val_accuracy: 0.9998 - lr: 0.0010\n",
            "Epoch 7/10\n",
            "376/376 [==============================] - 775s 2s/step - loss: 0.0023 - accuracy: 0.9996 - val_loss: 4.8554e-06 - val_accuracy: 1.0000 - lr: 2.0000e-04\n",
            "Epoch 8/10\n",
            "376/376 [==============================] - 775s 2s/step - loss: 2.9138e-04 - accuracy: 0.9999 - val_loss: 1.5474e-06 - val_accuracy: 1.0000 - lr: 2.0000e-04\n",
            "Epoch 9/10\n",
            "376/376 [==============================] - 775s 2s/step - loss: 4.7581e-05 - accuracy: 1.0000 - val_loss: 1.2112e-06 - val_accuracy: 1.0000 - lr: 2.0000e-04\n",
            "Epoch 10/10\n",
            "376/376 [==============================] - 774s 2s/step - loss: 3.8784e-05 - accuracy: 1.0000 - val_loss: 9.0924e-07 - val_accuracy: 1.0000 - lr: 2.0000e-04\n"
          ]
        }
      ]
    },
    {
      "cell_type": "code",
      "source": [
        "# Initial evaluation\n",
        "val_loss, val_acc = model.evaluate(validation_dataset)\n",
        "print(f\"Initial Validation Loss: {val_loss}\")\n",
        "print(f\"Initial Validation Accuracy: {val_acc}\")\n",
        "\n",
        "test_loss, test_acc = model.evaluate(test_dataset)\n",
        "print(f\"Initial Test Loss: {test_loss}\")\n",
        "print(f\"Initial Test Accuracy: {test_acc}\")"
      ],
      "metadata": {
        "id": "RDixda3643qf",
        "colab": {
          "base_uri": "https://localhost:8080/"
        },
        "outputId": "6ac1be58-b633-476e-ff2f-9dfe31459bf2"
      },
      "execution_count": 6,
      "outputs": [
        {
          "output_type": "stream",
          "name": "stdout",
          "text": [
            "125/125 [==============================] - 63s 497ms/step - loss: 9.0924e-07 - accuracy: 1.0000\n",
            "Initial Validation Loss: 9.092379968933528e-07\n",
            "Initial Validation Accuracy: 1.0\n",
            "126/126 [==============================] - 61s 467ms/step - loss: 2.2015e-05 - accuracy: 1.0000\n",
            "Initial Test Loss: 2.2015252397977747e-05\n",
            "Initial Test Accuracy: 1.0\n"
          ]
        }
      ]
    },
    {
      "cell_type": "code",
      "source": [
        "# Save initial model and measure size\n",
        "model.save('original_motor_fault_classification_model.h5')\n",
        "original_model_size = os.path.getsize('original_motor_fault_classification_model.h5')\n",
        "print(f\"Original Model Size: {original_model_size / (1024 * 1024):.2f} MB\")"
      ],
      "metadata": {
        "colab": {
          "base_uri": "https://localhost:8080/"
        },
        "id": "jmesPPqn43tW",
        "outputId": "e2111082-4c37-44e1-8211-6fcdb02ac5bb"
      },
      "execution_count": 7,
      "outputs": [
        {
          "output_type": "stream",
          "name": "stderr",
          "text": [
            "/usr/local/lib/python3.10/dist-packages/keras/src/engine/training.py:3103: UserWarning: You are saving your model as an HDF5 file via `model.save()`. This file format is considered legacy. We recommend using instead the native Keras format, e.g. `model.save('my_model.keras')`.\n",
            "  saving_api.save_model(\n"
          ]
        },
        {
          "output_type": "stream",
          "name": "stdout",
          "text": [
            "Original Model Size: 282.47 MB\n"
          ]
        }
      ]
    },
    {
      "cell_type": "code",
      "source": [
        "# Measure initial inference time and memory usage\n",
        "start_time = time.time()\n",
        "tracemalloc.start()\n",
        "y_true, y_pred = [], []\n",
        "for batch in test_dataset:\n",
        "    images, labels = batch\n",
        "    y_true.extend(labels.numpy())\n",
        "    predictions = model.predict(images)\n",
        "    y_pred.extend(np.argmax(predictions, axis=1))\n",
        "end_time = time.time()\n",
        "current, peak = tracemalloc.get_traced_memory()\n",
        "tracemalloc.stop()\n",
        "original_inference_time = end_time - start_time\n",
        "original_peak_memory = peak / (1024 * 1024)\n",
        "print(f\"Original Inference Time: {original_inference_time:.2f} seconds\")\n",
        "print(f\"Original Peak Memory Usage: {original_peak_memory:.2f} MB\")"
      ],
      "metadata": {
        "colab": {
          "base_uri": "https://localhost:8080/"
        },
        "id": "lP54CTzF5Ndg",
        "outputId": "0e2932d5-1a5d-4577-e172-29add08412a2"
      },
      "execution_count": 8,
      "outputs": [
        {
          "output_type": "stream",
          "name": "stdout",
          "text": [
            "1/1 [==============================] - 2s 2s/step\n",
            "1/1 [==============================] - 0s 473ms/step\n",
            "1/1 [==============================] - 1s 531ms/step\n",
            "1/1 [==============================] - 1s 535ms/step\n",
            "1/1 [==============================] - 0s 462ms/step\n",
            "1/1 [==============================] - 0s 471ms/step\n",
            "1/1 [==============================] - 0s 456ms/step\n",
            "1/1 [==============================] - 1s 531ms/step\n",
            "1/1 [==============================] - 1s 503ms/step\n",
            "1/1 [==============================] - 0s 468ms/step\n",
            "1/1 [==============================] - 0s 492ms/step\n",
            "1/1 [==============================] - 0s 479ms/step\n",
            "1/1 [==============================] - 0s 480ms/step\n",
            "1/1 [==============================] - 1s 542ms/step\n",
            "1/1 [==============================] - 1s 532ms/step\n",
            "1/1 [==============================] - 1s 512ms/step\n",
            "1/1 [==============================] - 1s 540ms/step\n",
            "1/1 [==============================] - 1s 531ms/step\n",
            "1/1 [==============================] - 0s 447ms/step\n",
            "1/1 [==============================] - 0s 482ms/step\n",
            "1/1 [==============================] - 0s 469ms/step\n",
            "1/1 [==============================] - 0s 477ms/step\n",
            "1/1 [==============================] - 1s 551ms/step\n",
            "1/1 [==============================] - 1s 543ms/step\n",
            "1/1 [==============================] - 1s 500ms/step\n",
            "1/1 [==============================] - 1s 513ms/step\n",
            "1/1 [==============================] - 1s 551ms/step\n",
            "1/1 [==============================] - 0s 477ms/step\n",
            "1/1 [==============================] - 1s 539ms/step\n",
            "1/1 [==============================] - 0s 469ms/step\n",
            "1/1 [==============================] - 0s 485ms/step\n",
            "1/1 [==============================] - 0s 486ms/step\n",
            "1/1 [==============================] - 0s 475ms/step\n",
            "1/1 [==============================] - 0s 456ms/step\n",
            "1/1 [==============================] - 0s 470ms/step\n",
            "1/1 [==============================] - 0s 460ms/step\n",
            "1/1 [==============================] - 0s 475ms/step\n",
            "1/1 [==============================] - 0s 455ms/step\n",
            "1/1 [==============================] - 0s 482ms/step\n",
            "1/1 [==============================] - 0s 481ms/step\n",
            "1/1 [==============================] - 0s 451ms/step\n",
            "1/1 [==============================] - 1s 501ms/step\n",
            "1/1 [==============================] - 0s 487ms/step\n",
            "1/1 [==============================] - 1s 548ms/step\n",
            "1/1 [==============================] - 1s 534ms/step\n",
            "1/1 [==============================] - 1s 549ms/step\n",
            "1/1 [==============================] - 1s 545ms/step\n",
            "1/1 [==============================] - 1s 515ms/step\n",
            "1/1 [==============================] - 1s 527ms/step\n",
            "1/1 [==============================] - 1s 540ms/step\n",
            "1/1 [==============================] - 1s 556ms/step\n",
            "1/1 [==============================] - 0s 492ms/step\n",
            "1/1 [==============================] - 1s 537ms/step\n",
            "1/1 [==============================] - 1s 541ms/step\n",
            "1/1 [==============================] - 1s 553ms/step\n",
            "1/1 [==============================] - 1s 515ms/step\n",
            "1/1 [==============================] - 0s 455ms/step\n",
            "1/1 [==============================] - 1s 549ms/step\n",
            "1/1 [==============================] - 0s 452ms/step\n",
            "1/1 [==============================] - 0s 464ms/step\n",
            "1/1 [==============================] - 1s 548ms/step\n",
            "1/1 [==============================] - 1s 535ms/step\n",
            "1/1 [==============================] - 0s 494ms/step\n",
            "1/1 [==============================] - 1s 546ms/step\n",
            "1/1 [==============================] - 1s 539ms/step\n",
            "1/1 [==============================] - 1s 536ms/step\n",
            "1/1 [==============================] - 1s 531ms/step\n",
            "1/1 [==============================] - 1s 544ms/step\n",
            "1/1 [==============================] - 1s 562ms/step\n",
            "1/1 [==============================] - 1s 554ms/step\n",
            "1/1 [==============================] - 1s 558ms/step\n",
            "1/1 [==============================] - 1s 549ms/step\n",
            "1/1 [==============================] - 1s 519ms/step\n",
            "1/1 [==============================] - 1s 541ms/step\n",
            "1/1 [==============================] - 0s 496ms/step\n",
            "1/1 [==============================] - 1s 564ms/step\n",
            "1/1 [==============================] - 0s 459ms/step\n",
            "1/1 [==============================] - 1s 561ms/step\n",
            "1/1 [==============================] - 0s 477ms/step\n",
            "1/1 [==============================] - 1s 550ms/step\n",
            "1/1 [==============================] - 1s 543ms/step\n",
            "1/1 [==============================] - 1s 540ms/step\n",
            "1/1 [==============================] - 1s 531ms/step\n",
            "1/1 [==============================] - 0s 458ms/step\n",
            "1/1 [==============================] - 0s 491ms/step\n",
            "1/1 [==============================] - 0s 482ms/step\n",
            "1/1 [==============================] - 1s 550ms/step\n",
            "1/1 [==============================] - 1s 515ms/step\n",
            "1/1 [==============================] - 1s 547ms/step\n",
            "1/1 [==============================] - 0s 466ms/step\n",
            "1/1 [==============================] - 0s 475ms/step\n",
            "1/1 [==============================] - 1s 549ms/step\n",
            "1/1 [==============================] - 1s 515ms/step\n",
            "1/1 [==============================] - 1s 557ms/step\n",
            "1/1 [==============================] - 1s 555ms/step\n",
            "1/1 [==============================] - 1s 558ms/step\n",
            "1/1 [==============================] - 1s 554ms/step\n",
            "1/1 [==============================] - 1s 560ms/step\n",
            "1/1 [==============================] - 1s 543ms/step\n",
            "1/1 [==============================] - 1s 509ms/step\n",
            "1/1 [==============================] - 1s 554ms/step\n",
            "1/1 [==============================] - 1s 564ms/step\n",
            "1/1 [==============================] - 1s 528ms/step\n",
            "1/1 [==============================] - 1s 542ms/step\n",
            "1/1 [==============================] - 1s 545ms/step\n",
            "1/1 [==============================] - 1s 544ms/step\n",
            "1/1 [==============================] - 1s 540ms/step\n",
            "1/1 [==============================] - 1s 534ms/step\n",
            "1/1 [==============================] - 1s 537ms/step\n",
            "1/1 [==============================] - 1s 537ms/step\n",
            "1/1 [==============================] - 1s 540ms/step\n",
            "1/1 [==============================] - 1s 543ms/step\n",
            "1/1 [==============================] - 1s 540ms/step\n",
            "1/1 [==============================] - 1s 537ms/step\n",
            "1/1 [==============================] - 1s 549ms/step\n",
            "1/1 [==============================] - 1s 548ms/step\n",
            "1/1 [==============================] - 1s 553ms/step\n",
            "1/1 [==============================] - 1s 537ms/step\n",
            "1/1 [==============================] - 1s 551ms/step\n",
            "1/1 [==============================] - 1s 556ms/step\n",
            "1/1 [==============================] - 1s 548ms/step\n",
            "1/1 [==============================] - 1s 551ms/step\n",
            "1/1 [==============================] - 1s 544ms/step\n",
            "1/1 [==============================] - 0s 488ms/step\n",
            "1/1 [==============================] - 0s 494ms/step\n",
            "1/1 [==============================] - 2s 2s/step\n",
            "Original Inference Time: 82.16 seconds\n",
            "Original Peak Memory Usage: 5.71 MB\n"
          ]
        }
      ]
    },
    {
      "cell_type": "code",
      "source": [
        "# Initial model evaluation metrics\n",
        "conf_matrix_original = confusion_matrix(y_true, y_pred)\n",
        "print(\"Confusion Matrix (Original):\")\n",
        "print(conf_matrix_original)\n",
        "\n",
        "print(\"Classification Report (Original):\")\n",
        "print(classification_report(y_true, y_pred, target_names=['normal', 'fault_BB', 'fault_SM', 'fault_RI']))"
      ],
      "metadata": {
        "colab": {
          "base_uri": "https://localhost:8080/"
        },
        "id": "5fZdCZrw5Ngd",
        "outputId": "b8af347a-4f08-4ff9-a4e5-6709b5b07b6c"
      },
      "execution_count": 9,
      "outputs": [
        {
          "output_type": "stream",
          "name": "stdout",
          "text": [
            "Confusion Matrix (Original):\n",
            "[[1004    0    0    0]\n",
            " [   0 1000    0    0]\n",
            " [   0    0 1000    0]\n",
            " [   0    0    0 1000]]\n",
            "Classification Report (Original):\n",
            "              precision    recall  f1-score   support\n",
            "\n",
            "      normal       1.00      1.00      1.00      1004\n",
            "    fault_BB       1.00      1.00      1.00      1000\n",
            "    fault_SM       1.00      1.00      1.00      1000\n",
            "    fault_RI       1.00      1.00      1.00      1000\n",
            "\n",
            "    accuracy                           1.00      4004\n",
            "   macro avg       1.00      1.00      1.00      4004\n",
            "weighted avg       1.00      1.00      1.00      4004\n",
            "\n"
          ]
        }
      ]
    },
    {
      "cell_type": "code",
      "source": [
        "# Visualize initial confusion matrix\n",
        "plt.figure(figsize=(8, 8))\n",
        "plt.imshow(conf_matrix_original, interpolation='nearest', cmap=plt.cm.Blues)\n",
        "plt.title('Confusion Matrix (Original)')\n",
        "plt.colorbar()\n",
        "tick_marks = np.arange(4)\n",
        "plt.xticks(tick_marks, ['Normal', 'Fault_BB', 'Fault_SM', 'Fault_RI'], rotation=45)\n",
        "plt.yticks(tick_marks, ['Normal', 'Fault_BB', 'Fault_SM', 'Fault_RI'])\n",
        "\n",
        "fmt = 'd'\n",
        "thresh = conf_matrix_original.max() / 2.\n",
        "for i, j in np.ndindex(conf_matrix_original.shape):\n",
        "    plt.text(j, i, format(conf_matrix_original[i, j], fmt),\n",
        "             ha=\"center\", va=\"center\",\n",
        "             color=\"white\" if conf_matrix_original[i, j] > thresh else \"black\")\n",
        "\n",
        "plt.ylabel('True label')\n",
        "plt.xlabel('Predicted label')\n",
        "plt.tight_layout()\n",
        "plt.show()"
      ],
      "metadata": {
        "colab": {
          "base_uri": "https://localhost:8080/",
          "height": 792
        },
        "id": "RWSiJxSx5NjI",
        "outputId": "4c887dd2-d54b-49f2-d336-f40794bcbee4"
      },
      "execution_count": 10,
      "outputs": [
        {
          "output_type": "display_data",
          "data": {
            "text/plain": [
              "<Figure size 800x800 with 2 Axes>"
            ],
            "image/png": "[encoded data removed]"
          },
          "metadata": {}
        }
      ]
    },
    {
      "cell_type": "code",
      "source": [
        "# Calculate additional initial metrics\n",
        "f1_original = f1_score(y_true, y_pred, average='weighted')\n",
        "precision_original = precision_score(y_true, y_pred, average='weighted')\n",
        "recall_original = recall_score(y_true, y_pred, average='weighted')\n",
        "\n",
        "print(f\"Original F1 Score: {f1_original:.2f}\")\n",
        "print(f\"Original Precision: {precision_original:.2f}\")\n",
        "print(f\"Original Recall: {recall_original:.2f}\")"
      ],
      "metadata": {
        "colab": {
          "base_uri": "https://localhost:8080/"
        },
        "id": "0NpFyc7p5Nle",
        "outputId": "dc825c8d-7bc4-4cc1-ed6c-ff1af0275f5f"
      },
      "execution_count": 11,
      "outputs": [
        {
          "output_type": "stream",
          "name": "stdout",
          "text": [
            "Original F1 Score: 1.00\n",
            "Original Precision: 1.00\n",
            "Original Recall: 1.00\n"
          ]
        }
      ]
    },
    {
      "cell_type": "code",
      "source": [
        "# Structured Pruning 적용\n",
        "def apply_structured_pruning(model, pruning_percentage=70):\n",
        "    for layer in model.layers:\n",
        "        if isinstance(layer, tf.keras.layers.Conv2D):\n",
        "            weights, biases = layer.get_weights()\n",
        "            num_filters = weights.shape[-1]\n",
        "            num_prune = int(num_filters * pruning_percentage / 100)\n",
        "\n",
        "            # Compute the L1 norm of the filters\n",
        "            filter_norms = np.sum(np.abs(weights), axis=(0, 1, 2))\n",
        "            prune_indices = np.argsort(filter_norms)[:num_prune]\n",
        "\n",
        "            # Set the weights of the pruned filters to zero\n",
        "            for idx in prune_indices:\n",
        "                weights[:, :, :, idx] = 0\n",
        "\n",
        "            layer.set_weights([weights, biases])\n",
        "\n",
        "apply_structured_pruning(model, pruning_percentage=70)\n",
        "\n",
        "# Recompile pruned model\n",
        "model.compile(optimizer=tf.keras.optimizers.Adam(learning_rate=0.001),\n",
        "              loss='sparse_categorical_crossentropy',\n",
        "              metrics=['accuracy'])"
      ],
      "metadata": {
        "id": "n8SUO-Zt5NtR"
      },
      "execution_count": 12,
      "outputs": []
    },
    {
      "cell_type": "code",
      "source": [
        "  # Train pruned model\n",
        "  history_pruned = model.fit(train_dataset, validation_data=validation_dataset, epochs=10, callbacks=[reduce_lr])"
      ],
      "metadata": {
        "colab": {
          "base_uri": "https://localhost:8080/"
        },
        "id": "RC8NcWqH43v-",
        "outputId": "b5054c44-3831-4416-9dda-753dd1c53743"
      },
      "execution_count": null,
      "outputs": [
        {
          "output_type": "stream",
          "name": "stdout",
          "text": [
            "Epoch 1/10\n",
            "376/376 [==============================] - 820s 2s/step - loss: 0.1321 - accuracy: 0.9723 - val_loss: 661.1310 - val_accuracy: 0.3013 - lr: 0.0010\n",
            "Epoch 2/10\n",
            "376/376 [==============================] - 790s 2s/step - loss: 0.0107 - accuracy: 0.9990 - val_loss: 0.0014 - val_accuracy: 0.9998 - lr: 0.0010\n",
            "Epoch 3/10\n",
            "376/376 [==============================] - 788s 2s/step - loss: 0.0037 - accuracy: 0.9994 - val_loss: 8.9101e-04 - val_accuracy: 0.9998 - lr: 0.0010\n",
            "Epoch 4/10\n",
            "376/376 [==============================] - 789s 2s/step - loss: 7.1375e-05 - accuracy: 1.0000 - val_loss: 0.0027 - val_accuracy: 0.9995 - lr: 0.0010\n",
            "Epoch 5/10\n",
            "376/376 [==============================] - 791s 2s/step - loss: 0.0013 - accuracy: 0.9999 - val_loss: 0.0010 - val_accuracy: 0.9998 - lr: 0.0010\n",
            "Epoch 6/10\n",
            "376/376 [==============================] - 785s 2s/step - loss: 0.0612 - accuracy: 0.9939 - val_loss: 0.0016 - val_accuracy: 0.9998 - lr: 0.0010\n",
            "Epoch 7/10\n",
            "376/376 [==============================] - 788s 2s/step - loss: 0.0129 - accuracy: 0.9977 - val_loss: 0.0018 - val_accuracy: 0.9990 - lr: 0.0010\n",
            "Epoch 8/10\n",
            "376/376 [==============================] - 787s 2s/step - loss: 0.0024 - accuracy: 0.9995 - val_loss: 8.2590e-04 - val_accuracy: 0.9998 - lr: 0.0010\n",
            "Epoch 9/10\n",
            "376/376 [==============================] - 793s 2s/step - loss: 2.7951e-05 - accuracy: 1.0000 - val_loss: 0.0014 - val_accuracy: 0.9998 - lr: 2.0000e-04\n",
            "Epoch 10/10\n",
            "278/376 [=====================>........] - ETA: 3:09 - loss: 2.1601e-05 - accuracy: 1.0000"
          ]
        }
      ]
    },
    {
      "cell_type": "code",
      "source": [
        "# Evaluate pruned model\n",
        "val_loss, val_acc = model.evaluate(validation_dataset)\n",
        "print(f\"Pruned Validation Loss: {val_loss}\")\n",
        "print(f\"Pruned Validation Accuracy: {val_acc}\")\n",
        "\n",
        "test_loss, test_acc = model.evaluate(test_dataset)\n",
        "print(f\"Pruned Test Loss: {test_loss}\")\n",
        "print(f\"Pruned Test Accuracy: {test_acc}\")"
      ],
      "metadata": {
        "id": "9ukNxNY743yV"
      },
      "execution_count": null,
      "outputs": []
    },
    {
      "cell_type": "code",
      "source": [
        "# Save pruned model\n",
        "model_for_export = tfmot.sparsity.keras.strip_pruning(model)"
      ],
      "metadata": {
        "id": "Kb7Rgxdv5neI"
      },
      "execution_count": null,
      "outputs": []
    },
    {
      "cell_type": "code",
      "source": [
        "# Save the pruned model and measure size\n",
        "model_for_export.save('pruned_motor_fault_classification_model.h5')\n",
        "pruned_model_size = os.path.getsize('pruned_motor_fault_classification_model.h5')\n",
        "print(f\"Pruned Model Size: {pruned_model_size / (1024 * 1024):.2f} MB\")"
      ],
      "metadata": {
        "id": "R2HR9qo75nhB"
      },
      "execution_count": null,
      "outputs": []
    },
    {
      "cell_type": "code",
      "source": [
        "# Measure pruned model inference time and memory usage\n",
        "start_time = time.time()\n",
        "tracemalloc.start()\n",
        "y_true_pruned, y_pred_pruned = [], []\n",
        "for batch in test_dataset:\n",
        "    images, labels = batch\n",
        "    y_true_pruned.extend(labels.numpy())\n",
        "    predictions_pruned = model_for_export.predict(images)\n",
        "    y_pred_pruned.extend(np.argmax(predictions_pruned, axis=1))\n",
        "end_time = time.time()\n",
        "current, peak = tracemalloc.get_traced_memory()\n",
        "tracemalloc.stop()\n",
        "pruned_inference_time = end_time - start_time\n",
        "pruned_peak_memory = peak / (1024 * 1024)\n",
        "print(f\"Pruned Inference Time: {pruned_inference_time:.2f} seconds\")\n",
        "print(f\"Pruned Peak Memory Usage: {pruned_peak_memory:.2f} MB\")"
      ],
      "metadata": {
        "id": "AHAwK68s5njZ"
      },
      "execution_count": null,
      "outputs": []
    },
    {
      "cell_type": "code",
      "source": [
        "# Pruned model evaluation metrics\n",
        "conf_matrix_pruned = confusion_matrix(y_true_pruned, y_pred_pruned)\n",
        "print(\"Confusion Matrix (Pruned):\")\n",
        "print(conf_matrix_pruned)\n",
        "\n",
        "print(\"Classification Report (Pruned):\")\n",
        "print(classification_report(y_true_pruned, y_pred_pruned, target_names=['normal', 'fault_BB', 'fault_SM', 'fault_RI']))"
      ],
      "metadata": {
        "id": "p6jrY1Ik5nly"
      },
      "execution_count": null,
      "outputs": []
    },
    {
      "cell_type": "code",
      "source": [
        "# Visualize pruned confusion matrix\n",
        "plt.figure(figsize=(8, 8))\n",
        "plt.imshow(conf_matrix_pruned, interpolation='nearest', cmap=plt.cm.Blues)\n",
        "plt.title('Confusion Matrix (Pruned)')\n",
        "plt.colorbar()\n",
        "tick_marks = np.arange(4)\n",
        "plt.xticks(tick_marks, ['Normal', 'Fault_BB', 'Fault_SM', 'Fault_RI'], rotation=45)\n",
        "plt.yticks(tick_marks, ['Normal', 'Fault_BB', 'Fault_SM', 'Fault_RI'])\n",
        "\n",
        "fmt = 'd'\n",
        "thresh = conf_matrix_pruned.max() / 2.\n",
        "for i, j in np.ndindex(conf_matrix_pruned.shape):\n",
        "    plt.text(j, i, format(conf_matrix_pruned[i, j], fmt),\n",
        "             ha=\"center\", va=\"center\",\n",
        "             color=\"white\" if conf_matrix_pruned[i, j] > thresh else \"black\")\n",
        "\n",
        "plt.ylabel('True label')\n",
        "plt.xlabel('Predicted label')\n",
        "plt.tight_layout()\n",
        "plt.show()"
      ],
      "metadata": {
        "id": "_8m33wgk5nom"
      },
      "execution_count": null,
      "outputs": []
    },
    {
      "cell_type": "code",
      "source": [
        "# Calculate additional pruned metrics\n",
        "f1_pruned = f1_score(y_true_pruned, y_pred_pruned, average='weighted')\n",
        "precision_pruned = precision_score(y_true_pruned, y_pred_pruned, average='weighted')\n",
        "recall_pruned = recall_score(y_true_pruned, y_pred_pruned, average='weighted')\n",
        "\n",
        "print(f\"Pruned F1 Score: {f1_pruned:.2f}\")\n",
        "print(f\"Pruned Precision: {precision_pruned:.2f}\")\n",
        "print(f\"Pruned Recall: {recall_pruned:.2f}\")"
      ],
      "metadata": {
        "id": "DjjT1sys5nrd"
      },
      "execution_count": null,
      "outputs": []
    },
    {
      "cell_type": "code",
      "source": [
        "# 양자화 인식 훈련을 위해 모델을 다시 정의\n",
        "quantize_model = tfmot.quantization.keras.quantize_model\n",
        "\n",
        "# PTQ 양자화 적용\n",
        "converter = tf.lite.TFLiteConverter.from_keras_model(model_for_export)\n",
        "converter.optimizations = [tf.lite.Optimize.DEFAULT]\n",
        "\n",
        "def representative_dataset_gen():\n",
        "    for images, labels in test_dataset.take(100):\n",
        "        for i in range(images.shape[0]):\n",
        "            yield [tf.expand_dims(images[i], 0)]\n",
        "\n",
        "converter.representative_dataset = representative_dataset_gen\n",
        "tflite_model = converter.convert()\n"
      ],
      "metadata": {
        "id": "lHa9ZWNsWNpz"
      },
      "execution_count": null,
      "outputs": []
    },
    {
      "cell_type": "code",
      "source": [
        "# Save the quantized model\n",
        "with open('quantized_motor_fault_classification_model.tflite', 'wb') as f:\n",
        "    f.write(tflite_model)\n",
        "\n",
        "quantized_model_size = os.path.getsize('quantized_motor_fault_classification_model.tflite')\n",
        "print(f\"Quantized Model Size: {quantized_model_size / (1024 * 1024):.2f} MB\")"
      ],
      "metadata": {
        "id": "1mdiQ8zFWlCB"
      },
      "execution_count": null,
      "outputs": []
    },
    {
      "cell_type": "code",
      "source": [
        "# Load the TFLite model and allocate tensors\n",
        "interpreter = tf.lite.Interpreter(model_path='quantized_motor_fault_classification_model.tflite')\n",
        "interpreter.allocate_tensors()\n",
        "\n",
        "# Get input and output tensors\n",
        "input_details = interpreter.get_input_details()\n",
        "output_details = interpreter.get_output_details()"
      ],
      "metadata": {
        "id": "sm18a-9oW3rD"
      },
      "execution_count": null,
      "outputs": []
    },
    {
      "cell_type": "code",
      "source": [
        "# Test the model on test dataset\n",
        "start_time = time.time()\n",
        "tracemalloc.start()\n",
        "y_true_quant, y_pred_quant = [], []\n",
        "\n",
        "for batch in test_dataset:\n",
        "    images, labels = batch\n",
        "    y_true_quant.extend(labels.numpy())\n",
        "    for i in range(images.shape[0]):\n",
        "        interpreter.set_tensor(input_details[0]['index'], [images[i].numpy()])\n",
        "        interpreter.invoke()\n",
        "        output_data = interpreter.get_tensor(output_details[0]['index'])\n",
        "        y_pred_quant.append(np.argmax(output_data))\n",
        "\n",
        "end_time = time.time()\n",
        "current, peak = tracemalloc.get_traced_memory()\n",
        "tracemalloc.stop()\n",
        "quantized_inference_time = end_time - start_time\n",
        "quantized_peak_memory = peak / (1024 * 1024)\n",
        "print(f\"Quantized Inference Time: {quantized_inference_time:.2f} seconds\")\n",
        "print(f\"Quantized Peak Memory Usage: {quantized_peak_memory:.2f} MB\")\n"
      ],
      "metadata": {
        "id": "gzEFNsNqW8oJ"
      },
      "execution_count": null,
      "outputs": []
    },
    {
      "cell_type": "code",
      "source": [
        "# Quantized model evaluation metrics\n",
        "conf_matrix_quant = confusion_matrix(y_true_quant, y_pred_quant)\n",
        "print(\"Confusion Matrix (Quantized):\")\n",
        "print(conf_matrix_quant)\n",
        "\n",
        "print(\"Classification Report (Quantized):\")\n",
        "print(classification_report(y_true_quant, y_pred_quant, target_names=['normal', 'fault_BB', 'fault_SM', 'fault_RI']))\n"
      ],
      "metadata": {
        "id": "nEE5VCvEW9e-"
      },
      "execution_count": null,
      "outputs": []
    },
    {
      "cell_type": "code",
      "source": [
        "# Visualize quantized confusion matrix\n",
        "plt.figure(figsize=(8, 8))\n",
        "plt.imshow(conf_matrix_quant, interpolation='nearest', cmap=plt.cm.Blues)\n",
        "plt.title('Confusion Matrix (Quantized)')\n",
        "plt.colorbar()\n",
        "tick_marks = np.arange(4)\n",
        "plt.xticks(tick_marks, ['Normal', 'Fault_BB', 'Fault_SM', 'Fault_RI'], rotation=45)\n",
        "plt.yticks(tick_marks, ['Normal', 'Fault_BB', 'Fault_SM', 'Fault_RI'])\n",
        "\n",
        "fmt = 'd'\n",
        "thresh = conf_matrix_quant.max() / 2.\n",
        "for i, j in np.ndindex(conf_matrix_quant.shape):\n",
        "    plt.text(j, i, format(conf_matrix_quant[i, j], fmt),\n",
        "             ha=\"center\", va=\"center\",\n",
        "             color=\"white\" if conf_matrix_quant[i, j] > thresh else \"black\")\n",
        "\n",
        "plt.ylabel('True label')\n",
        "plt.xlabel('Predicted label')\n",
        "plt.tight_layout()\n",
        "plt.show()"
      ],
      "metadata": {
        "id": "3CW2Wc1yW_uE"
      },
      "execution_count": null,
      "outputs": []
    },
    {
      "cell_type": "code",
      "source": [
        "# 추가 양자화 모델 메트릭 계산\n",
        "f1_quant = f1_score(y_true_quant, y_pred_quant, average='weighted')\n",
        "precision_quant = precision_score(y_true_quant, y_pred_quant, average='weighted')\n",
        "recall_quant = recall_score(y_true_quant, y_pred_quant, average='weighted')\n",
        "\n",
        "print(f\"Quantized F1 Score: {f1_quant:.2f}\")\n",
        "print(f\"Quantized Precision: {precision_quant:.2f}\")\n",
        "print(f\"Quantized Recall: {recall_quant:.2f}\")"
      ],
      "metadata": {
        "id": "TBgfQAJXDrPr"
      },
      "execution_count": null,
      "outputs": []
    },
    {
      "cell_type": "code",
      "source": [
        "# 최종 결과 요약 및 비교\n",
        "print(f\"\\nSummary of Results:\")\n",
        "print(f\"Original Model Size: {original_model_size / (1024 * 1024):.2f} MB\")\n",
        "print(f\"Pruned Model Size: {pruned_model_size / (1024 * 1024):.2f} MB\")\n",
        "print(f\"Quantized Model Size: {quantized_model_size / (1024 * 1024):.2f} MB\")\n",
        "\n",
        "print(f\"Original Inference Time: {original_inference_time:.2f} seconds\")\n",
        "print(f\"Pruned Inference Time: {pruned_inference_time:.2f} seconds\")\n",
        "print(f\"Quantized Inference Time: {quantized_inference_time:.2f} seconds\")\n",
        "\n",
        "print(f\"Original Peak Memory Usage: {original_peak_memory:.2f} MB\")\n",
        "print(f\"Pruned Peak Memory Usage: {pruned_peak_memory:.2f} MB\")\n",
        "print(f\"Quantized Peak Memory Usage: {quantized_peak_memory:.2f} MB\")\n",
        "\n",
        "print(f\"Original F1 Score: {f1_original:.2f}\")\n",
        "print(f\"Pruned F1 Score: {f1_pruned:.2f}\")\n",
        "print(f\"Quantized F1 Score: {f1_quant:.2f}\")\n",
        "\n",
        "print(f\"Original Precision: {precision_original:.2f}\")\n",
        "print(f\"Pruned Precision: {precision_pruned:.2f}\")\n",
        "print(f\"Quantized Precision: {precision_quant:.2f}\")\n",
        "\n",
        "print(f\"Original Recall: {recall_original:.2f}\")\n",
        "print(f\"Pruned Recall: {recall_pruned:.2f}\")\n",
        "print(f\"Quantized Recall: {recall_quant:.2f}\")"
      ],
      "metadata": {
        "id": "sOAcoXMhXBue"
      },
      "execution_count": null,
      "outputs": []
    }
  ]
}