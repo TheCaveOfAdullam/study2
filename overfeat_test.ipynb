{
  "nbformat": 4,
  "nbformat_minor": 0,
  "metadata": {
    "colab": {
      "provenance": [],
      "machine_shape": "hm",
      "gpuType": "V28",
      "authorship_tag": "ABX9TyPJalv0zIQaPyCHHEZ6TRN2",
      "include_colab_link": true
    },
    "kernelspec": {
      "name": "python3",
      "display_name": "Python 3"
    },
    "language_info": {
      "name": "python"
    },
    "accelerator": "TPU"
  },
  "cells": [
    {
      "cell_type": "markdown",
      "metadata": {
        "id": "view-in-github",
        "colab_type": "text"
      },
      "source": [
        "<a href=\"https://colab.research.google.com/github/TheCaveOfAdullam/study2/blob/main/overfeat_test.ipynb\" target=\"_parent\"><img src=\"https://colab.research.google.com/assets/colab-badge.svg\" alt=\"Open In Colab\"/></a>"
      ]
    },
    {
      "cell_type": "code",
      "execution_count": 2,
      "metadata": {
        "colab": {
          "base_uri": "https://localhost:8080/"
        },
        "id": "l-9Nuw7ed0M1",
        "outputId": "53b1e8be-2699-4722-d15d-d760e323d545"
      },
      "outputs": [
        {
          "output_type": "stream",
          "name": "stdout",
          "text": [
            "Mounted at /content/drive\n"
          ]
        }
      ],
      "source": [
        "from google.colab import drive\n",
        "drive.mount('/content/drive')"
      ]
    },
    {
      "cell_type": "code",
      "source": [
        "import numpy as np\n",
        "import tensorflow as tf\n",
        "from tensorflow.keras.preprocessing import image_dataset_from_directory\n",
        "from tensorflow.keras.applications import ResNet50\n",
        "from tensorflow.keras.layers import GlobalAveragePooling2D, Dense, Dropout\n",
        "from tensorflow.keras.callbacks import ReduceLROnPlateau, EarlyStopping\n",
        "from tensorflow.keras.regularizers import l2\n",
        "import matplotlib.pyplot as plt\n",
        "from sklearn.metrics import confusion_matrix, classification_report, f1_score, roc_curve"
      ],
      "metadata": {
        "id": "qrH5nf6jemdk"
      },
      "execution_count": 3,
      "outputs": []
    },
    {
      "cell_type": "code",
      "source": [
        "# 경로 정의\n",
        "train_dir = '/content/drive/MyDrive/ship_motor/train'\n",
        "validation_dir = '/content/drive/MyDrive/ship_motor/validation'\n",
        "test_dir = '/content/drive/MyDrive/ship_motor/test'\n",
        "\n",
        "# 변경된 이미지 크기와 배치 크기\n",
        "image_size = (224, 224)\n",
        "batch_size = 32\n",
        "\n",
        "# # 이미지 데이터 증강\n",
        "# datagen = tf.keras.preprocessing.image.ImageDataGenerator(\n",
        "#     rotation_range=20,\n",
        "#     width_shift_range=0.2,\n",
        "#     height_shift_range=0.2,\n",
        "#     shear_range=0.2,\n",
        "#     zoom_range=0.2,\n",
        "#     horizontal_flip=True,\n",
        "#     fill_mode='nearest'\n",
        "# )\n",
        "\n",
        "# 이미지 데이터셋 로드\n",
        "train_dataset = image_dataset_from_directory(train_dir, image_size=image_size, batch_size=batch_size, label_mode='int')\n",
        "validation_dataset = image_dataset_from_directory(validation_dir, image_size=image_size, batch_size=batch_size, label_mode='int')\n",
        "test_dataset = image_dataset_from_directory(test_dir, image_size=image_size, batch_size=batch_size, label_mode='int')"
      ],
      "metadata": {
        "colab": {
          "base_uri": "https://localhost:8080/"
        },
        "id": "Wgbv5qWDemgE",
        "outputId": "a9dade51-594f-49a8-b9db-0e231f109698"
      },
      "execution_count": 5,
      "outputs": [
        {
          "output_type": "stream",
          "name": "stdout",
          "text": [
            "Found 7004 files belonging to 4 classes.\n",
            "Found 1278 files belonging to 4 classes.\n",
            "Found 1278 files belonging to 4 classes.\n"
          ]
        }
      ]
    },
    {
      "cell_type": "code",
      "source": [
        "# ResNet50 모델 불러오기\n",
        "base_model = ResNet50(weights='imagenet', include_top=False, input_shape=(224, 224, 3))\n",
        "\n",
        "# 기존의 top 레이어 추가\n",
        "model = tf.keras.Sequential([\n",
        "    base_model,\n",
        "    GlobalAveragePooling2D(),\n",
        "    Dropout(0.3),  # 첫 번째 드롭아웃 추가\n",
        "    Dense(256, activation='relu', kernel_regularizer=l2(0.01)),  # 모델 복잡도 조정 및 정규화\n",
        "    Dropout(0.5),  # 두 번째 드롭아웃 추가\n",
        "    Dense(128, activation='relu', kernel_regularizer=l2(0.01)),  # 중간에 또 하나의 Dense 레이어 추가\n",
        "    Dropout(0.5),  # 세 번째 드롭아웃 추가\n",
        "    Dense(4, activation='softmax')  # 4개의 클래스\n",
        "])\n",
        "\n",
        "# 모델 컴파일\n",
        "model.compile(optimizer=tf.keras.optimizers.Adam(learning_rate=0.001),\n",
        "              loss='sparse_categorical_crossentropy',\n",
        "              metrics=['accuracy'])\n",
        "\n",
        "# 조기 종료 및 학습률 감소 콜백 정의\n",
        "early_stopping = EarlyStopping(monitor='val_loss', patience=5, restore_best_weights=True)\n",
        "reduce_lr = ReduceLROnPlateau(monitor='val_loss', factor=0.5, patience=3, min_lr=0.000000001)"
      ],
      "metadata": {
        "id": "msjBFRKhemit",
        "colab": {
          "base_uri": "https://localhost:8080/"
        },
        "outputId": "7d6a01b4-592e-4914-9eee-559a4fc08f4c"
      },
      "execution_count": 6,
      "outputs": [
        {
          "output_type": "stream",
          "name": "stdout",
          "text": [
            "Downloading data from https://storage.googleapis.com/tensorflow/keras-applications/resnet/resnet50_weights_tf_dim_ordering_tf_kernels_notop.h5\n",
            "94765736/94765736 [==============================] - 1s 0us/step\n"
          ]
        }
      ]
    },
    {
      "cell_type": "code",
      "source": [
        "# 모델 학습\n",
        "history = model.fit(train_dataset, validation_data=validation_dataset, epochs=10, callbacks=[reduce_lr, early_stopping])"
      ],
      "metadata": {
        "colab": {
          "base_uri": "https://localhost:8080/"
        },
        "id": "TXOVpYg1emk7",
        "outputId": "13975e21-04bc-4a39-cd03-ac376a4762f2"
      },
      "execution_count": 7,
      "outputs": [
        {
          "output_type": "stream",
          "name": "stdout",
          "text": [
            "Epoch 1/10\n",
            "219/219 [==============================] - 502s 2s/step - loss: 2.1381 - accuracy: 0.9864 - val_loss: 0.4651 - val_accuracy: 0.9937 - lr: 0.0010\n",
            "Epoch 2/10\n",
            "219/219 [==============================] - 445s 2s/step - loss: 0.2184 - accuracy: 0.9999 - val_loss: 0.0946 - val_accuracy: 1.0000 - lr: 0.0010\n",
            "Epoch 3/10\n",
            "219/219 [==============================] - 441s 2s/step - loss: 0.0835 - accuracy: 0.9991 - val_loss: 0.0444 - val_accuracy: 1.0000 - lr: 0.0010\n",
            "Epoch 4/10\n",
            "219/219 [==============================] - 439s 2s/step - loss: 0.0472 - accuracy: 0.9996 - val_loss: 0.0323 - val_accuracy: 1.0000 - lr: 0.0010\n",
            "Epoch 5/10\n",
            "219/219 [==============================] - 439s 2s/step - loss: 0.0248 - accuracy: 0.9997 - val_loss: 0.1149 - val_accuracy: 1.0000 - lr: 0.0010\n",
            "Epoch 6/10\n",
            "219/219 [==============================] - 437s 2s/step - loss: 0.3276 - accuracy: 0.9734 - val_loss: 9.9208 - val_accuracy: 0.5853 - lr: 0.0010\n",
            "Epoch 7/10\n",
            "219/219 [==============================] - 437s 2s/step - loss: 0.0772 - accuracy: 0.9987 - val_loss: 2.0441 - val_accuracy: 0.7246 - lr: 0.0010\n",
            "Epoch 8/10\n",
            "219/219 [==============================] - 439s 2s/step - loss: 0.0712 - accuracy: 0.9984 - val_loss: 0.0684 - val_accuracy: 0.9953 - lr: 5.0000e-04\n",
            "Epoch 9/10\n",
            "219/219 [==============================] - 444s 2s/step - loss: 0.0371 - accuracy: 1.0000 - val_loss: 0.0255 - val_accuracy: 1.0000 - lr: 5.0000e-04\n",
            "Epoch 10/10\n",
            "219/219 [==============================] - 443s 2s/step - loss: 0.0265 - accuracy: 0.9997 - val_loss: 0.0469 - val_accuracy: 1.0000 - lr: 5.0000e-04\n"
          ]
        }
      ]
    },
    {
      "cell_type": "code",
      "source": [
        "# 학습 과정 시각화\n",
        "plt.figure(figsize=(12, 4))\n",
        "plt.subplot(1, 2, 1)\n",
        "plt.plot(history.history['loss'], label='Train Loss')\n",
        "plt.plot(history.history['val_loss'], label='Validation Loss')\n",
        "plt.xlabel('Epochs')\n",
        "plt.ylabel('Loss')\n",
        "plt.legend()\n",
        "plt.subplot(1, 2, 2)\n",
        "plt.plot(history.history['accuracy'], label='Train Accuracy')\n",
        "plt.plot(history.history['val_accuracy'], label='Validation Accuracy')\n",
        "plt.xlabel('Epochs')\n",
        "plt.ylabel('Accuracy')\n",
        "plt.legend()\n",
        "plt.show()"
      ],
      "metadata": {
        "id": "3z35W2Hzemnj",
        "colab": {
          "base_uri": "https://localhost:8080/",
          "height": 388
        },
        "outputId": "647d9b4e-fb19-4a0a-cbed-823c2dc9069f"
      },
      "execution_count": 8,
      "outputs": [
        {
          "output_type": "display_data",
          "data": {
            "text/plain": [
              "<Figure size 1200x400 with 2 Axes>"
            ],
            "image/png": "[encoded data removed]"
          },
          "metadata": {}
        }
      ]
    },
    {
      "cell_type": "code",
      "source": [
        "# 모델 검증\n",
        "val_loss, val_acc = model.evaluate(validation_dataset)\n",
        "print(f\"검증 손실: {val_loss}\")\n",
        "print(f\"검증 정확도: {val_acc}\")"
      ],
      "metadata": {
        "id": "nkdqlUr4emp7",
        "colab": {
          "base_uri": "https://localhost:8080/"
        },
        "outputId": "8ef88fa1-b661-4d0e-fd11-29230a247c98"
      },
      "execution_count": 9,
      "outputs": [
        {
          "output_type": "stream",
          "name": "stdout",
          "text": [
            "40/40 [==============================] - 22s 525ms/step - loss: 0.0469 - accuracy: 1.0000\n",
            "검증 손실: 0.04692905768752098\n",
            "검증 정확도: 1.0\n"
          ]
        }
      ]
    },
    {
      "cell_type": "code",
      "source": [
        "# 모델 테스트\n",
        "test_loss, test_acc = model.evaluate(test_dataset)\n",
        "print(f\"테스트 손실: {test_loss}\")\n",
        "print(f\"테스트 정확도: {test_acc}\")"
      ],
      "metadata": {
        "id": "ma3fuxF2emsb",
        "colab": {
          "base_uri": "https://localhost:8080/"
        },
        "outputId": "0a5be51d-dd8f-41b0-bd47-af079eaabfcd"
      },
      "execution_count": 10,
      "outputs": [
        {
          "output_type": "stream",
          "name": "stdout",
          "text": [
            "40/40 [==============================] - 23s 504ms/step - loss: 0.0507 - accuracy: 1.0000\n",
            "테스트 손실: 0.05070613697171211\n",
            "테스트 정확도: 1.0\n"
          ]
        }
      ]
    },
    {
      "cell_type": "code",
      "source": [
        "# 혼동 행렬 계산\n",
        "y_true = []\n",
        "y_pred = []\n",
        "\n",
        "for batch in test_dataset:\n",
        "    images, labels = batch\n",
        "    y_true.extend(labels.numpy())\n",
        "    predictions = model.predict(images)\n",
        "    y_pred.extend(np.argmax(predictions, axis=1))\n",
        "\n",
        "conf_matrix = confusion_matrix(y_true, y_pred)\n",
        "print(\"Confusion Matrix:\")\n",
        "print(conf_matrix)"
      ],
      "metadata": {
        "id": "MGPviqRwemvM",
        "colab": {
          "base_uri": "https://localhost:8080/"
        },
        "outputId": "fc99b8b7-b9d6-4738-efa7-25329a0bc761"
      },
      "execution_count": 11,
      "outputs": [
        {
          "output_type": "stream",
          "name": "stdout",
          "text": [
            "1/1 [==============================] - 1s 1s/step\n",
            "1/1 [==============================] - 0s 458ms/step\n",
            "1/1 [==============================] - 0s 453ms/step\n",
            "1/1 [==============================] - 0s 488ms/step\n",
            "1/1 [==============================] - 1s 503ms/step\n",
            "1/1 [==============================] - 0s 497ms/step\n",
            "1/1 [==============================] - 0s 472ms/step\n",
            "1/1 [==============================] - 0s 437ms/step\n",
            "1/1 [==============================] - 1s 520ms/step\n",
            "1/1 [==============================] - 1s 501ms/step\n",
            "1/1 [==============================] - 1s 536ms/step\n",
            "1/1 [==============================] - 1s 541ms/step\n",
            "1/1 [==============================] - 0s 486ms/step\n",
            "1/1 [==============================] - 1s 504ms/step\n",
            "1/1 [==============================] - 0s 478ms/step\n",
            "1/1 [==============================] - 0s 490ms/step\n",
            "1/1 [==============================] - 1s 508ms/step\n",
            "1/1 [==============================] - 0s 494ms/step\n",
            "1/1 [==============================] - 1s 525ms/step\n",
            "1/1 [==============================] - 1s 534ms/step\n",
            "1/1 [==============================] - 1s 522ms/step\n",
            "1/1 [==============================] - 1s 557ms/step\n",
            "1/1 [==============================] - 1s 542ms/step\n",
            "1/1 [==============================] - 0s 481ms/step\n",
            "1/1 [==============================] - 1s 531ms/step\n",
            "1/1 [==============================] - 0s 444ms/step\n",
            "1/1 [==============================] - 0s 446ms/step\n",
            "1/1 [==============================] - 1s 504ms/step\n",
            "1/1 [==============================] - 0s 500ms/step\n",
            "1/1 [==============================] - 1s 509ms/step\n",
            "1/1 [==============================] - 1s 535ms/step\n",
            "1/1 [==============================] - 1s 532ms/step\n",
            "1/1 [==============================] - 1s 525ms/step\n",
            "1/1 [==============================] - 1s 513ms/step\n",
            "1/1 [==============================] - 0s 499ms/step\n",
            "1/1 [==============================] - 1s 527ms/step\n",
            "1/1 [==============================] - 1s 536ms/step\n",
            "1/1 [==============================] - 1s 524ms/step\n",
            "1/1 [==============================] - 1s 550ms/step\n",
            "1/1 [==============================] - 1s 1s/step\n",
            "Confusion Matrix:\n",
            "[[176   0   0   0]\n",
            " [  0 176   0   0]\n",
            " [  0   0 176   0]\n",
            " [  0   0   0 750]]\n"
          ]
        }
      ]
    },
    {
      "cell_type": "code",
      "source": [
        "# Classification Report\n",
        "class_report = classification_report(y_true, y_pred)\n",
        "print(\"Classification Report:\")\n",
        "print(class_report)"
      ],
      "metadata": {
        "id": "n1gVAwUCe5oz",
        "colab": {
          "base_uri": "https://localhost:8080/"
        },
        "outputId": "836d586b-48cd-4438-f9b7-4f033b33a795"
      },
      "execution_count": 12,
      "outputs": [
        {
          "output_type": "stream",
          "name": "stdout",
          "text": [
            "Classification Report:\n",
            "              precision    recall  f1-score   support\n",
            "\n",
            "           0       1.00      1.00      1.00       176\n",
            "           1       1.00      1.00      1.00       176\n",
            "           2       1.00      1.00      1.00       176\n",
            "           3       1.00      1.00      1.00       750\n",
            "\n",
            "    accuracy                           1.00      1278\n",
            "   macro avg       1.00      1.00      1.00      1278\n",
            "weighted avg       1.00      1.00      1.00      1278\n",
            "\n"
          ]
        }
      ]
    },
    {
      "cell_type": "code",
      "source": [
        "# F1 Score\n",
        "f1 = f1_score(y_true, y_pred, average='weighted')\n",
        "print(f\"F1 Score: {f1}\")"
      ],
      "metadata": {
        "id": "zpCGTuqje5rS",
        "colab": {
          "base_uri": "https://localhost:8080/"
        },
        "outputId": "4ed016cf-89ee-4de6-a914-a6d2cb3a0fca"
      },
      "execution_count": 13,
      "outputs": [
        {
          "output_type": "stream",
          "name": "stdout",
          "text": [
            "F1 Score: 1.0\n"
          ]
        }
      ]
    },
    {
      "cell_type": "code",
      "source": [],
      "metadata": {
        "id": "3HI0O2aGe_M7"
      },
      "execution_count": null,
      "outputs": []
    }
  ]
}